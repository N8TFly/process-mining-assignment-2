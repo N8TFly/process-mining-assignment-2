{
 "cells": [
  {
   "cell_type": "markdown",
   "metadata": {},
   "source": [
    "# Load CSV/Parquet, change some necessary headers etc and transform to pm4py log object"
   ]
  },
  {
   "cell_type": "markdown",
   "metadata": {},
   "source": [
    "## Imports etc"
   ]
  },
  {
   "cell_type": "code",
   "execution_count": 1,
   "metadata": {},
   "outputs": [],
   "source": [
    "import pandas as pd\n",
    "pd.set_option('display.max_columns', None)\n",
    "from pm4py.objects.conversion.log import converter as log_converter\n",
    "from pm4py.objects.log.importer.xes import importer as xes_importer\n",
    "from pm4py.objects.log.util import dataframe_utils\n",
    "\n",
    "import utils\n",
    "\n",
    "READ_PARQUET = True  # faster, but have to create first\n",
    "CONVERT_REGULAR_DF_TO_LOG = False  # if True, transforms regular dataframe to log object in ~45min\n",
    "CONVERT_FILTERED_DF_TO_LOG = True  # if True, transforms filtered dataframe to log objects in ~X min \n",
    "\n",
    "SAMPLE = False  # take small sample to test whether all runs"
   ]
  },
  {
   "cell_type": "code",
   "execution_count": 2,
   "metadata": {},
   "outputs": [],
   "source": [
    "def convert_df_to_log(frame):\n",
    "    parameters = {\n",
    "        log_converter.Variants.TO_EVENT_LOG.value.Parameters.CASE_ID_KEY: 'Case ID',\n",
    "        log_converter.Variants.TO_EVENT_LOG.value.Parameters.CASE_ATTRIBUTE_PREFIX: '(case) ',\n",
    "    }\n",
    "    log = log_converter.apply(frame, parameters=parameters, variant=log_converter.Variants.TO_EVENT_LOG)\n",
    "    return log\n",
    "\n",
    "\n",
    "def calc_traces_removed(new: pd.Series, old: pd.Series) -> float:\n",
    "    perc_removed = (len(new) - len(old)) / len(old) * 100\n",
    "    return round(perc_removed, 2)\n",
    "\n",
    "\n",
    "def calc_events_removed(new: pd.Series, old: pd.Series) -> float:\n",
    "    perc_removed = (sum(new) - sum(old)) / sum(old) * 100\n",
    "    return round(perc_removed, 2)"
   ]
  },
  {
   "cell_type": "markdown",
   "metadata": {},
   "source": [
    "## Read data as DF"
   ]
  },
  {
   "cell_type": "code",
   "execution_count": 3,
   "metadata": {},
   "outputs": [
    {
     "name": "stdout",
     "output_type": "stream",
     "text": [
      "Reading parquet.\n",
      "Taking full dataset. \n"
     ]
    }
   ],
   "source": [
    "if READ_PARQUET:\n",
    "    print(\"Reading parquet.\")\n",
    "    df = utils.load_parquet_original()\n",
    "else:\n",
    "    print(\"Reading csv and savings as parquet.\")\n",
    "    df = utils.load_csv()\n",
    "    utils.save_parquet_original(df)\n",
    "    \n",
    "if SAMPLE:\n",
    "    print(\"Taking small sample.\")\n",
    "    df = df.iloc[:100]\n",
    "else:\n",
    "    print(\"Taking full dataset. \")"
   ]
  },
  {
   "cell_type": "code",
   "execution_count": 4,
   "metadata": {},
   "outputs": [
    {
     "data": {
      "text/html": [
       "<div>\n",
       "<style scoped>\n",
       "    .dataframe tbody tr th:only-of-type {\n",
       "        vertical-align: middle;\n",
       "    }\n",
       "\n",
       "    .dataframe tbody tr th {\n",
       "        vertical-align: top;\n",
       "    }\n",
       "\n",
       "    .dataframe thead th {\n",
       "        text-align: right;\n",
       "    }\n",
       "</style>\n",
       "<table border=\"1\" class=\"dataframe\">\n",
       "  <thead>\n",
       "    <tr style=\"text-align: right;\">\n",
       "      <th></th>\n",
       "      <th>Case ID</th>\n",
       "      <th>Activity</th>\n",
       "      <th>Resource</th>\n",
       "      <th>Complete Timestamp</th>\n",
       "      <th>Variant</th>\n",
       "      <th>Variant index</th>\n",
       "      <th>(case) amount_applied0</th>\n",
       "      <th>(case) amount_applied1</th>\n",
       "      <th>(case) amount_applied2</th>\n",
       "      <th>(case) amount_applied3</th>\n",
       "      <th>(case) applicant</th>\n",
       "      <th>(case) application</th>\n",
       "      <th>(case) area</th>\n",
       "      <th>(case) basic payment</th>\n",
       "      <th>(case) cross_compliance</th>\n",
       "      <th>(case) department</th>\n",
       "      <th>(case) greening</th>\n",
       "      <th>(case) number_parcels</th>\n",
       "      <th>(case) payment_actual0</th>\n",
       "      <th>(case) payment_actual1</th>\n",
       "      <th>(case) payment_actual2</th>\n",
       "      <th>(case) payment_actual3</th>\n",
       "      <th>(case) penalty_ABP</th>\n",
       "      <th>(case) penalty_AGP</th>\n",
       "      <th>(case) penalty_AJLP</th>\n",
       "      <th>(case) penalty_AUVP</th>\n",
       "      <th>(case) penalty_AVBP</th>\n",
       "      <th>(case) penalty_AVGP</th>\n",
       "      <th>(case) penalty_AVJLP</th>\n",
       "      <th>(case) penalty_AVUVP</th>\n",
       "      <th>(case) penalty_B16</th>\n",
       "      <th>(case) penalty_B2</th>\n",
       "      <th>(case) penalty_B3</th>\n",
       "      <th>(case) penalty_B4</th>\n",
       "      <th>(case) penalty_B5</th>\n",
       "      <th>(case) penalty_B5F</th>\n",
       "      <th>(case) penalty_B6</th>\n",
       "      <th>(case) penalty_BGK</th>\n",
       "      <th>(case) penalty_BGKV</th>\n",
       "      <th>(case) penalty_BGP</th>\n",
       "      <th>(case) penalty_C16</th>\n",
       "      <th>(case) penalty_C4</th>\n",
       "      <th>(case) penalty_C9</th>\n",
       "      <th>(case) penalty_CC</th>\n",
       "      <th>(case) penalty_GP1</th>\n",
       "      <th>(case) penalty_JLP1</th>\n",
       "      <th>(case) penalty_JLP2</th>\n",
       "      <th>(case) penalty_JLP3</th>\n",
       "      <th>(case) penalty_JLP5</th>\n",
       "      <th>(case) penalty_JLP6</th>\n",
       "      <th>(case) penalty_JLP7</th>\n",
       "      <th>(case) penalty_V5</th>\n",
       "      <th>(case) penalty_amount0</th>\n",
       "      <th>(case) penalty_amount1</th>\n",
       "      <th>(case) penalty_amount2</th>\n",
       "      <th>(case) penalty_amount3</th>\n",
       "      <th>(case) program-id</th>\n",
       "      <th>(case) redistribution</th>\n",
       "      <th>(case) rejected</th>\n",
       "      <th>(case) risk_factor</th>\n",
       "      <th>(case) selected_manually</th>\n",
       "      <th>(case) selected_random</th>\n",
       "      <th>(case) selected_risk</th>\n",
       "      <th>(case) small farmer</th>\n",
       "      <th>(case) year</th>\n",
       "      <th>(case) young farmer</th>\n",
       "      <th>activity</th>\n",
       "      <th>concept:name</th>\n",
       "      <th>docid</th>\n",
       "      <th>doctype</th>\n",
       "      <th>eventid</th>\n",
       "      <th>lifecycle:transition</th>\n",
       "      <th>note</th>\n",
       "      <th>subprocess</th>\n",
       "      <th>success</th>\n",
       "    </tr>\n",
       "  </thead>\n",
       "  <tbody>\n",
       "    <tr>\n",
       "      <th>0</th>\n",
       "      <td>8b99873a6136cfa6</td>\n",
       "      <td>Payment application-Application-mail income</td>\n",
       "      <td>0;n/a</td>\n",
       "      <td>2015/05/08 00:00:00.000</td>\n",
       "      <td>Variant 1832</td>\n",
       "      <td>1832</td>\n",
       "      <td>960.35</td>\n",
       "      <td>NaN</td>\n",
       "      <td>NaN</td>\n",
       "      <td>NaN</td>\n",
       "      <td>b3b1bafcf8a5c359</td>\n",
       "      <td>8b99873a6136cfa6</td>\n",
       "      <td>2.6994</td>\n",
       "      <td>True</td>\n",
       "      <td>0.0</td>\n",
       "      <td>e7</td>\n",
       "      <td>True</td>\n",
       "      <td>3</td>\n",
       "      <td>960.35</td>\n",
       "      <td>NaN</td>\n",
       "      <td>NaN</td>\n",
       "      <td>NaN</td>\n",
       "      <td>False</td>\n",
       "      <td>False</td>\n",
       "      <td>False</td>\n",
       "      <td>False</td>\n",
       "      <td>False</td>\n",
       "      <td>False</td>\n",
       "      <td>False</td>\n",
       "      <td>False</td>\n",
       "      <td>False</td>\n",
       "      <td>False</td>\n",
       "      <td>False</td>\n",
       "      <td>False</td>\n",
       "      <td>False</td>\n",
       "      <td>False</td>\n",
       "      <td>False</td>\n",
       "      <td>False</td>\n",
       "      <td>False</td>\n",
       "      <td>False</td>\n",
       "      <td>False</td>\n",
       "      <td>False</td>\n",
       "      <td>False</td>\n",
       "      <td>False</td>\n",
       "      <td>False</td>\n",
       "      <td>False</td>\n",
       "      <td>False</td>\n",
       "      <td>False</td>\n",
       "      <td>False</td>\n",
       "      <td>False</td>\n",
       "      <td>False</td>\n",
       "      <td>False</td>\n",
       "      <td>0.0</td>\n",
       "      <td>NaN</td>\n",
       "      <td>NaN</td>\n",
       "      <td>NaN</td>\n",
       "      <td>215</td>\n",
       "      <td>True</td>\n",
       "      <td>False</td>\n",
       "      <td>1.0</td>\n",
       "      <td>False</td>\n",
       "      <td>False</td>\n",
       "      <td>False</td>\n",
       "      <td>True</td>\n",
       "      <td>2015</td>\n",
       "      <td>False</td>\n",
       "      <td>mail income</td>\n",
       "      <td>mail income</td>\n",
       "      <td>-18008611495569447</td>\n",
       "      <td>Payment application</td>\n",
       "      <td>NaN</td>\n",
       "      <td>complete</td>\n",
       "      <td>none</td>\n",
       "      <td>Application</td>\n",
       "      <td>True</td>\n",
       "    </tr>\n",
       "  </tbody>\n",
       "</table>\n",
       "</div>"
      ],
      "text/plain": [
       "            Case ID                                     Activity Resource  \\\n",
       "0  8b99873a6136cfa6  Payment application-Application-mail income    0;n/a   \n",
       "\n",
       "        Complete Timestamp       Variant  Variant index  \\\n",
       "0  2015/05/08 00:00:00.000  Variant 1832           1832   \n",
       "\n",
       "   (case) amount_applied0  (case) amount_applied1  (case) amount_applied2  \\\n",
       "0                  960.35                     NaN                     NaN   \n",
       "\n",
       "   (case) amount_applied3  (case) applicant (case) application  (case) area  \\\n",
       "0                     NaN  b3b1bafcf8a5c359   8b99873a6136cfa6       2.6994   \n",
       "\n",
       "   (case) basic payment  (case) cross_compliance (case) department  \\\n",
       "0                  True                      0.0                e7   \n",
       "\n",
       "   (case) greening  (case) number_parcels  (case) payment_actual0  \\\n",
       "0             True                      3                  960.35   \n",
       "\n",
       "   (case) payment_actual1  (case) payment_actual2  (case) payment_actual3  \\\n",
       "0                     NaN                     NaN                     NaN   \n",
       "\n",
       "   (case) penalty_ABP  (case) penalty_AGP  (case) penalty_AJLP  \\\n",
       "0               False               False                False   \n",
       "\n",
       "   (case) penalty_AUVP  (case) penalty_AVBP  (case) penalty_AVGP  \\\n",
       "0                False                False                False   \n",
       "\n",
       "   (case) penalty_AVJLP  (case) penalty_AVUVP  (case) penalty_B16  \\\n",
       "0                 False                 False               False   \n",
       "\n",
       "   (case) penalty_B2  (case) penalty_B3  (case) penalty_B4  (case) penalty_B5  \\\n",
       "0              False              False              False              False   \n",
       "\n",
       "   (case) penalty_B5F  (case) penalty_B6  (case) penalty_BGK  \\\n",
       "0               False              False               False   \n",
       "\n",
       "   (case) penalty_BGKV  (case) penalty_BGP  (case) penalty_C16  \\\n",
       "0                False               False               False   \n",
       "\n",
       "   (case) penalty_C4  (case) penalty_C9  (case) penalty_CC  \\\n",
       "0              False              False              False   \n",
       "\n",
       "   (case) penalty_GP1  (case) penalty_JLP1  (case) penalty_JLP2  \\\n",
       "0               False                False                False   \n",
       "\n",
       "   (case) penalty_JLP3  (case) penalty_JLP5  (case) penalty_JLP6  \\\n",
       "0                False                False                False   \n",
       "\n",
       "   (case) penalty_JLP7  (case) penalty_V5  (case) penalty_amount0  \\\n",
       "0                False              False                     0.0   \n",
       "\n",
       "   (case) penalty_amount1  (case) penalty_amount2  (case) penalty_amount3  \\\n",
       "0                     NaN                     NaN                     NaN   \n",
       "\n",
       "   (case) program-id  (case) redistribution  (case) rejected  \\\n",
       "0                215                   True            False   \n",
       "\n",
       "   (case) risk_factor  (case) selected_manually  (case) selected_random  \\\n",
       "0                 1.0                     False                   False   \n",
       "\n",
       "   (case) selected_risk  (case) small farmer  (case) year  \\\n",
       "0                 False                 True         2015   \n",
       "\n",
       "   (case) young farmer     activity concept:name              docid  \\\n",
       "0                False  mail income  mail income -18008611495569447   \n",
       "\n",
       "               doctype  eventid lifecycle:transition  note   subprocess  \\\n",
       "0  Payment application      NaN             complete  none  Application   \n",
       "\n",
       "   success  \n",
       "0     True  "
      ]
     },
     "execution_count": 4,
     "metadata": {},
     "output_type": "execute_result"
    }
   ],
   "source": [
    "df.head(1)"
   ]
  },
  {
   "cell_type": "code",
   "execution_count": 5,
   "metadata": {},
   "outputs": [
    {
     "data": {
      "text/plain": [
       "Index(['(case) amount_applied0', '(case) amount_applied1',\n",
       "       '(case) amount_applied2', '(case) amount_applied3', '(case) applicant',\n",
       "       '(case) application', '(case) area', '(case) basic payment',\n",
       "       '(case) cross_compliance', '(case) department', '(case) greening',\n",
       "       '(case) number_parcels', '(case) payment_actual0',\n",
       "       '(case) payment_actual1', '(case) payment_actual2',\n",
       "       '(case) payment_actual3', '(case) penalty_ABP', '(case) penalty_AGP',\n",
       "       '(case) penalty_AJLP', '(case) penalty_AUVP', '(case) penalty_AVBP',\n",
       "       '(case) penalty_AVGP', '(case) penalty_AVJLP', '(case) penalty_AVUVP',\n",
       "       '(case) penalty_B16', '(case) penalty_B2', '(case) penalty_B3',\n",
       "       '(case) penalty_B4', '(case) penalty_B5', '(case) penalty_B5F',\n",
       "       '(case) penalty_B6', '(case) penalty_BGK', '(case) penalty_BGKV',\n",
       "       '(case) penalty_BGP', '(case) penalty_C16', '(case) penalty_C4',\n",
       "       '(case) penalty_C9', '(case) penalty_CC', '(case) penalty_GP1',\n",
       "       '(case) penalty_JLP1', '(case) penalty_JLP2', '(case) penalty_JLP3',\n",
       "       '(case) penalty_JLP5', '(case) penalty_JLP6', '(case) penalty_JLP7',\n",
       "       '(case) penalty_V5', '(case) penalty_amount0', '(case) penalty_amount1',\n",
       "       '(case) penalty_amount2', '(case) penalty_amount3', '(case) program-id',\n",
       "       '(case) redistribution', '(case) rejected', '(case) risk_factor',\n",
       "       '(case) selected_manually', '(case) selected_random',\n",
       "       '(case) selected_risk', '(case) small farmer', '(case) year',\n",
       "       '(case) young farmer', 'Activity', 'Case ID', 'Complete Timestamp',\n",
       "       'Resource', 'Variant', 'Variant index', 'activity', 'concept:name',\n",
       "       'docid', 'doctype', 'eventid', 'lifecycle:transition', 'note',\n",
       "       'subprocess', 'success'],\n",
       "      dtype='object')"
      ]
     },
     "execution_count": 5,
     "metadata": {},
     "output_type": "execute_result"
    }
   ],
   "source": [
    "df.columns.sort_values()"
   ]
  },
  {
   "cell_type": "markdown",
   "metadata": {},
   "source": [
    "## Change some column names"
   ]
  },
  {
   "cell_type": "code",
   "execution_count": 6,
   "metadata": {},
   "outputs": [],
   "source": [
    "df.rename(columns = {\n",
    "    'Resource': 'org:resource',\n",
    "    'Complete Timestamp': 'time:timestamp'\n",
    "}, inplace=True)"
   ]
  },
  {
   "cell_type": "markdown",
   "metadata": {},
   "source": [
    "## Fix timestamp"
   ]
  },
  {
   "cell_type": "code",
   "execution_count": 7,
   "metadata": {},
   "outputs": [],
   "source": [
    "df = dataframe_utils.convert_timestamp_columns_in_df(df)"
   ]
  },
  {
   "cell_type": "markdown",
   "metadata": {},
   "source": [
    "## Convert to pm4py log object and save as pickle"
   ]
  },
  {
   "cell_type": "code",
   "execution_count": 8,
   "metadata": {},
   "outputs": [
    {
     "name": "stdout",
     "output_type": "stream",
     "text": [
      "Not transforming and saving.\n"
     ]
    }
   ],
   "source": [
    "if CONVERT_REGULAR_DF_TO_LOG:\n",
    "    print(\"Transforming df into log and saving it. \")\n",
    "    log = convert_df_to_log(df)\n",
    "    utils.save_log_original(log)\n",
    "else:\n",
    "    print(\"Not transforming and saving.\")"
   ]
  },
  {
   "cell_type": "markdown",
   "metadata": {},
   "source": [
    "# Clean dataframe from outliers to be able to run comformance checking"
   ]
  },
  {
   "cell_type": "code",
   "execution_count": 9,
   "metadata": {},
   "outputs": [],
   "source": [
    "filtered_df = df.copy()"
   ]
  },
  {
   "cell_type": "code",
   "execution_count": 10,
   "metadata": {},
   "outputs": [
    {
     "data": {
      "text/html": [
       "<div>\n",
       "<style scoped>\n",
       "    .dataframe tbody tr th:only-of-type {\n",
       "        vertical-align: middle;\n",
       "    }\n",
       "\n",
       "    .dataframe tbody tr th {\n",
       "        vertical-align: top;\n",
       "    }\n",
       "\n",
       "    .dataframe thead th {\n",
       "        text-align: right;\n",
       "    }\n",
       "</style>\n",
       "<table border=\"1\" class=\"dataframe\">\n",
       "  <thead>\n",
       "    <tr style=\"text-align: right;\">\n",
       "      <th></th>\n",
       "      <th>Case ID</th>\n",
       "      <th>Activity</th>\n",
       "      <th>org:resource</th>\n",
       "      <th>time:timestamp</th>\n",
       "      <th>Variant</th>\n",
       "      <th>Variant index</th>\n",
       "      <th>(case) amount_applied0</th>\n",
       "      <th>(case) amount_applied1</th>\n",
       "      <th>(case) amount_applied2</th>\n",
       "      <th>(case) amount_applied3</th>\n",
       "      <th>(case) applicant</th>\n",
       "      <th>(case) application</th>\n",
       "      <th>(case) area</th>\n",
       "      <th>(case) basic payment</th>\n",
       "      <th>(case) cross_compliance</th>\n",
       "      <th>(case) department</th>\n",
       "      <th>(case) greening</th>\n",
       "      <th>(case) number_parcels</th>\n",
       "      <th>(case) payment_actual0</th>\n",
       "      <th>(case) payment_actual1</th>\n",
       "      <th>(case) payment_actual2</th>\n",
       "      <th>(case) payment_actual3</th>\n",
       "      <th>(case) penalty_ABP</th>\n",
       "      <th>(case) penalty_AGP</th>\n",
       "      <th>(case) penalty_AJLP</th>\n",
       "      <th>(case) penalty_AUVP</th>\n",
       "      <th>(case) penalty_AVBP</th>\n",
       "      <th>(case) penalty_AVGP</th>\n",
       "      <th>(case) penalty_AVJLP</th>\n",
       "      <th>(case) penalty_AVUVP</th>\n",
       "      <th>(case) penalty_B16</th>\n",
       "      <th>(case) penalty_B2</th>\n",
       "      <th>(case) penalty_B3</th>\n",
       "      <th>(case) penalty_B4</th>\n",
       "      <th>(case) penalty_B5</th>\n",
       "      <th>(case) penalty_B5F</th>\n",
       "      <th>(case) penalty_B6</th>\n",
       "      <th>(case) penalty_BGK</th>\n",
       "      <th>(case) penalty_BGKV</th>\n",
       "      <th>(case) penalty_BGP</th>\n",
       "      <th>(case) penalty_C16</th>\n",
       "      <th>(case) penalty_C4</th>\n",
       "      <th>(case) penalty_C9</th>\n",
       "      <th>(case) penalty_CC</th>\n",
       "      <th>(case) penalty_GP1</th>\n",
       "      <th>(case) penalty_JLP1</th>\n",
       "      <th>(case) penalty_JLP2</th>\n",
       "      <th>(case) penalty_JLP3</th>\n",
       "      <th>(case) penalty_JLP5</th>\n",
       "      <th>(case) penalty_JLP6</th>\n",
       "      <th>(case) penalty_JLP7</th>\n",
       "      <th>(case) penalty_V5</th>\n",
       "      <th>(case) penalty_amount0</th>\n",
       "      <th>(case) penalty_amount1</th>\n",
       "      <th>(case) penalty_amount2</th>\n",
       "      <th>(case) penalty_amount3</th>\n",
       "      <th>(case) program-id</th>\n",
       "      <th>(case) redistribution</th>\n",
       "      <th>(case) rejected</th>\n",
       "      <th>(case) risk_factor</th>\n",
       "      <th>(case) selected_manually</th>\n",
       "      <th>(case) selected_random</th>\n",
       "      <th>(case) selected_risk</th>\n",
       "      <th>(case) small farmer</th>\n",
       "      <th>(case) year</th>\n",
       "      <th>(case) young farmer</th>\n",
       "      <th>activity</th>\n",
       "      <th>concept:name</th>\n",
       "      <th>docid</th>\n",
       "      <th>doctype</th>\n",
       "      <th>eventid</th>\n",
       "      <th>lifecycle:transition</th>\n",
       "      <th>note</th>\n",
       "      <th>subprocess</th>\n",
       "      <th>success</th>\n",
       "    </tr>\n",
       "  </thead>\n",
       "  <tbody>\n",
       "    <tr>\n",
       "      <th>0</th>\n",
       "      <td>8b99873a6136cfa6</td>\n",
       "      <td>Payment application-Application-mail income</td>\n",
       "      <td>0;n/a</td>\n",
       "      <td>2015-05-08 00:00:00+00:00</td>\n",
       "      <td>Variant 1832</td>\n",
       "      <td>1832</td>\n",
       "      <td>960.35</td>\n",
       "      <td>NaN</td>\n",
       "      <td>NaN</td>\n",
       "      <td>NaN</td>\n",
       "      <td>b3b1bafcf8a5c359</td>\n",
       "      <td>8b99873a6136cfa6</td>\n",
       "      <td>2.6994</td>\n",
       "      <td>True</td>\n",
       "      <td>0.0</td>\n",
       "      <td>e7</td>\n",
       "      <td>True</td>\n",
       "      <td>3</td>\n",
       "      <td>960.35</td>\n",
       "      <td>NaN</td>\n",
       "      <td>NaN</td>\n",
       "      <td>NaN</td>\n",
       "      <td>False</td>\n",
       "      <td>False</td>\n",
       "      <td>False</td>\n",
       "      <td>False</td>\n",
       "      <td>False</td>\n",
       "      <td>False</td>\n",
       "      <td>False</td>\n",
       "      <td>False</td>\n",
       "      <td>False</td>\n",
       "      <td>False</td>\n",
       "      <td>False</td>\n",
       "      <td>False</td>\n",
       "      <td>False</td>\n",
       "      <td>False</td>\n",
       "      <td>False</td>\n",
       "      <td>False</td>\n",
       "      <td>False</td>\n",
       "      <td>False</td>\n",
       "      <td>False</td>\n",
       "      <td>False</td>\n",
       "      <td>False</td>\n",
       "      <td>False</td>\n",
       "      <td>False</td>\n",
       "      <td>False</td>\n",
       "      <td>False</td>\n",
       "      <td>False</td>\n",
       "      <td>False</td>\n",
       "      <td>False</td>\n",
       "      <td>False</td>\n",
       "      <td>False</td>\n",
       "      <td>0.0</td>\n",
       "      <td>NaN</td>\n",
       "      <td>NaN</td>\n",
       "      <td>NaN</td>\n",
       "      <td>215</td>\n",
       "      <td>True</td>\n",
       "      <td>False</td>\n",
       "      <td>1.0</td>\n",
       "      <td>False</td>\n",
       "      <td>False</td>\n",
       "      <td>False</td>\n",
       "      <td>True</td>\n",
       "      <td>2015</td>\n",
       "      <td>False</td>\n",
       "      <td>mail income</td>\n",
       "      <td>mail income</td>\n",
       "      <td>-18008611495569447</td>\n",
       "      <td>Payment application</td>\n",
       "      <td>NaN</td>\n",
       "      <td>complete</td>\n",
       "      <td>none</td>\n",
       "      <td>Application</td>\n",
       "      <td>True</td>\n",
       "    </tr>\n",
       "  </tbody>\n",
       "</table>\n",
       "</div>"
      ],
      "text/plain": [
       "            Case ID                                     Activity org:resource  \\\n",
       "0  8b99873a6136cfa6  Payment application-Application-mail income        0;n/a   \n",
       "\n",
       "             time:timestamp       Variant  Variant index  \\\n",
       "0 2015-05-08 00:00:00+00:00  Variant 1832           1832   \n",
       "\n",
       "   (case) amount_applied0  (case) amount_applied1  (case) amount_applied2  \\\n",
       "0                  960.35                     NaN                     NaN   \n",
       "\n",
       "   (case) amount_applied3  (case) applicant (case) application  (case) area  \\\n",
       "0                     NaN  b3b1bafcf8a5c359   8b99873a6136cfa6       2.6994   \n",
       "\n",
       "   (case) basic payment  (case) cross_compliance (case) department  \\\n",
       "0                  True                      0.0                e7   \n",
       "\n",
       "   (case) greening  (case) number_parcels  (case) payment_actual0  \\\n",
       "0             True                      3                  960.35   \n",
       "\n",
       "   (case) payment_actual1  (case) payment_actual2  (case) payment_actual3  \\\n",
       "0                     NaN                     NaN                     NaN   \n",
       "\n",
       "   (case) penalty_ABP  (case) penalty_AGP  (case) penalty_AJLP  \\\n",
       "0               False               False                False   \n",
       "\n",
       "   (case) penalty_AUVP  (case) penalty_AVBP  (case) penalty_AVGP  \\\n",
       "0                False                False                False   \n",
       "\n",
       "   (case) penalty_AVJLP  (case) penalty_AVUVP  (case) penalty_B16  \\\n",
       "0                 False                 False               False   \n",
       "\n",
       "   (case) penalty_B2  (case) penalty_B3  (case) penalty_B4  (case) penalty_B5  \\\n",
       "0              False              False              False              False   \n",
       "\n",
       "   (case) penalty_B5F  (case) penalty_B6  (case) penalty_BGK  \\\n",
       "0               False              False               False   \n",
       "\n",
       "   (case) penalty_BGKV  (case) penalty_BGP  (case) penalty_C16  \\\n",
       "0                False               False               False   \n",
       "\n",
       "   (case) penalty_C4  (case) penalty_C9  (case) penalty_CC  \\\n",
       "0              False              False              False   \n",
       "\n",
       "   (case) penalty_GP1  (case) penalty_JLP1  (case) penalty_JLP2  \\\n",
       "0               False                False                False   \n",
       "\n",
       "   (case) penalty_JLP3  (case) penalty_JLP5  (case) penalty_JLP6  \\\n",
       "0                False                False                False   \n",
       "\n",
       "   (case) penalty_JLP7  (case) penalty_V5  (case) penalty_amount0  \\\n",
       "0                False              False                     0.0   \n",
       "\n",
       "   (case) penalty_amount1  (case) penalty_amount2  (case) penalty_amount3  \\\n",
       "0                     NaN                     NaN                     NaN   \n",
       "\n",
       "   (case) program-id  (case) redistribution  (case) rejected  \\\n",
       "0                215                   True            False   \n",
       "\n",
       "   (case) risk_factor  (case) selected_manually  (case) selected_random  \\\n",
       "0                 1.0                     False                   False   \n",
       "\n",
       "   (case) selected_risk  (case) small farmer  (case) year  \\\n",
       "0                 False                 True         2015   \n",
       "\n",
       "   (case) young farmer     activity concept:name              docid  \\\n",
       "0                False  mail income  mail income -18008611495569447   \n",
       "\n",
       "               doctype  eventid lifecycle:transition  note   subprocess  \\\n",
       "0  Payment application      NaN             complete  none  Application   \n",
       "\n",
       "   success  \n",
       "0     True  "
      ]
     },
     "execution_count": 10,
     "metadata": {},
     "output_type": "execute_result"
    }
   ],
   "source": [
    "filtered_df.head(1)"
   ]
  },
  {
   "cell_type": "markdown",
   "metadata": {},
   "source": [
    "## Remove traces that have large number of events"
   ]
  },
  {
   "cell_type": "code",
   "execution_count": 11,
   "metadata": {},
   "outputs": [],
   "source": [
    "EVENTS_THRESHOLD = 155"
   ]
  },
  {
   "cell_type": "code",
   "execution_count": 12,
   "metadata": {},
   "outputs": [
    {
     "data": {
      "text/plain": [
       "93deb55be9aed2be    2973\n",
       "22b697e259a77e16    2490\n",
       "00101d737b58ff45     907\n",
       "6dcac1562d4ca766     864\n",
       "f8ad3caa0d29795c     788\n",
       "                    ... \n",
       "27c444298162c9c5      31\n",
       "2202b247728435e3      29\n",
       "06501822341c30a8      29\n",
       "a8118d96af27df2b      25\n",
       "e464e72a43e59a55      24\n",
       "Name: Case ID, Length: 43809, dtype: int64"
      ]
     },
     "execution_count": 12,
     "metadata": {},
     "output_type": "execute_result"
    }
   ],
   "source": [
    "nr_events_per_trace = filtered_df['Case ID'].value_counts()\n",
    "nr_events_per_trace"
   ]
  },
  {
   "cell_type": "code",
   "execution_count": 13,
   "metadata": {},
   "outputs": [
    {
     "data": {
      "text/plain": [
       "c4f9537e2403f7b6    155\n",
       "d598a1fd5fdeed9d    155\n",
       "dde5780dabe727a7    155\n",
       "2af4bcd51c5a2a72    155\n",
       "14d4d258673f2251    155\n",
       "                   ... \n",
       "27c444298162c9c5     31\n",
       "2202b247728435e3     29\n",
       "06501822341c30a8     29\n",
       "a8118d96af27df2b     25\n",
       "e464e72a43e59a55     24\n",
       "Name: Case ID, Length: 43242, dtype: int64"
      ]
     },
     "execution_count": 13,
     "metadata": {},
     "output_type": "execute_result"
    }
   ],
   "source": [
    "filtered_nr_events_per_trace = nr_events_per_trace[nr_events_per_trace <= EVENTS_THRESHOLD]\n",
    "filtered_nr_events_per_trace"
   ]
  },
  {
   "cell_type": "code",
   "execution_count": 14,
   "metadata": {},
   "outputs": [
    {
     "data": {
      "text/plain": [
       "93deb55be9aed2be    2973\n",
       "22b697e259a77e16    2490\n",
       "00101d737b58ff45     907\n",
       "6dcac1562d4ca766     864\n",
       "f8ad3caa0d29795c     788\n",
       "                    ... \n",
       "d074099deeaa0119     156\n",
       "ed0b469c38cf0949     156\n",
       "03e70a9871fa78f8     156\n",
       "1c45e283eedbf1ce     156\n",
       "a22c3943c849f374     156\n",
       "Name: Case ID, Length: 567, dtype: int64"
      ]
     },
     "execution_count": 14,
     "metadata": {},
     "output_type": "execute_result"
    }
   ],
   "source": [
    "removed_nr_events_per_trace = nr_events_per_trace[nr_events_per_trace > EVENTS_THRESHOLD]\n",
    "removed_nr_events_per_trace"
   ]
  },
  {
   "cell_type": "markdown",
   "metadata": {},
   "source": [
    "### Execute removal"
   ]
  },
  {
   "cell_type": "code",
   "execution_count": 15,
   "metadata": {},
   "outputs": [],
   "source": [
    "filtered_df = filtered_df[filtered_df['Case ID'].isin(filtered_nr_events_per_trace.index)]"
   ]
  },
  {
   "cell_type": "markdown",
   "metadata": {},
   "source": [
    "### Check how many traces removed"
   ]
  },
  {
   "cell_type": "code",
   "execution_count": 16,
   "metadata": {},
   "outputs": [
    {
     "name": "stdout",
     "output_type": "stream",
     "text": [
      "567 traces filtered from 43809 total nr of traces\n"
     ]
    }
   ],
   "source": [
    "print(f\"{len(removed_nr_events_per_trace)} traces filtered from {len(nr_events_per_trace)} total nr of traces\")"
   ]
  },
  {
   "cell_type": "code",
   "execution_count": 17,
   "metadata": {},
   "outputs": [
    {
     "data": {
      "text/plain": [
       "-1.29"
      ]
     },
     "execution_count": 17,
     "metadata": {},
     "output_type": "execute_result"
    }
   ],
   "source": [
    "calc_traces_removed(filtered_nr_events_per_trace, nr_events_per_trace)"
   ]
  },
  {
   "cell_type": "markdown",
   "metadata": {},
   "source": [
    "Above percentage of total traces removed. "
   ]
  },
  {
   "cell_type": "markdown",
   "metadata": {},
   "source": [
    "### Check how many events removed"
   ]
  },
  {
   "cell_type": "code",
   "execution_count": 18,
   "metadata": {},
   "outputs": [
    {
     "name": "stdout",
     "output_type": "stream",
     "text": [
      "138945 events filtered from 2514266 total nr of events\n"
     ]
    }
   ],
   "source": [
    "print(f\"{sum(removed_nr_events_per_trace)} events filtered from {sum(nr_events_per_trace)} total nr of events\")"
   ]
  },
  {
   "cell_type": "code",
   "execution_count": 19,
   "metadata": {},
   "outputs": [
    {
     "data": {
      "text/plain": [
       "-5.53"
      ]
     },
     "execution_count": 19,
     "metadata": {},
     "output_type": "execute_result"
    }
   ],
   "source": [
    "calc_events_removed(filtered_nr_events_per_trace, nr_events_per_trace)"
   ]
  },
  {
   "cell_type": "markdown",
   "metadata": {},
   "source": [
    "Above percentage of total events removed."
   ]
  },
  {
   "cell_type": "markdown",
   "metadata": {},
   "source": [
    "## Remove traces with long case duration"
   ]
  },
  {
   "cell_type": "code",
   "execution_count": 20,
   "metadata": {},
   "outputs": [
    {
     "data": {
      "text/plain": [
       "Timedelta('365 days 00:00:00')"
      ]
     },
     "execution_count": 20,
     "metadata": {},
     "output_type": "execute_result"
    }
   ],
   "source": [
    "DURATION_THRESHOLD = pd.Timedelta(value=365, unit='days')\n",
    "DURATION_THRESHOLD"
   ]
  },
  {
   "cell_type": "code",
   "execution_count": 21,
   "metadata": {},
   "outputs": [
    {
     "data": {
      "text/html": [
       "<div>\n",
       "<style scoped>\n",
       "    .dataframe tbody tr th:only-of-type {\n",
       "        vertical-align: middle;\n",
       "    }\n",
       "\n",
       "    .dataframe tbody tr th {\n",
       "        vertical-align: top;\n",
       "    }\n",
       "\n",
       "    .dataframe thead th {\n",
       "        text-align: right;\n",
       "    }\n",
       "</style>\n",
       "<table border=\"1\" class=\"dataframe\">\n",
       "  <thead>\n",
       "    <tr style=\"text-align: right;\">\n",
       "      <th></th>\n",
       "      <th>Case ID</th>\n",
       "      <th>Activity</th>\n",
       "      <th>org:resource</th>\n",
       "      <th>time:timestamp</th>\n",
       "      <th>Variant</th>\n",
       "      <th>Variant index</th>\n",
       "      <th>(case) amount_applied0</th>\n",
       "      <th>(case) amount_applied1</th>\n",
       "      <th>(case) amount_applied2</th>\n",
       "      <th>(case) amount_applied3</th>\n",
       "      <th>(case) applicant</th>\n",
       "      <th>(case) application</th>\n",
       "      <th>(case) area</th>\n",
       "      <th>(case) basic payment</th>\n",
       "      <th>(case) cross_compliance</th>\n",
       "      <th>(case) department</th>\n",
       "      <th>(case) greening</th>\n",
       "      <th>(case) number_parcels</th>\n",
       "      <th>(case) payment_actual0</th>\n",
       "      <th>(case) payment_actual1</th>\n",
       "      <th>(case) payment_actual2</th>\n",
       "      <th>(case) payment_actual3</th>\n",
       "      <th>(case) penalty_ABP</th>\n",
       "      <th>(case) penalty_AGP</th>\n",
       "      <th>(case) penalty_AJLP</th>\n",
       "      <th>(case) penalty_AUVP</th>\n",
       "      <th>(case) penalty_AVBP</th>\n",
       "      <th>(case) penalty_AVGP</th>\n",
       "      <th>(case) penalty_AVJLP</th>\n",
       "      <th>(case) penalty_AVUVP</th>\n",
       "      <th>(case) penalty_B16</th>\n",
       "      <th>(case) penalty_B2</th>\n",
       "      <th>(case) penalty_B3</th>\n",
       "      <th>(case) penalty_B4</th>\n",
       "      <th>(case) penalty_B5</th>\n",
       "      <th>(case) penalty_B5F</th>\n",
       "      <th>(case) penalty_B6</th>\n",
       "      <th>(case) penalty_BGK</th>\n",
       "      <th>(case) penalty_BGKV</th>\n",
       "      <th>(case) penalty_BGP</th>\n",
       "      <th>(case) penalty_C16</th>\n",
       "      <th>(case) penalty_C4</th>\n",
       "      <th>(case) penalty_C9</th>\n",
       "      <th>(case) penalty_CC</th>\n",
       "      <th>(case) penalty_GP1</th>\n",
       "      <th>(case) penalty_JLP1</th>\n",
       "      <th>(case) penalty_JLP2</th>\n",
       "      <th>(case) penalty_JLP3</th>\n",
       "      <th>(case) penalty_JLP5</th>\n",
       "      <th>(case) penalty_JLP6</th>\n",
       "      <th>(case) penalty_JLP7</th>\n",
       "      <th>(case) penalty_V5</th>\n",
       "      <th>(case) penalty_amount0</th>\n",
       "      <th>(case) penalty_amount1</th>\n",
       "      <th>(case) penalty_amount2</th>\n",
       "      <th>(case) penalty_amount3</th>\n",
       "      <th>(case) program-id</th>\n",
       "      <th>(case) redistribution</th>\n",
       "      <th>(case) rejected</th>\n",
       "      <th>(case) risk_factor</th>\n",
       "      <th>(case) selected_manually</th>\n",
       "      <th>(case) selected_random</th>\n",
       "      <th>(case) selected_risk</th>\n",
       "      <th>(case) small farmer</th>\n",
       "      <th>(case) year</th>\n",
       "      <th>(case) young farmer</th>\n",
       "      <th>activity</th>\n",
       "      <th>concept:name</th>\n",
       "      <th>docid</th>\n",
       "      <th>doctype</th>\n",
       "      <th>eventid</th>\n",
       "      <th>lifecycle:transition</th>\n",
       "      <th>note</th>\n",
       "      <th>subprocess</th>\n",
       "      <th>success</th>\n",
       "    </tr>\n",
       "  </thead>\n",
       "  <tbody>\n",
       "    <tr>\n",
       "      <th>0</th>\n",
       "      <td>8b99873a6136cfa6</td>\n",
       "      <td>Payment application-Application-mail income</td>\n",
       "      <td>0;n/a</td>\n",
       "      <td>2015-05-08 00:00:00+00:00</td>\n",
       "      <td>Variant 1832</td>\n",
       "      <td>1832</td>\n",
       "      <td>960.35</td>\n",
       "      <td>NaN</td>\n",
       "      <td>NaN</td>\n",
       "      <td>NaN</td>\n",
       "      <td>b3b1bafcf8a5c359</td>\n",
       "      <td>8b99873a6136cfa6</td>\n",
       "      <td>2.6994</td>\n",
       "      <td>True</td>\n",
       "      <td>0.0</td>\n",
       "      <td>e7</td>\n",
       "      <td>True</td>\n",
       "      <td>3</td>\n",
       "      <td>960.35</td>\n",
       "      <td>NaN</td>\n",
       "      <td>NaN</td>\n",
       "      <td>NaN</td>\n",
       "      <td>False</td>\n",
       "      <td>False</td>\n",
       "      <td>False</td>\n",
       "      <td>False</td>\n",
       "      <td>False</td>\n",
       "      <td>False</td>\n",
       "      <td>False</td>\n",
       "      <td>False</td>\n",
       "      <td>False</td>\n",
       "      <td>False</td>\n",
       "      <td>False</td>\n",
       "      <td>False</td>\n",
       "      <td>False</td>\n",
       "      <td>False</td>\n",
       "      <td>False</td>\n",
       "      <td>False</td>\n",
       "      <td>False</td>\n",
       "      <td>False</td>\n",
       "      <td>False</td>\n",
       "      <td>False</td>\n",
       "      <td>False</td>\n",
       "      <td>False</td>\n",
       "      <td>False</td>\n",
       "      <td>False</td>\n",
       "      <td>False</td>\n",
       "      <td>False</td>\n",
       "      <td>False</td>\n",
       "      <td>False</td>\n",
       "      <td>False</td>\n",
       "      <td>False</td>\n",
       "      <td>0.0</td>\n",
       "      <td>NaN</td>\n",
       "      <td>NaN</td>\n",
       "      <td>NaN</td>\n",
       "      <td>215</td>\n",
       "      <td>True</td>\n",
       "      <td>False</td>\n",
       "      <td>1.0</td>\n",
       "      <td>False</td>\n",
       "      <td>False</td>\n",
       "      <td>False</td>\n",
       "      <td>True</td>\n",
       "      <td>2015</td>\n",
       "      <td>False</td>\n",
       "      <td>mail income</td>\n",
       "      <td>mail income</td>\n",
       "      <td>-18008611495569447</td>\n",
       "      <td>Payment application</td>\n",
       "      <td>NaN</td>\n",
       "      <td>complete</td>\n",
       "      <td>none</td>\n",
       "      <td>Application</td>\n",
       "      <td>True</td>\n",
       "    </tr>\n",
       "  </tbody>\n",
       "</table>\n",
       "</div>"
      ],
      "text/plain": [
       "            Case ID                                     Activity org:resource  \\\n",
       "0  8b99873a6136cfa6  Payment application-Application-mail income        0;n/a   \n",
       "\n",
       "             time:timestamp       Variant  Variant index  \\\n",
       "0 2015-05-08 00:00:00+00:00  Variant 1832           1832   \n",
       "\n",
       "   (case) amount_applied0  (case) amount_applied1  (case) amount_applied2  \\\n",
       "0                  960.35                     NaN                     NaN   \n",
       "\n",
       "   (case) amount_applied3  (case) applicant (case) application  (case) area  \\\n",
       "0                     NaN  b3b1bafcf8a5c359   8b99873a6136cfa6       2.6994   \n",
       "\n",
       "   (case) basic payment  (case) cross_compliance (case) department  \\\n",
       "0                  True                      0.0                e7   \n",
       "\n",
       "   (case) greening  (case) number_parcels  (case) payment_actual0  \\\n",
       "0             True                      3                  960.35   \n",
       "\n",
       "   (case) payment_actual1  (case) payment_actual2  (case) payment_actual3  \\\n",
       "0                     NaN                     NaN                     NaN   \n",
       "\n",
       "   (case) penalty_ABP  (case) penalty_AGP  (case) penalty_AJLP  \\\n",
       "0               False               False                False   \n",
       "\n",
       "   (case) penalty_AUVP  (case) penalty_AVBP  (case) penalty_AVGP  \\\n",
       "0                False                False                False   \n",
       "\n",
       "   (case) penalty_AVJLP  (case) penalty_AVUVP  (case) penalty_B16  \\\n",
       "0                 False                 False               False   \n",
       "\n",
       "   (case) penalty_B2  (case) penalty_B3  (case) penalty_B4  (case) penalty_B5  \\\n",
       "0              False              False              False              False   \n",
       "\n",
       "   (case) penalty_B5F  (case) penalty_B6  (case) penalty_BGK  \\\n",
       "0               False              False               False   \n",
       "\n",
       "   (case) penalty_BGKV  (case) penalty_BGP  (case) penalty_C16  \\\n",
       "0                False               False               False   \n",
       "\n",
       "   (case) penalty_C4  (case) penalty_C9  (case) penalty_CC  \\\n",
       "0              False              False              False   \n",
       "\n",
       "   (case) penalty_GP1  (case) penalty_JLP1  (case) penalty_JLP2  \\\n",
       "0               False                False                False   \n",
       "\n",
       "   (case) penalty_JLP3  (case) penalty_JLP5  (case) penalty_JLP6  \\\n",
       "0                False                False                False   \n",
       "\n",
       "   (case) penalty_JLP7  (case) penalty_V5  (case) penalty_amount0  \\\n",
       "0                False              False                     0.0   \n",
       "\n",
       "   (case) penalty_amount1  (case) penalty_amount2  (case) penalty_amount3  \\\n",
       "0                     NaN                     NaN                     NaN   \n",
       "\n",
       "   (case) program-id  (case) redistribution  (case) rejected  \\\n",
       "0                215                   True            False   \n",
       "\n",
       "   (case) risk_factor  (case) selected_manually  (case) selected_random  \\\n",
       "0                 1.0                     False                   False   \n",
       "\n",
       "   (case) selected_risk  (case) small farmer  (case) year  \\\n",
       "0                 False                 True         2015   \n",
       "\n",
       "   (case) young farmer     activity concept:name              docid  \\\n",
       "0                False  mail income  mail income -18008611495569447   \n",
       "\n",
       "               doctype  eventid lifecycle:transition  note   subprocess  \\\n",
       "0  Payment application      NaN             complete  none  Application   \n",
       "\n",
       "   success  \n",
       "0     True  "
      ]
     },
     "execution_count": 21,
     "metadata": {},
     "output_type": "execute_result"
    }
   ],
   "source": [
    "filtered_df.head(1)"
   ]
  },
  {
   "cell_type": "code",
   "execution_count": 22,
   "metadata": {},
   "outputs": [
    {
     "data": {
      "text/plain": [
       "datetime64[ns, UTC]"
      ]
     },
     "execution_count": 22,
     "metadata": {},
     "output_type": "execute_result"
    }
   ],
   "source": [
    "filtered_df['time:timestamp'].dtype"
   ]
  },
  {
   "cell_type": "code",
   "execution_count": 23,
   "metadata": {},
   "outputs": [
    {
     "data": {
      "text/plain": [
       "Case ID\n",
       "0002505cb62792e4   2017-08-03 15:54:21.311000+00:00\n",
       "0002a55a6130cec8   2016-02-18 07:41:46.343000+00:00\n",
       "0004ff62053a60ce          2016-08-19 11:56:47+00:00\n",
       "000612b48d30de74   2016-09-14 11:47:48.425000+00:00\n",
       "0006cc909ce508b0          2017-06-15 09:24:55+00:00\n",
       "                                 ...               \n",
       "fffa80507910b904   2018-01-05 15:25:41.309000+00:00\n",
       "fffa93db29ee0841   2017-01-06 15:11:32.944000+00:00\n",
       "fffab10d958a3e4d   2017-01-06 14:12:05.156000+00:00\n",
       "fffabee101da7ecb   2018-01-05 15:05:15.215000+00:00\n",
       "fffadf8d083df3d5   2017-04-25 14:07:21.285000+00:00\n",
       "Name: time:timestamp, Length: 43242, dtype: datetime64[ns, UTC]"
      ]
     },
     "execution_count": 23,
     "metadata": {},
     "output_type": "execute_result"
    }
   ],
   "source": [
    "max_time = filtered_df.groupby('Case ID')['time:timestamp'].max()\n",
    "max_time"
   ]
  },
  {
   "cell_type": "code",
   "execution_count": 24,
   "metadata": {},
   "outputs": [
    {
     "data": {
      "text/plain": [
       "Case ID\n",
       "0002505cb62792e4   2015-04-28 00:00:00+00:00\n",
       "0002a55a6130cec8   2015-04-17 00:00:00+00:00\n",
       "0004ff62053a60ce   2015-05-11 00:00:00+00:00\n",
       "000612b48d30de74   2015-05-06 00:00:00+00:00\n",
       "0006cc909ce508b0   2016-04-28 00:00:00+00:00\n",
       "                              ...           \n",
       "fffa80507910b904   2017-05-10 00:00:00+00:00\n",
       "fffa93db29ee0841   2016-05-12 00:00:00+00:00\n",
       "fffab10d958a3e4d   2016-05-11 00:00:00+00:00\n",
       "fffabee101da7ecb   2017-05-11 00:00:00+00:00\n",
       "fffadf8d083df3d5   2015-04-28 00:00:00+00:00\n",
       "Name: time:timestamp, Length: 43242, dtype: datetime64[ns, UTC]"
      ]
     },
     "execution_count": 24,
     "metadata": {},
     "output_type": "execute_result"
    }
   ],
   "source": [
    "min_time = filtered_df.groupby('Case ID')['time:timestamp'].min()\n",
    "min_time"
   ]
  },
  {
   "cell_type": "code",
   "execution_count": 25,
   "metadata": {},
   "outputs": [
    {
     "data": {
      "text/plain": [
       "Case ID\n",
       "0002505cb62792e4   828 days 15:54:21.311000\n",
       "0002a55a6130cec8   307 days 07:41:46.343000\n",
       "0004ff62053a60ce          466 days 11:56:47\n",
       "000612b48d30de74   497 days 11:47:48.425000\n",
       "0006cc909ce508b0          413 days 09:24:55\n",
       "                             ...           \n",
       "fffa80507910b904   240 days 15:25:41.309000\n",
       "fffa93db29ee0841   239 days 15:11:32.944000\n",
       "fffab10d958a3e4d   240 days 14:12:05.156000\n",
       "fffabee101da7ecb   239 days 15:05:15.215000\n",
       "fffadf8d083df3d5   728 days 14:07:21.285000\n",
       "Name: time:timestamp, Length: 43242, dtype: timedelta64[ns]"
      ]
     },
     "execution_count": 25,
     "metadata": {},
     "output_type": "execute_result"
    }
   ],
   "source": [
    "duration_per_trace = max_time - min_time\n",
    "duration_per_trace"
   ]
  },
  {
   "cell_type": "code",
   "execution_count": 26,
   "metadata": {},
   "outputs": [
    {
     "data": {
      "text/plain": [
       "pandas._libs.tslibs.timedeltas.Timedelta"
      ]
     },
     "execution_count": 26,
     "metadata": {},
     "output_type": "execute_result"
    }
   ],
   "source": [
    "type(duration_per_trace.iloc[0])"
   ]
  },
  {
   "cell_type": "code",
   "execution_count": 27,
   "metadata": {},
   "outputs": [
    {
     "data": {
      "text/plain": [
       "Case ID\n",
       "0002a55a6130cec8   307 days 07:41:46.343000\n",
       "000b9e1ec3f77825   254 days 13:14:10.394000\n",
       "000c48f27157572d   236 days 15:16:18.907000\n",
       "000de8047a5a55db   358 days 10:40:58.142000\n",
       "0011ec2b7b948cdb   252 days 15:22:58.213000\n",
       "                             ...           \n",
       "fffa3cf2546632a2   247 days 14:53:17.235000\n",
       "fffa80507910b904   240 days 15:25:41.309000\n",
       "fffa93db29ee0841   239 days 15:11:32.944000\n",
       "fffab10d958a3e4d   240 days 14:12:05.156000\n",
       "fffabee101da7ecb   239 days 15:05:15.215000\n",
       "Name: time:timestamp, Length: 34415, dtype: timedelta64[ns]"
      ]
     },
     "execution_count": 27,
     "metadata": {},
     "output_type": "execute_result"
    }
   ],
   "source": [
    "filtered_duration_per_trace = duration_per_trace[duration_per_trace < DURATION_THRESHOLD]\n",
    "filtered_duration_per_trace"
   ]
  },
  {
   "cell_type": "code",
   "execution_count": 28,
   "metadata": {},
   "outputs": [
    {
     "data": {
      "text/plain": [
       "Case ID\n",
       "0002505cb62792e4   828 days 15:54:21.311000\n",
       "0004ff62053a60ce          466 days 11:56:47\n",
       "000612b48d30de74   497 days 11:47:48.425000\n",
       "0006cc909ce508b0          413 days 09:24:55\n",
       "000843b028f083e2   619 days 11:11:42.951000\n",
       "                             ...           \n",
       "ffe6c2b90896445e          881 days 07:15:30\n",
       "ffebb3a36fc7caee   839 days 15:22:11.992000\n",
       "fff1a78a2add360e          476 days 10:22:53\n",
       "fff750353a66eba6   609 days 19:50:07.759000\n",
       "fffadf8d083df3d5   728 days 14:07:21.285000\n",
       "Name: time:timestamp, Length: 8827, dtype: timedelta64[ns]"
      ]
     },
     "execution_count": 28,
     "metadata": {},
     "output_type": "execute_result"
    }
   ],
   "source": [
    "removed_duration_per_trace = duration_per_trace[duration_per_trace >= DURATION_THRESHOLD]\n",
    "removed_duration_per_trace"
   ]
  },
  {
   "cell_type": "markdown",
   "metadata": {},
   "source": [
    "### Execute removal"
   ]
  },
  {
   "cell_type": "code",
   "execution_count": 29,
   "metadata": {},
   "outputs": [],
   "source": [
    "filtered_df = filtered_df[filtered_df['Case ID'].isin(filtered_duration_per_trace.index)]"
   ]
  },
  {
   "cell_type": "markdown",
   "metadata": {},
   "source": [
    "### Check how many traces removed"
   ]
  },
  {
   "cell_type": "code",
   "execution_count": 30,
   "metadata": {},
   "outputs": [
    {
     "data": {
      "text/plain": [
       "-20.41"
      ]
     },
     "execution_count": 30,
     "metadata": {},
     "output_type": "execute_result"
    }
   ],
   "source": [
    "calc_traces_removed(filtered_duration_per_trace, duration_per_trace)"
   ]
  },
  {
   "cell_type": "markdown",
   "metadata": {},
   "source": [
    "Above percentage of traces removed (on top of the first percentage)"
   ]
  },
  {
   "cell_type": "code",
   "execution_count": 31,
   "metadata": {},
   "outputs": [
    {
     "data": {
      "text/plain": [
       "-21.44"
      ]
     },
     "execution_count": 31,
     "metadata": {},
     "output_type": "execute_result"
    }
   ],
   "source": [
    "calc_traces_removed(filtered_duration_per_trace, nr_events_per_trace)"
   ]
  },
  {
   "cell_type": "markdown",
   "metadata": {},
   "source": [
    "Above total percentage of traces removed (first and second percentage combined)"
   ]
  },
  {
   "cell_type": "markdown",
   "metadata": {},
   "source": [
    "### Check how many events removed"
   ]
  },
  {
   "cell_type": "code",
   "execution_count": 32,
   "metadata": {},
   "outputs": [
    {
     "data": {
      "text/plain": [
       "c4f9537e2403f7b6    155\n",
       "d598a1fd5fdeed9d    155\n",
       "dde5780dabe727a7    155\n",
       "2af4bcd51c5a2a72    155\n",
       "14d4d258673f2251    155\n",
       "                   ... \n",
       "27c444298162c9c5     31\n",
       "2202b247728435e3     29\n",
       "06501822341c30a8     29\n",
       "a8118d96af27df2b     25\n",
       "e464e72a43e59a55     24\n",
       "Name: Case ID, Length: 43242, dtype: int64"
      ]
     },
     "execution_count": 32,
     "metadata": {},
     "output_type": "execute_result"
    }
   ],
   "source": [
    "filtered_nr_events_per_trace"
   ]
  },
  {
   "cell_type": "code",
   "execution_count": 33,
   "metadata": {},
   "outputs": [
    {
     "data": {
      "text/plain": [
       "Case ID\n",
       "0002a55a6130cec8     40\n",
       "000b9e1ec3f77825     77\n",
       "000c48f27157572d    105\n",
       "000de8047a5a55db     62\n",
       "0011ec2b7b948cdb     40\n",
       "                   ... \n",
       "fffa3cf2546632a2     47\n",
       "fffa80507910b904     49\n",
       "fffa93db29ee0841     49\n",
       "fffab10d958a3e4d     39\n",
       "fffabee101da7ecb     47\n",
       "Name: time:timestamp, Length: 34415, dtype: int64"
      ]
     },
     "execution_count": 33,
     "metadata": {},
     "output_type": "execute_result"
    }
   ],
   "source": [
    "second_filtered_nr_events_per_trace = filtered_df.groupby('Case ID')['time:timestamp'].count()\n",
    "second_filtered_nr_events_per_trace"
   ]
  },
  {
   "cell_type": "code",
   "execution_count": 34,
   "metadata": {},
   "outputs": [
    {
     "data": {
      "text/plain": [
       "-24.86"
      ]
     },
     "execution_count": 34,
     "metadata": {},
     "output_type": "execute_result"
    }
   ],
   "source": [
    "calc_events_removed(second_filtered_nr_events_per_trace, filtered_nr_events_per_trace)"
   ]
  },
  {
   "cell_type": "markdown",
   "metadata": {},
   "source": [
    "Above percentage of events removed (on top of the first percentage)"
   ]
  },
  {
   "cell_type": "code",
   "execution_count": 35,
   "metadata": {},
   "outputs": [
    {
     "data": {
      "text/plain": [
       "-29.01"
      ]
     },
     "execution_count": 35,
     "metadata": {},
     "output_type": "execute_result"
    }
   ],
   "source": [
    "calc_events_removed(second_filtered_nr_events_per_trace, nr_events_per_trace)"
   ]
  },
  {
   "cell_type": "markdown",
   "metadata": {},
   "source": [
    "Above total percentage of events removed (first and second percentage combined)"
   ]
  },
  {
   "cell_type": "markdown",
   "metadata": {},
   "source": [
    "## Conclusion"
   ]
  },
  {
   "cell_type": "markdown",
   "metadata": {},
   "source": [
    "    Using events threshold of 155 and duration threshold of one year\n",
    "    22% of total number of traces is removed\n",
    "    29% of total number of events is removed"
   ]
  },
  {
   "cell_type": "markdown",
   "metadata": {},
   "source": [
    "## Filtered dataframe to filtered log object"
   ]
  },
  {
   "cell_type": "code",
   "execution_count": null,
   "metadata": {},
   "outputs": [],
   "source": [
    "filtered_log = convert_df_to_log(filtered_df)"
   ]
  },
  {
   "cell_type": "code",
   "execution_count": null,
   "metadata": {},
   "outputs": [],
   "source": [
    "filtered_log"
   ]
  },
  {
   "cell_type": "code",
   "execution_count": null,
   "metadata": {},
   "outputs": [],
   "source": [
    "len(filtered_log)"
   ]
  },
  {
   "cell_type": "markdown",
   "metadata": {},
   "source": [
    "Above is number of traces remaining"
   ]
  },
  {
   "cell_type": "markdown",
   "metadata": {},
   "source": [
    "## Save filtered dataframe and filtered log object"
   ]
  },
  {
   "cell_type": "code",
   "execution_count": null,
   "metadata": {},
   "outputs": [],
   "source": [
    "utils.save_parquet_filtered(filtered_df)\n",
    "utils.save_log_filtered(filtered_log)"
   ]
  }
 ],
 "metadata": {
  "kernelspec": {
   "display_name": "Python 3",
   "language": "python",
   "name": "python3"
  },
  "language_info": {
   "codemirror_mode": {
    "name": "ipython",
    "version": 3
   },
   "file_extension": ".py",
   "mimetype": "text/x-python",
   "name": "python",
   "nbconvert_exporter": "python",
   "pygments_lexer": "ipython3",
   "version": "3.8.3"
  },
  "toc-autonumbering": true
 },
 "nbformat": 4,
 "nbformat_minor": 4
}
