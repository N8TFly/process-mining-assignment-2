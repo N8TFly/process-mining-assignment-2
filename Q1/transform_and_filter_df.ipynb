{
 "cells": [
  {
   "cell_type": "markdown",
   "metadata": {},
   "source": [
    "# Load CSV/Parquet, change some necessary headers etc and transform to pm4py log object"
   ]
  },
  {
   "cell_type": "markdown",
   "metadata": {},
   "source": [
    "## Imports etc"
   ]
  },
  {
   "cell_type": "code",
   "execution_count": 1,
   "metadata": {},
   "outputs": [],
   "source": [
    "import pandas as pd\n",
    "from pm4py.objects.conversion.log import converter as log_converter\n",
    "from pm4py.objects.log.importer.xes import importer as xes_importer\n",
    "from pm4py.objects.log.util import dataframe_utils\n",
    "\n",
    "import utils\n",
    "\n",
    "READ_PARQUET = True  # faster, but have to create first"
   ]
  },
  {
   "cell_type": "markdown",
   "metadata": {},
   "source": [
    "## Read data as DF"
   ]
  },
  {
   "cell_type": "code",
   "execution_count": 2,
   "metadata": {},
   "outputs": [
    {
     "name": "stdout",
     "output_type": "stream",
     "text": [
      "Reading parquet.\n"
     ]
    }
   ],
   "source": [
    "if READ_PARQUET:\n",
    "    print(\"Reading parquet.\")\n",
    "    df = utils.load_parquet()\n",
    "else:\n",
    "    print(\"Reading csv and savings as parquet.\")\n",
    "    df = utils.load_csv()\n",
    "    utils.save_parquet(df)"
   ]
  },
  {
   "cell_type": "code",
   "execution_count": 3,
   "metadata": {},
   "outputs": [
    {
     "data": {
      "text/html": [
       "<div>\n",
       "<style scoped>\n",
       "    .dataframe tbody tr th:only-of-type {\n",
       "        vertical-align: middle;\n",
       "    }\n",
       "\n",
       "    .dataframe tbody tr th {\n",
       "        vertical-align: top;\n",
       "    }\n",
       "\n",
       "    .dataframe thead th {\n",
       "        text-align: right;\n",
       "    }\n",
       "</style>\n",
       "<table border=\"1\" class=\"dataframe\">\n",
       "  <thead>\n",
       "    <tr style=\"text-align: right;\">\n",
       "      <th></th>\n",
       "      <th>Case ID</th>\n",
       "      <th>Activity</th>\n",
       "      <th>Resource</th>\n",
       "      <th>Complete Timestamp</th>\n",
       "      <th>Variant</th>\n",
       "      <th>Variant index</th>\n",
       "      <th>(case) amount_applied0</th>\n",
       "      <th>(case) amount_applied1</th>\n",
       "      <th>(case) amount_applied2</th>\n",
       "      <th>(case) amount_applied3</th>\n",
       "      <th>...</th>\n",
       "      <th>(case) young farmer</th>\n",
       "      <th>activity</th>\n",
       "      <th>concept:name</th>\n",
       "      <th>docid</th>\n",
       "      <th>doctype</th>\n",
       "      <th>eventid</th>\n",
       "      <th>lifecycle:transition</th>\n",
       "      <th>note</th>\n",
       "      <th>subprocess</th>\n",
       "      <th>success</th>\n",
       "    </tr>\n",
       "  </thead>\n",
       "  <tbody>\n",
       "    <tr>\n",
       "      <th>0</th>\n",
       "      <td>8b99873a6136cfa6</td>\n",
       "      <td>Payment application-Application-mail income</td>\n",
       "      <td>0;n/a</td>\n",
       "      <td>2015/05/08 00:00:00.000</td>\n",
       "      <td>Variant 1832</td>\n",
       "      <td>1832</td>\n",
       "      <td>960.35</td>\n",
       "      <td>NaN</td>\n",
       "      <td>NaN</td>\n",
       "      <td>NaN</td>\n",
       "      <td>...</td>\n",
       "      <td>False</td>\n",
       "      <td>mail income</td>\n",
       "      <td>mail income</td>\n",
       "      <td>-18008611495569447</td>\n",
       "      <td>Payment application</td>\n",
       "      <td>NaN</td>\n",
       "      <td>complete</td>\n",
       "      <td>none</td>\n",
       "      <td>Application</td>\n",
       "      <td>True</td>\n",
       "    </tr>\n",
       "  </tbody>\n",
       "</table>\n",
       "<p>1 rows × 75 columns</p>\n",
       "</div>"
      ],
      "text/plain": [
       "            Case ID                                     Activity Resource  \\\n",
       "0  8b99873a6136cfa6  Payment application-Application-mail income    0;n/a   \n",
       "\n",
       "        Complete Timestamp       Variant  Variant index  \\\n",
       "0  2015/05/08 00:00:00.000  Variant 1832           1832   \n",
       "\n",
       "   (case) amount_applied0  (case) amount_applied1  (case) amount_applied2  \\\n",
       "0                  960.35                     NaN                     NaN   \n",
       "\n",
       "   (case) amount_applied3  ... (case) young farmer     activity  concept:name  \\\n",
       "0                     NaN  ...               False  mail income   mail income   \n",
       "\n",
       "               docid              doctype eventid  lifecycle:transition  note  \\\n",
       "0 -18008611495569447  Payment application     NaN              complete  none   \n",
       "\n",
       "    subprocess  success  \n",
       "0  Application     True  \n",
       "\n",
       "[1 rows x 75 columns]"
      ]
     },
     "execution_count": 3,
     "metadata": {},
     "output_type": "execute_result"
    }
   ],
   "source": [
    "df.head(1)"
   ]
  },
  {
   "cell_type": "code",
   "execution_count": 4,
   "metadata": {},
   "outputs": [
    {
     "data": {
      "text/plain": [
       "Index(['(case) amount_applied0', '(case) amount_applied1',\n",
       "       '(case) amount_applied2', '(case) amount_applied3', '(case) applicant',\n",
       "       '(case) application', '(case) area', '(case) basic payment',\n",
       "       '(case) cross_compliance', '(case) department', '(case) greening',\n",
       "       '(case) number_parcels', '(case) payment_actual0',\n",
       "       '(case) payment_actual1', '(case) payment_actual2',\n",
       "       '(case) payment_actual3', '(case) penalty_ABP', '(case) penalty_AGP',\n",
       "       '(case) penalty_AJLP', '(case) penalty_AUVP', '(case) penalty_AVBP',\n",
       "       '(case) penalty_AVGP', '(case) penalty_AVJLP', '(case) penalty_AVUVP',\n",
       "       '(case) penalty_B16', '(case) penalty_B2', '(case) penalty_B3',\n",
       "       '(case) penalty_B4', '(case) penalty_B5', '(case) penalty_B5F',\n",
       "       '(case) penalty_B6', '(case) penalty_BGK', '(case) penalty_BGKV',\n",
       "       '(case) penalty_BGP', '(case) penalty_C16', '(case) penalty_C4',\n",
       "       '(case) penalty_C9', '(case) penalty_CC', '(case) penalty_GP1',\n",
       "       '(case) penalty_JLP1', '(case) penalty_JLP2', '(case) penalty_JLP3',\n",
       "       '(case) penalty_JLP5', '(case) penalty_JLP6', '(case) penalty_JLP7',\n",
       "       '(case) penalty_V5', '(case) penalty_amount0', '(case) penalty_amount1',\n",
       "       '(case) penalty_amount2', '(case) penalty_amount3', '(case) program-id',\n",
       "       '(case) redistribution', '(case) rejected', '(case) risk_factor',\n",
       "       '(case) selected_manually', '(case) selected_random',\n",
       "       '(case) selected_risk', '(case) small farmer', '(case) year',\n",
       "       '(case) young farmer', 'Activity', 'Case ID', 'Complete Timestamp',\n",
       "       'Resource', 'Variant', 'Variant index', 'activity', 'concept:name',\n",
       "       'docid', 'doctype', 'eventid', 'lifecycle:transition', 'note',\n",
       "       'subprocess', 'success'],\n",
       "      dtype='object')"
      ]
     },
     "execution_count": 4,
     "metadata": {},
     "output_type": "execute_result"
    }
   ],
   "source": [
    "df.columns.sort_values()"
   ]
  },
  {
   "cell_type": "markdown",
   "metadata": {},
   "source": [
    "## Change some column names"
   ]
  },
  {
   "cell_type": "code",
   "execution_count": 5,
   "metadata": {},
   "outputs": [],
   "source": [
    "df.rename(columns = {\n",
    "    'Resource': 'org:resource',\n",
    "    'Complete Timestamp': 'time:timestamp'\n",
    "}, inplace=True)"
   ]
  },
  {
   "cell_type": "markdown",
   "metadata": {},
   "source": [
    "## Fix timestamp"
   ]
  },
  {
   "cell_type": "code",
   "execution_count": 6,
   "metadata": {},
   "outputs": [],
   "source": [
    "df = dataframe_utils.convert_timestamp_columns_in_df(df)"
   ]
  },
  {
   "cell_type": "markdown",
   "metadata": {},
   "source": [
    "## Convert to pm4py log object"
   ]
  },
  {
   "cell_type": "code",
   "execution_count": 7,
   "metadata": {},
   "outputs": [],
   "source": [
    "# Can change some parameters about default columns etc and use these as input for the log converter\n",
    "parameters = {\n",
    "    log_converter.Variants.TO_EVENT_LOG.value.Parameters.CASE_ID_KEY: 'Case ID',\n",
    "    log_converter.Variants.TO_EVENT_LOG.value.Parameters.CASE_ATTRIBUTE_PREFIX: '(case) ',\n",
    "}\n",
    "log = log_converter.apply(df, parameters=parameters, variant=log_converter.Variants.TO_EVENT_LOG)"
   ]
  },
  {
   "cell_type": "markdown",
   "metadata": {},
   "source": [
    "## Pickle log object"
   ]
  },
  {
   "cell_type": "code",
   "execution_count": 8,
   "metadata": {},
   "outputs": [],
   "source": [
    "utils.save_log(log)"
   ]
  },
  {
   "cell_type": "markdown",
   "metadata": {},
   "source": [
    "# Clean dataframe from outliers to be able to run comformance checking"
   ]
  },
  {
   "cell_type": "code",
   "execution_count": 8,
   "metadata": {},
   "outputs": [],
   "source": [
    "filtered_df = df.copy()"
   ]
  },
  {
   "cell_type": "code",
   "execution_count": 9,
   "metadata": {},
   "outputs": [
    {
     "data": {
      "text/html": [
       "<div>\n",
       "<style scoped>\n",
       "    .dataframe tbody tr th:only-of-type {\n",
       "        vertical-align: middle;\n",
       "    }\n",
       "\n",
       "    .dataframe tbody tr th {\n",
       "        vertical-align: top;\n",
       "    }\n",
       "\n",
       "    .dataframe thead th {\n",
       "        text-align: right;\n",
       "    }\n",
       "</style>\n",
       "<table border=\"1\" class=\"dataframe\">\n",
       "  <thead>\n",
       "    <tr style=\"text-align: right;\">\n",
       "      <th></th>\n",
       "      <th>Case ID</th>\n",
       "      <th>Activity</th>\n",
       "      <th>org:resource</th>\n",
       "      <th>time:timestamp</th>\n",
       "      <th>Variant</th>\n",
       "      <th>Variant index</th>\n",
       "      <th>(case) amount_applied0</th>\n",
       "      <th>(case) amount_applied1</th>\n",
       "      <th>(case) amount_applied2</th>\n",
       "      <th>(case) amount_applied3</th>\n",
       "      <th>...</th>\n",
       "      <th>(case) young farmer</th>\n",
       "      <th>activity</th>\n",
       "      <th>concept:name</th>\n",
       "      <th>docid</th>\n",
       "      <th>doctype</th>\n",
       "      <th>eventid</th>\n",
       "      <th>lifecycle:transition</th>\n",
       "      <th>note</th>\n",
       "      <th>subprocess</th>\n",
       "      <th>success</th>\n",
       "    </tr>\n",
       "  </thead>\n",
       "  <tbody>\n",
       "    <tr>\n",
       "      <th>0</th>\n",
       "      <td>8b99873a6136cfa6</td>\n",
       "      <td>Payment application-Application-mail income</td>\n",
       "      <td>0;n/a</td>\n",
       "      <td>2015-05-08 00:00:00+00:00</td>\n",
       "      <td>Variant 1832</td>\n",
       "      <td>1832</td>\n",
       "      <td>960.35</td>\n",
       "      <td>NaN</td>\n",
       "      <td>NaN</td>\n",
       "      <td>NaN</td>\n",
       "      <td>...</td>\n",
       "      <td>False</td>\n",
       "      <td>mail income</td>\n",
       "      <td>mail income</td>\n",
       "      <td>-18008611495569447</td>\n",
       "      <td>Payment application</td>\n",
       "      <td>NaN</td>\n",
       "      <td>complete</td>\n",
       "      <td>none</td>\n",
       "      <td>Application</td>\n",
       "      <td>True</td>\n",
       "    </tr>\n",
       "    <tr>\n",
       "      <th>1</th>\n",
       "      <td>8b99873a6136cfa6</td>\n",
       "      <td>Payment application-Application-mail valid</td>\n",
       "      <td>0;n/a</td>\n",
       "      <td>2015-05-08 00:00:00+00:00</td>\n",
       "      <td>Variant 1832</td>\n",
       "      <td>1832</td>\n",
       "      <td>960.35</td>\n",
       "      <td>NaN</td>\n",
       "      <td>NaN</td>\n",
       "      <td>NaN</td>\n",
       "      <td>...</td>\n",
       "      <td>False</td>\n",
       "      <td>mail valid</td>\n",
       "      <td>mail valid</td>\n",
       "      <td>-18008611495569447</td>\n",
       "      <td>Payment application</td>\n",
       "      <td>NaN</td>\n",
       "      <td>complete</td>\n",
       "      <td>none</td>\n",
       "      <td>Application</td>\n",
       "      <td>True</td>\n",
       "    </tr>\n",
       "    <tr>\n",
       "      <th>2</th>\n",
       "      <td>8b99873a6136cfa6</td>\n",
       "      <td>Entitlement application-Main-mail valid</td>\n",
       "      <td>0;n/a</td>\n",
       "      <td>2015-05-08 00:00:00+00:00</td>\n",
       "      <td>Variant 1832</td>\n",
       "      <td>1832</td>\n",
       "      <td>960.35</td>\n",
       "      <td>NaN</td>\n",
       "      <td>NaN</td>\n",
       "      <td>NaN</td>\n",
       "      <td>...</td>\n",
       "      <td>False</td>\n",
       "      <td>mail valid</td>\n",
       "      <td>mail valid</td>\n",
       "      <td>-18008615298673397</td>\n",
       "      <td>Entitlement application</td>\n",
       "      <td>NaN</td>\n",
       "      <td>complete</td>\n",
       "      <td>none</td>\n",
       "      <td>Main</td>\n",
       "      <td>True</td>\n",
       "    </tr>\n",
       "    <tr>\n",
       "      <th>3</th>\n",
       "      <td>8b99873a6136cfa6</td>\n",
       "      <td>Entitlement application-Main-mail valid</td>\n",
       "      <td>0;n/a</td>\n",
       "      <td>2015-05-08 00:00:00+00:00</td>\n",
       "      <td>Variant 1832</td>\n",
       "      <td>1832</td>\n",
       "      <td>960.35</td>\n",
       "      <td>NaN</td>\n",
       "      <td>NaN</td>\n",
       "      <td>NaN</td>\n",
       "      <td>...</td>\n",
       "      <td>False</td>\n",
       "      <td>mail valid</td>\n",
       "      <td>mail valid</td>\n",
       "      <td>-18008615298673397</td>\n",
       "      <td>Entitlement application</td>\n",
       "      <td>NaN</td>\n",
       "      <td>complete</td>\n",
       "      <td>none</td>\n",
       "      <td>Main</td>\n",
       "      <td>True</td>\n",
       "    </tr>\n",
       "    <tr>\n",
       "      <th>4</th>\n",
       "      <td>8b99873a6136cfa6</td>\n",
       "      <td>Parcel document-Main-initialize</td>\n",
       "      <td>fb5fa8</td>\n",
       "      <td>2015-06-10 11:16:28+00:00</td>\n",
       "      <td>Variant 1832</td>\n",
       "      <td>1832</td>\n",
       "      <td>960.35</td>\n",
       "      <td>NaN</td>\n",
       "      <td>NaN</td>\n",
       "      <td>NaN</td>\n",
       "      <td>...</td>\n",
       "      <td>False</td>\n",
       "      <td>initialize</td>\n",
       "      <td>initialize</td>\n",
       "      <td>-72051858488795160</td>\n",
       "      <td>Parcel document</td>\n",
       "      <td>-7.205186e+16</td>\n",
       "      <td>complete</td>\n",
       "      <td>none</td>\n",
       "      <td>Main</td>\n",
       "      <td>True</td>\n",
       "    </tr>\n",
       "    <tr>\n",
       "      <th>...</th>\n",
       "      <td>...</td>\n",
       "      <td>...</td>\n",
       "      <td>...</td>\n",
       "      <td>...</td>\n",
       "      <td>...</td>\n",
       "      <td>...</td>\n",
       "      <td>...</td>\n",
       "      <td>...</td>\n",
       "      <td>...</td>\n",
       "      <td>...</td>\n",
       "      <td>...</td>\n",
       "      <td>...</td>\n",
       "      <td>...</td>\n",
       "      <td>...</td>\n",
       "      <td>...</td>\n",
       "      <td>...</td>\n",
       "      <td>...</td>\n",
       "      <td>...</td>\n",
       "      <td>...</td>\n",
       "      <td>...</td>\n",
       "      <td>...</td>\n",
       "    </tr>\n",
       "    <tr>\n",
       "      <th>2514261</th>\n",
       "      <td>ad5dfa0b929735be</td>\n",
       "      <td>Payment application-Application-decide</td>\n",
       "      <td>155add</td>\n",
       "      <td>2017-12-11 10:26:39.692000+00:00</td>\n",
       "      <td>Variant 28923</td>\n",
       "      <td>28923</td>\n",
       "      <td>5117.97</td>\n",
       "      <td>NaN</td>\n",
       "      <td>NaN</td>\n",
       "      <td>NaN</td>\n",
       "      <td>...</td>\n",
       "      <td>False</td>\n",
       "      <td>decide</td>\n",
       "      <td>decide</td>\n",
       "      <td>-54037160734808716</td>\n",
       "      <td>Payment application</td>\n",
       "      <td>-9.006594e+16</td>\n",
       "      <td>complete</td>\n",
       "      <td>automatic</td>\n",
       "      <td>Application</td>\n",
       "      <td>True</td>\n",
       "    </tr>\n",
       "    <tr>\n",
       "      <th>2514262</th>\n",
       "      <td>ad5dfa0b929735be</td>\n",
       "      <td>Payment application-Application-begin payment</td>\n",
       "      <td>DP-Z</td>\n",
       "      <td>2017-12-15 16:00:12.252000+00:00</td>\n",
       "      <td>Variant 28923</td>\n",
       "      <td>28923</td>\n",
       "      <td>5117.97</td>\n",
       "      <td>NaN</td>\n",
       "      <td>NaN</td>\n",
       "      <td>NaN</td>\n",
       "      <td>...</td>\n",
       "      <td>False</td>\n",
       "      <td>begin payment</td>\n",
       "      <td>begin payment</td>\n",
       "      <td>-54037160734808716</td>\n",
       "      <td>Payment application</td>\n",
       "      <td>-9.006594e+16</td>\n",
       "      <td>complete</td>\n",
       "      <td>automatic during payment</td>\n",
       "      <td>Application</td>\n",
       "      <td>True</td>\n",
       "    </tr>\n",
       "    <tr>\n",
       "      <th>2514263</th>\n",
       "      <td>ad5dfa0b929735be</td>\n",
       "      <td>Payment application-Application-insert document</td>\n",
       "      <td>Notification automaton</td>\n",
       "      <td>2017-12-15 19:19:04.499000+00:00</td>\n",
       "      <td>Variant 28923</td>\n",
       "      <td>28923</td>\n",
       "      <td>5117.97</td>\n",
       "      <td>NaN</td>\n",
       "      <td>NaN</td>\n",
       "      <td>NaN</td>\n",
       "      <td>...</td>\n",
       "      <td>False</td>\n",
       "      <td>insert document</td>\n",
       "      <td>insert document</td>\n",
       "      <td>-54037160734808716</td>\n",
       "      <td>Payment application</td>\n",
       "      <td>-9.006594e+16</td>\n",
       "      <td>complete</td>\n",
       "      <td>notification for applicant</td>\n",
       "      <td>Application</td>\n",
       "      <td>True</td>\n",
       "    </tr>\n",
       "    <tr>\n",
       "      <th>2514264</th>\n",
       "      <td>ad5dfa0b929735be</td>\n",
       "      <td>Payment application-Application-insert document</td>\n",
       "      <td>Notification automaton</td>\n",
       "      <td>2017-12-20 09:02:30.380000+00:00</td>\n",
       "      <td>Variant 28923</td>\n",
       "      <td>28923</td>\n",
       "      <td>5117.97</td>\n",
       "      <td>NaN</td>\n",
       "      <td>NaN</td>\n",
       "      <td>NaN</td>\n",
       "      <td>...</td>\n",
       "      <td>False</td>\n",
       "      <td>insert document</td>\n",
       "      <td>insert document</td>\n",
       "      <td>-54037160734808716</td>\n",
       "      <td>Payment application</td>\n",
       "      <td>-1.260947e+17</td>\n",
       "      <td>complete</td>\n",
       "      <td>notification for applicant</td>\n",
       "      <td>Application</td>\n",
       "      <td>False</td>\n",
       "    </tr>\n",
       "    <tr>\n",
       "      <th>2514265</th>\n",
       "      <td>ad5dfa0b929735be</td>\n",
       "      <td>Payment application-Application-finish payment</td>\n",
       "      <td>DP-Z</td>\n",
       "      <td>2018-01-05 14:45:52.100000+00:00</td>\n",
       "      <td>Variant 28923</td>\n",
       "      <td>28923</td>\n",
       "      <td>5117.97</td>\n",
       "      <td>NaN</td>\n",
       "      <td>NaN</td>\n",
       "      <td>NaN</td>\n",
       "      <td>...</td>\n",
       "      <td>False</td>\n",
       "      <td>finish payment</td>\n",
       "      <td>finish payment</td>\n",
       "      <td>-54037160734808716</td>\n",
       "      <td>Payment application</td>\n",
       "      <td>-1.800834e+16</td>\n",
       "      <td>complete</td>\n",
       "      <td>automatic during payment</td>\n",
       "      <td>Application</td>\n",
       "      <td>True</td>\n",
       "    </tr>\n",
       "  </tbody>\n",
       "</table>\n",
       "<p>2514266 rows × 75 columns</p>\n",
       "</div>"
      ],
      "text/plain": [
       "                  Case ID                                         Activity  \\\n",
       "0        8b99873a6136cfa6      Payment application-Application-mail income   \n",
       "1        8b99873a6136cfa6       Payment application-Application-mail valid   \n",
       "2        8b99873a6136cfa6          Entitlement application-Main-mail valid   \n",
       "3        8b99873a6136cfa6          Entitlement application-Main-mail valid   \n",
       "4        8b99873a6136cfa6                  Parcel document-Main-initialize   \n",
       "...                   ...                                              ...   \n",
       "2514261  ad5dfa0b929735be           Payment application-Application-decide   \n",
       "2514262  ad5dfa0b929735be    Payment application-Application-begin payment   \n",
       "2514263  ad5dfa0b929735be  Payment application-Application-insert document   \n",
       "2514264  ad5dfa0b929735be  Payment application-Application-insert document   \n",
       "2514265  ad5dfa0b929735be   Payment application-Application-finish payment   \n",
       "\n",
       "                   org:resource                   time:timestamp  \\\n",
       "0                         0;n/a        2015-05-08 00:00:00+00:00   \n",
       "1                         0;n/a        2015-05-08 00:00:00+00:00   \n",
       "2                         0;n/a        2015-05-08 00:00:00+00:00   \n",
       "3                         0;n/a        2015-05-08 00:00:00+00:00   \n",
       "4                        fb5fa8        2015-06-10 11:16:28+00:00   \n",
       "...                         ...                              ...   \n",
       "2514261                  155add 2017-12-11 10:26:39.692000+00:00   \n",
       "2514262                    DP-Z 2017-12-15 16:00:12.252000+00:00   \n",
       "2514263  Notification automaton 2017-12-15 19:19:04.499000+00:00   \n",
       "2514264  Notification automaton 2017-12-20 09:02:30.380000+00:00   \n",
       "2514265                    DP-Z 2018-01-05 14:45:52.100000+00:00   \n",
       "\n",
       "               Variant  Variant index  (case) amount_applied0  \\\n",
       "0         Variant 1832           1832                  960.35   \n",
       "1         Variant 1832           1832                  960.35   \n",
       "2         Variant 1832           1832                  960.35   \n",
       "3         Variant 1832           1832                  960.35   \n",
       "4         Variant 1832           1832                  960.35   \n",
       "...                ...            ...                     ...   \n",
       "2514261  Variant 28923          28923                 5117.97   \n",
       "2514262  Variant 28923          28923                 5117.97   \n",
       "2514263  Variant 28923          28923                 5117.97   \n",
       "2514264  Variant 28923          28923                 5117.97   \n",
       "2514265  Variant 28923          28923                 5117.97   \n",
       "\n",
       "         (case) amount_applied1  (case) amount_applied2  \\\n",
       "0                           NaN                     NaN   \n",
       "1                           NaN                     NaN   \n",
       "2                           NaN                     NaN   \n",
       "3                           NaN                     NaN   \n",
       "4                           NaN                     NaN   \n",
       "...                         ...                     ...   \n",
       "2514261                     NaN                     NaN   \n",
       "2514262                     NaN                     NaN   \n",
       "2514263                     NaN                     NaN   \n",
       "2514264                     NaN                     NaN   \n",
       "2514265                     NaN                     NaN   \n",
       "\n",
       "         (case) amount_applied3  ... (case) young farmer         activity  \\\n",
       "0                           NaN  ...               False      mail income   \n",
       "1                           NaN  ...               False       mail valid   \n",
       "2                           NaN  ...               False       mail valid   \n",
       "3                           NaN  ...               False       mail valid   \n",
       "4                           NaN  ...               False       initialize   \n",
       "...                         ...  ...                 ...              ...   \n",
       "2514261                     NaN  ...               False           decide   \n",
       "2514262                     NaN  ...               False    begin payment   \n",
       "2514263                     NaN  ...               False  insert document   \n",
       "2514264                     NaN  ...               False  insert document   \n",
       "2514265                     NaN  ...               False   finish payment   \n",
       "\n",
       "            concept:name              docid                  doctype  \\\n",
       "0            mail income -18008611495569447      Payment application   \n",
       "1             mail valid -18008611495569447      Payment application   \n",
       "2             mail valid -18008615298673397  Entitlement application   \n",
       "3             mail valid -18008615298673397  Entitlement application   \n",
       "4             initialize -72051858488795160          Parcel document   \n",
       "...                  ...                ...                      ...   \n",
       "2514261           decide -54037160734808716      Payment application   \n",
       "2514262    begin payment -54037160734808716      Payment application   \n",
       "2514263  insert document -54037160734808716      Payment application   \n",
       "2514264  insert document -54037160734808716      Payment application   \n",
       "2514265   finish payment -54037160734808716      Payment application   \n",
       "\n",
       "              eventid  lifecycle:transition                        note  \\\n",
       "0                 NaN              complete                        none   \n",
       "1                 NaN              complete                        none   \n",
       "2                 NaN              complete                        none   \n",
       "3                 NaN              complete                        none   \n",
       "4       -7.205186e+16              complete                        none   \n",
       "...               ...                   ...                         ...   \n",
       "2514261 -9.006594e+16              complete                   automatic   \n",
       "2514262 -9.006594e+16              complete    automatic during payment   \n",
       "2514263 -9.006594e+16              complete  notification for applicant   \n",
       "2514264 -1.260947e+17              complete  notification for applicant   \n",
       "2514265 -1.800834e+16              complete    automatic during payment   \n",
       "\n",
       "          subprocess  success  \n",
       "0        Application     True  \n",
       "1        Application     True  \n",
       "2               Main     True  \n",
       "3               Main     True  \n",
       "4               Main     True  \n",
       "...              ...      ...  \n",
       "2514261  Application     True  \n",
       "2514262  Application     True  \n",
       "2514263  Application     True  \n",
       "2514264  Application    False  \n",
       "2514265  Application     True  \n",
       "\n",
       "[2514266 rows x 75 columns]"
      ]
     },
     "execution_count": 9,
     "metadata": {},
     "output_type": "execute_result"
    }
   ],
   "source": [
    "filtered_df"
   ]
  },
  {
   "cell_type": "markdown",
   "metadata": {},
   "source": [
    "## Remove traces that have large number of events"
   ]
  },
  {
   "cell_type": "code",
   "execution_count": 52,
   "metadata": {},
   "outputs": [],
   "source": [
    "threshold = 155"
   ]
  },
  {
   "cell_type": "code",
   "execution_count": 53,
   "metadata": {},
   "outputs": [
    {
     "data": {
      "text/plain": [
       "93deb55be9aed2be    2973\n",
       "22b697e259a77e16    2490\n",
       "00101d737b58ff45     907\n",
       "6dcac1562d4ca766     864\n",
       "f8ad3caa0d29795c     788\n",
       "                    ... \n",
       "29b1f2e2f459e623      31\n",
       "06501822341c30a8      29\n",
       "2202b247728435e3      29\n",
       "a8118d96af27df2b      25\n",
       "e464e72a43e59a55      24\n",
       "Name: Case ID, Length: 43809, dtype: int64"
      ]
     },
     "execution_count": 53,
     "metadata": {},
     "output_type": "execute_result"
    }
   ],
   "source": [
    "nr_events_per_trace = filtered_df['Case ID'].value_counts()\n",
    "nr_events_per_trace"
   ]
  },
  {
   "cell_type": "code",
   "execution_count": 54,
   "metadata": {},
   "outputs": [
    {
     "data": {
      "text/plain": [
       "5ee73ede1d82a111    155\n",
       "426748ffd7d02d87    155\n",
       "d598a1fd5fdeed9d    155\n",
       "2af4bcd51c5a2a72    155\n",
       "14d4d258673f2251    155\n",
       "                   ... \n",
       "29b1f2e2f459e623     31\n",
       "06501822341c30a8     29\n",
       "2202b247728435e3     29\n",
       "a8118d96af27df2b     25\n",
       "e464e72a43e59a55     24\n",
       "Name: Case ID, Length: 43242, dtype: int64"
      ]
     },
     "execution_count": 54,
     "metadata": {},
     "output_type": "execute_result"
    }
   ],
   "source": [
    "filtered_nr_events_per_trace = nr_events_per_trace[nr_events_per_trace <= threshold]\n",
    "filtered_nr_events_per_trace"
   ]
  },
  {
   "cell_type": "code",
   "execution_count": 55,
   "metadata": {},
   "outputs": [
    {
     "data": {
      "text/plain": [
       "93deb55be9aed2be    2973\n",
       "22b697e259a77e16    2490\n",
       "00101d737b58ff45     907\n",
       "6dcac1562d4ca766     864\n",
       "f8ad3caa0d29795c     788\n",
       "                    ... \n",
       "1c45e283eedbf1ce     156\n",
       "c67e1022125070c0     156\n",
       "551721af52308ef9     156\n",
       "03e70a9871fa78f8     156\n",
       "4f4cf79936d9781f     156\n",
       "Name: Case ID, Length: 567, dtype: int64"
      ]
     },
     "execution_count": 55,
     "metadata": {},
     "output_type": "execute_result"
    }
   ],
   "source": [
    "removed_nr_events_per_trace = nr_events_per_trace[nr_events_per_trace > threshold]\n",
    "removed_nr_events_per_trace"
   ]
  },
  {
   "cell_type": "code",
   "execution_count": 57,
   "metadata": {},
   "outputs": [],
   "source": [
    "filtered_df = filtered_df[filtered_df['Case ID'].isin(filtered_nr_events_per_trace.index)]"
   ]
  },
  {
   "cell_type": "markdown",
   "metadata": {},
   "source": [
    "### Check how many traces removed"
   ]
  },
  {
   "cell_type": "code",
   "execution_count": 56,
   "metadata": {},
   "outputs": [
    {
     "name": "stdout",
     "output_type": "stream",
     "text": [
      "567 traces filtered from 43809 total nr of traces\n"
     ]
    }
   ],
   "source": [
    "print(f\"{len(removed_nr_events_per_trace)} traces filtered from {len(nr_events_per_trace)} total nr of traces\")"
   ]
  },
  {
   "cell_type": "code",
   "execution_count": 46,
   "metadata": {},
   "outputs": [],
   "source": [
    "def calc_traces_removed(new: pd.Series, old: pd.Series) -> float:\n",
    "    perc_removed = (len(new) - len(old)) / len(old) * 100\n",
    "    return round(perc_removed, 2)"
   ]
  },
  {
   "cell_type": "code",
   "execution_count": 47,
   "metadata": {},
   "outputs": [
    {
     "data": {
      "text/plain": [
       "-1.29"
      ]
     },
     "execution_count": 47,
     "metadata": {},
     "output_type": "execute_result"
    }
   ],
   "source": [
    "calc_traces_removed(filtered_nr_events_per_trace, nr_events_per_trace)"
   ]
  },
  {
   "cell_type": "markdown",
   "metadata": {},
   "source": [
    "Above percentage of total traces removed. "
   ]
  },
  {
   "cell_type": "markdown",
   "metadata": {},
   "source": [
    "### Check how many events removed"
   ]
  },
  {
   "cell_type": "code",
   "execution_count": 48,
   "metadata": {},
   "outputs": [
    {
     "name": "stdout",
     "output_type": "stream",
     "text": [
      "138945 events filtered from 2514266 total nr of events\n"
     ]
    }
   ],
   "source": [
    "print(f\"{sum(removed_nr_events_per_trace)} events filtered from {sum(nr_events_per_trace)} total nr of events\")"
   ]
  },
  {
   "cell_type": "code",
   "execution_count": 58,
   "metadata": {},
   "outputs": [],
   "source": [
    "def calc_events_removed(new: pd.Series, old: pd.Series) -> float:\n",
    "    perc_removed = (sum(new) - sum(old)) / sum(old) * 100\n",
    "    return round(perc_removed, 2)"
   ]
  },
  {
   "cell_type": "code",
   "execution_count": 59,
   "metadata": {},
   "outputs": [
    {
     "data": {
      "text/plain": [
       "-5.53"
      ]
     },
     "execution_count": 59,
     "metadata": {},
     "output_type": "execute_result"
    }
   ],
   "source": [
    "calc_events_removed(filtered_nr_events_per_trace, nr_events_per_trace)"
   ]
  },
  {
   "cell_type": "markdown",
   "metadata": {},
   "source": [
    "Above percentage of total events removed."
   ]
  },
  {
   "cell_type": "markdown",
   "metadata": {},
   "source": [
    "## Save filtered log in parquet and save filtered log object"
   ]
  }
 ],
 "metadata": {
  "kernelspec": {
   "display_name": "Python 3",
   "language": "python",
   "name": "python3"
  },
  "language_info": {
   "codemirror_mode": {
    "name": "ipython",
    "version": 3
   },
   "file_extension": ".py",
   "mimetype": "text/x-python",
   "name": "python",
   "nbconvert_exporter": "python",
   "pygments_lexer": "ipython3",
   "version": "3.7.4"
  },
  "toc-autonumbering": true
 },
 "nbformat": 4,
 "nbformat_minor": 4
}
