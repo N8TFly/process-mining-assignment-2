{
 "cells": [
  {
   "cell_type": "code",
   "execution_count": 1,
   "metadata": {},
   "outputs": [],
   "source": [
    "import pandas as pd\n",
    "from pm4py.objects.conversion.log import converter as log_converter\n",
    "from pm4py.objects.log.importer.xes import importer as xes_importer\n",
    "\n",
    "import utils\n",
    "\n",
    "READ_PARQUET = True  # faster, but have to create first"
   ]
  },
  {
   "cell_type": "code",
   "execution_count": 2,
   "metadata": {},
   "outputs": [
    {
     "name": "stdout",
     "output_type": "stream",
     "text": [
      "Reading parquet.\n"
     ]
    }
   ],
   "source": [
    "if READ_PARQUET:\n",
    "    print(\"Reading parquet.\")\n",
    "    df = utils.load_parquet()\n",
    "else:\n",
    "    print(\"Reading csv and savings as parquet.\")\n",
    "    df = utils.load_csv()\n",
    "    utils.save_parquet(df)"
   ]
  },
  {
   "cell_type": "code",
   "execution_count": 3,
   "metadata": {},
   "outputs": [
    {
     "data": {
      "text/html": [
       "<div>\n",
       "<style scoped>\n",
       "    .dataframe tbody tr th:only-of-type {\n",
       "        vertical-align: middle;\n",
       "    }\n",
       "\n",
       "    .dataframe tbody tr th {\n",
       "        vertical-align: top;\n",
       "    }\n",
       "\n",
       "    .dataframe thead th {\n",
       "        text-align: right;\n",
       "    }\n",
       "</style>\n",
       "<table border=\"1\" class=\"dataframe\">\n",
       "  <thead>\n",
       "    <tr style=\"text-align: right;\">\n",
       "      <th></th>\n",
       "      <th>Case ID</th>\n",
       "      <th>Activity</th>\n",
       "      <th>Resource</th>\n",
       "      <th>Complete Timestamp</th>\n",
       "      <th>Variant</th>\n",
       "      <th>Variant index</th>\n",
       "      <th>(case) amount_applied0</th>\n",
       "      <th>(case) amount_applied1</th>\n",
       "      <th>(case) amount_applied2</th>\n",
       "      <th>(case) amount_applied3</th>\n",
       "      <th>...</th>\n",
       "      <th>(case) young farmer</th>\n",
       "      <th>activity</th>\n",
       "      <th>concept:name</th>\n",
       "      <th>docid</th>\n",
       "      <th>doctype</th>\n",
       "      <th>eventid</th>\n",
       "      <th>lifecycle:transition</th>\n",
       "      <th>note</th>\n",
       "      <th>subprocess</th>\n",
       "      <th>success</th>\n",
       "    </tr>\n",
       "  </thead>\n",
       "  <tbody>\n",
       "    <tr>\n",
       "      <th>0</th>\n",
       "      <td>8b99873a6136cfa6</td>\n",
       "      <td>Payment application-Application-mail income</td>\n",
       "      <td>0;n/a</td>\n",
       "      <td>2015/05/08 00:00:00.000</td>\n",
       "      <td>Variant 1832</td>\n",
       "      <td>1832</td>\n",
       "      <td>960.35</td>\n",
       "      <td>NaN</td>\n",
       "      <td>NaN</td>\n",
       "      <td>NaN</td>\n",
       "      <td>...</td>\n",
       "      <td>False</td>\n",
       "      <td>mail income</td>\n",
       "      <td>mail income</td>\n",
       "      <td>-18008611495569447</td>\n",
       "      <td>Payment application</td>\n",
       "      <td>NaN</td>\n",
       "      <td>complete</td>\n",
       "      <td>none</td>\n",
       "      <td>Application</td>\n",
       "      <td>True</td>\n",
       "    </tr>\n",
       "  </tbody>\n",
       "</table>\n",
       "<p>1 rows × 75 columns</p>\n",
       "</div>"
      ],
      "text/plain": [
       "            Case ID                                     Activity Resource  \\\n",
       "0  8b99873a6136cfa6  Payment application-Application-mail income    0;n/a   \n",
       "\n",
       "        Complete Timestamp       Variant  Variant index  \\\n",
       "0  2015/05/08 00:00:00.000  Variant 1832           1832   \n",
       "\n",
       "   (case) amount_applied0  (case) amount_applied1  (case) amount_applied2  \\\n",
       "0                  960.35                     NaN                     NaN   \n",
       "\n",
       "   (case) amount_applied3  ... (case) young farmer     activity  concept:name  \\\n",
       "0                     NaN  ...               False  mail income   mail income   \n",
       "\n",
       "               docid              doctype eventid  lifecycle:transition  note  \\\n",
       "0 -18008611495569447  Payment application     NaN              complete  none   \n",
       "\n",
       "    subprocess  success  \n",
       "0  Application     True  \n",
       "\n",
       "[1 rows x 75 columns]"
      ]
     },
     "execution_count": 3,
     "metadata": {},
     "output_type": "execute_result"
    }
   ],
   "source": [
    "df.head(1)"
   ]
  },
  {
   "cell_type": "code",
   "execution_count": 4,
   "metadata": {},
   "outputs": [
    {
     "data": {
      "text/plain": [
       "'8b99873a6136cfa6'"
      ]
     },
     "execution_count": 4,
     "metadata": {},
     "output_type": "execute_result"
    }
   ],
   "source": [
    "first_id = df.iloc[0]['Case ID']\n",
    "first_id"
   ]
  },
  {
   "cell_type": "code",
   "execution_count": 5,
   "metadata": {},
   "outputs": [
    {
     "name": "stdout",
     "output_type": "stream",
     "text": [
      "52\n"
     ]
    },
    {
     "data": {
      "text/html": [
       "<div>\n",
       "<style scoped>\n",
       "    .dataframe tbody tr th:only-of-type {\n",
       "        vertical-align: middle;\n",
       "    }\n",
       "\n",
       "    .dataframe tbody tr th {\n",
       "        vertical-align: top;\n",
       "    }\n",
       "\n",
       "    .dataframe thead th {\n",
       "        text-align: right;\n",
       "    }\n",
       "</style>\n",
       "<table border=\"1\" class=\"dataframe\">\n",
       "  <thead>\n",
       "    <tr style=\"text-align: right;\">\n",
       "      <th></th>\n",
       "      <th>Case ID</th>\n",
       "      <th>Activity</th>\n",
       "      <th>Resource</th>\n",
       "      <th>Complete Timestamp</th>\n",
       "      <th>Variant</th>\n",
       "      <th>Variant index</th>\n",
       "      <th>(case) amount_applied0</th>\n",
       "      <th>(case) amount_applied1</th>\n",
       "      <th>(case) amount_applied2</th>\n",
       "      <th>(case) amount_applied3</th>\n",
       "      <th>...</th>\n",
       "      <th>(case) young farmer</th>\n",
       "      <th>activity</th>\n",
       "      <th>concept:name</th>\n",
       "      <th>docid</th>\n",
       "      <th>doctype</th>\n",
       "      <th>eventid</th>\n",
       "      <th>lifecycle:transition</th>\n",
       "      <th>note</th>\n",
       "      <th>subprocess</th>\n",
       "      <th>success</th>\n",
       "    </tr>\n",
       "  </thead>\n",
       "  <tbody>\n",
       "    <tr>\n",
       "      <th>0</th>\n",
       "      <td>8b99873a6136cfa6</td>\n",
       "      <td>Payment application-Application-mail income</td>\n",
       "      <td>0;n/a</td>\n",
       "      <td>2015/05/08 00:00:00.000</td>\n",
       "      <td>Variant 1832</td>\n",
       "      <td>1832</td>\n",
       "      <td>960.35</td>\n",
       "      <td>NaN</td>\n",
       "      <td>NaN</td>\n",
       "      <td>NaN</td>\n",
       "      <td>...</td>\n",
       "      <td>False</td>\n",
       "      <td>mail income</td>\n",
       "      <td>mail income</td>\n",
       "      <td>-18008611495569447</td>\n",
       "      <td>Payment application</td>\n",
       "      <td>NaN</td>\n",
       "      <td>complete</td>\n",
       "      <td>none</td>\n",
       "      <td>Application</td>\n",
       "      <td>True</td>\n",
       "    </tr>\n",
       "  </tbody>\n",
       "</table>\n",
       "<p>1 rows × 75 columns</p>\n",
       "</div>"
      ],
      "text/plain": [
       "            Case ID                                     Activity Resource  \\\n",
       "0  8b99873a6136cfa6  Payment application-Application-mail income    0;n/a   \n",
       "\n",
       "        Complete Timestamp       Variant  Variant index  \\\n",
       "0  2015/05/08 00:00:00.000  Variant 1832           1832   \n",
       "\n",
       "   (case) amount_applied0  (case) amount_applied1  (case) amount_applied2  \\\n",
       "0                  960.35                     NaN                     NaN   \n",
       "\n",
       "   (case) amount_applied3  ... (case) young farmer     activity  concept:name  \\\n",
       "0                     NaN  ...               False  mail income   mail income   \n",
       "\n",
       "               docid              doctype eventid  lifecycle:transition  note  \\\n",
       "0 -18008611495569447  Payment application     NaN              complete  none   \n",
       "\n",
       "    subprocess  success  \n",
       "0  Application     True  \n",
       "\n",
       "[1 rows x 75 columns]"
      ]
     },
     "execution_count": 5,
     "metadata": {},
     "output_type": "execute_result"
    }
   ],
   "source": [
    "sample_df = df[df['Case ID'] == first_id]\n",
    "print(len(sample_df))\n",
    "sample_df.head(1)"
   ]
  },
  {
   "cell_type": "code",
   "execution_count": 6,
   "metadata": {},
   "outputs": [],
   "source": [
    "# Can change some parameters about default columns etc and use these as input for the log converter\n",
    "parameters = {\n",
    "    log_converter.Variants.TO_EVENT_LOG.value.Parameters.CASE_ID_KEY: 'Case ID',\n",
    "    log_converter.Variants.TO_EVENT_LOG.value.Parameters.CASE_ATTRIBUTE_PREFIX: '(case) ',\n",
    "}\n",
    "log = log_converter.apply(sample_df, parameters=parameters, variant=log_converter.Variants.TO_EVENT_LOG)"
   ]
  },
  {
   "cell_type": "code",
   "execution_count": 7,
   "metadata": {},
   "outputs": [
    {
     "data": {
      "text/plain": [
       "{'amount_applied0': 960.35,\n",
       " 'amount_applied1': nan,\n",
       " 'amount_applied2': nan,\n",
       " 'amount_applied3': nan,\n",
       " 'applicant': 'b3b1bafcf8a5c359',\n",
       " 'application': '8b99873a6136cfa6',\n",
       " 'area': 2.6994,\n",
       " 'basic payment': True,\n",
       " 'cross_compliance': 0.0,\n",
       " 'department': 'e7',\n",
       " 'greening': True,\n",
       " 'number_parcels': 3,\n",
       " 'payment_actual0': 960.35,\n",
       " 'payment_actual1': nan,\n",
       " 'payment_actual2': nan,\n",
       " 'payment_actual3': nan,\n",
       " 'penalty_ABP': False,\n",
       " 'penalty_AGP': False,\n",
       " 'penalty_AJLP': False,\n",
       " 'penalty_AUVP': False,\n",
       " 'penalty_AVBP': False,\n",
       " 'penalty_AVGP': False,\n",
       " 'penalty_AVJLP': False,\n",
       " 'penalty_AVUVP': False,\n",
       " 'penalty_B16': False,\n",
       " 'penalty_B2': False,\n",
       " 'penalty_B3': False,\n",
       " 'penalty_B4': False,\n",
       " 'penalty_B5': False,\n",
       " 'penalty_B5F': False,\n",
       " 'penalty_B6': False,\n",
       " 'penalty_BGK': False,\n",
       " 'penalty_BGKV': False,\n",
       " 'penalty_BGP': False,\n",
       " 'penalty_C16': False,\n",
       " 'penalty_C4': False,\n",
       " 'penalty_C9': False,\n",
       " 'penalty_CC': False,\n",
       " 'penalty_GP1': False,\n",
       " 'penalty_JLP1': False,\n",
       " 'penalty_JLP2': False,\n",
       " 'penalty_JLP3': False,\n",
       " 'penalty_JLP5': False,\n",
       " 'penalty_JLP6': False,\n",
       " 'penalty_JLP7': False,\n",
       " 'penalty_V5': False,\n",
       " 'penalty_amount0': 0.0,\n",
       " 'penalty_amount1': nan,\n",
       " 'penalty_amount2': nan,\n",
       " 'penalty_amount3': nan,\n",
       " 'program-id': 215,\n",
       " 'redistribution': True,\n",
       " 'rejected': False,\n",
       " 'risk_factor': 1.0,\n",
       " 'selected_manually': False,\n",
       " 'selected_random': False,\n",
       " 'selected_risk': False,\n",
       " 'small farmer': True,\n",
       " 'year': 2015,\n",
       " 'young farmer': False,\n",
       " 'concept:name': '8b99873a6136cfa6'}"
      ]
     },
     "execution_count": 7,
     "metadata": {},
     "output_type": "execute_result"
    }
   ],
   "source": [
    "# first trace\n",
    "log[0].attributes"
   ]
  },
  {
   "cell_type": "code",
   "execution_count": 8,
   "metadata": {},
   "outputs": [],
   "source": [
    "# first trace from Rowan\n",
    "dictionary = {'young farmer': False,\n",
    " 'selected_random': False,\n",
    " 'penalty_AJLP': False,\n",
    " 'application': '8b99873a6136cfa6',\n",
    " 'penalty_amount0': 0.0,\n",
    " 'program-id': '215',\n",
    " 'penalty_BGKV': False,\n",
    " 'penalty_AUVP': False,\n",
    " 'applicant': 'b3b1bafcf8a5c359',\n",
    " 'risk_factor': 1.0,\n",
    " 'small farmer': True,\n",
    " 'penalty_BGP': False,\n",
    " 'department': 'e7',\n",
    " 'penalty_C16': False,\n",
    " 'penalty_BGK': False,\n",
    " 'penalty_AVUVP': False,\n",
    " 'penalty_CC': False,\n",
    " 'penalty_AVJLP': False,\n",
    " 'penalty_C9': False,\n",
    " 'cross_compliance': 0.0,\n",
    " 'rejected': False,\n",
    " 'greening': True,\n",
    " 'penalty_C4': False,\n",
    " 'penalty_AVGP': False,\n",
    " 'penalty_ABP': False,\n",
    " 'penalty_B6': False,\n",
    " 'penalty_B4': False,\n",
    " 'penalty_B5': False,\n",
    " 'penalty_AVBP': False,\n",
    " 'penalty_B2': False,\n",
    " 'selected_risk': False,\n",
    " 'penalty_B3': False,\n",
    " 'area': 2.6994,\n",
    " 'selected_manually': False,\n",
    " 'penalty_AGP': False,\n",
    " 'penalty_B16': False,\n",
    " 'penalty_GP1': False,\n",
    " 'basic payment': True,\n",
    " 'penalty_B5F': False,\n",
    " 'penalty_V5': False,\n",
    " 'payment_actual0': 960.35,\n",
    " 'identity:id': 'B15FB890-574E-4117-B66A-BDFBC4FCAA6E',\n",
    " 'amount_applied0': 960.35,\n",
    " 'redistribution': True,\n",
    " 'penalty_JLP6': False,\n",
    " 'penalty_JLP7': False,\n",
    " 'year': '2015',\n",
    " 'penalty_JLP5': False,\n",
    " 'penalty_JLP2': False,\n",
    " 'penalty_JLP3': False,\n",
    " 'number_parcels': 3,\n",
    " 'penalty_JLP1': False,\n",
    " 'concept:name': '8b99873a6136cfa6'}"
   ]
  },
  {
   "cell_type": "code",
   "execution_count": 9,
   "metadata": {},
   "outputs": [
    {
     "name": "stdout",
     "output_type": "stream",
     "text": [
      "amount_applied1\n",
      "amount_applied2\n",
      "amount_applied3\n",
      "payment_actual1\n",
      "payment_actual2\n",
      "payment_actual3\n",
      "penalty_amount1\n",
      "penalty_amount2\n",
      "penalty_amount3\n"
     ]
    }
   ],
   "source": [
    "# check what is present in my log but not in Rowans\n",
    "for key in log[0].attributes.keys():\n",
    "    if key not in dictionary.keys():\n",
    "        print(key)"
   ]
  },
  {
   "cell_type": "code",
   "execution_count": 10,
   "metadata": {},
   "outputs": [
    {
     "name": "stdout",
     "output_type": "stream",
     "text": [
      "identity:id\n"
     ]
    }
   ],
   "source": [
    "# check what is present in Rowan's logs but not in mine\n",
    "for key in dictionary.keys():\n",
    "    if key not in log[0].attributes.keys():\n",
    "        print(key)"
   ]
  },
  {
   "cell_type": "code",
   "execution_count": 12,
   "metadata": {},
   "outputs": [],
   "source": [
    "utils.save_log(log)"
   ]
  }
 ],
 "metadata": {
  "kernelspec": {
   "display_name": "Python 3",
   "language": "python",
   "name": "python3"
  },
  "language_info": {
   "codemirror_mode": {
    "name": "ipython",
    "version": 3
   },
   "file_extension": ".py",
   "mimetype": "text/x-python",
   "name": "python",
   "nbconvert_exporter": "python",
   "pygments_lexer": "ipython3",
   "version": "3.8.3"
  }
 },
 "nbformat": 4,
 "nbformat_minor": 4
}
