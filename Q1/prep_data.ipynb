{
 "cells": [
  {
   "cell_type": "markdown",
   "metadata": {},
   "source": [
    "## Imports etc"
   ]
  },
  {
   "cell_type": "code",
   "execution_count": 1,
   "metadata": {},
   "outputs": [],
   "source": [
    "import pandas as pd\n",
    "from pm4py.objects.conversion.log import converter as log_converter\n",
    "from pm4py.objects.log.importer.xes import importer as xes_importer\n",
    "from pm4py.objects.log.util import dataframe_utils\n",
    "\n",
    "import utils\n",
    "\n",
    "READ_PARQUET = True  # faster, but have to create first"
   ]
  },
  {
   "cell_type": "markdown",
   "metadata": {},
   "source": [
    "## Read data as DF and optionally make sample"
   ]
  },
  {
   "cell_type": "code",
   "execution_count": 2,
   "metadata": {},
   "outputs": [
    {
     "name": "stdout",
     "output_type": "stream",
     "text": [
      "Reading parquet.\n"
     ]
    }
   ],
   "source": [
    "if READ_PARQUET:\n",
    "    print(\"Reading parquet.\")\n",
    "    df = utils.load_parquet()\n",
    "else:\n",
    "    print(\"Reading csv and savings as parquet.\")\n",
    "    df = utils.load_csv()\n",
    "    utils.save_parquet(df)"
   ]
  },
  {
   "cell_type": "code",
   "execution_count": 3,
   "metadata": {},
   "outputs": [
    {
     "data": {
      "text/html": [
       "<div>\n",
       "<style scoped>\n",
       "    .dataframe tbody tr th:only-of-type {\n",
       "        vertical-align: middle;\n",
       "    }\n",
       "\n",
       "    .dataframe tbody tr th {\n",
       "        vertical-align: top;\n",
       "    }\n",
       "\n",
       "    .dataframe thead th {\n",
       "        text-align: right;\n",
       "    }\n",
       "</style>\n",
       "<table border=\"1\" class=\"dataframe\">\n",
       "  <thead>\n",
       "    <tr style=\"text-align: right;\">\n",
       "      <th></th>\n",
       "      <th>Case ID</th>\n",
       "      <th>Activity</th>\n",
       "      <th>Resource</th>\n",
       "      <th>Complete Timestamp</th>\n",
       "      <th>Variant</th>\n",
       "      <th>Variant index</th>\n",
       "      <th>(case) amount_applied0</th>\n",
       "      <th>(case) amount_applied1</th>\n",
       "      <th>(case) amount_applied2</th>\n",
       "      <th>(case) amount_applied3</th>\n",
       "      <th>...</th>\n",
       "      <th>(case) young farmer</th>\n",
       "      <th>activity</th>\n",
       "      <th>concept:name</th>\n",
       "      <th>docid</th>\n",
       "      <th>doctype</th>\n",
       "      <th>eventid</th>\n",
       "      <th>lifecycle:transition</th>\n",
       "      <th>note</th>\n",
       "      <th>subprocess</th>\n",
       "      <th>success</th>\n",
       "    </tr>\n",
       "  </thead>\n",
       "  <tbody>\n",
       "    <tr>\n",
       "      <th>0</th>\n",
       "      <td>8b99873a6136cfa6</td>\n",
       "      <td>Payment application-Application-mail income</td>\n",
       "      <td>0;n/a</td>\n",
       "      <td>2015/05/08 00:00:00.000</td>\n",
       "      <td>Variant 1832</td>\n",
       "      <td>1832</td>\n",
       "      <td>960.35</td>\n",
       "      <td>NaN</td>\n",
       "      <td>NaN</td>\n",
       "      <td>NaN</td>\n",
       "      <td>...</td>\n",
       "      <td>False</td>\n",
       "      <td>mail income</td>\n",
       "      <td>mail income</td>\n",
       "      <td>-18008611495569447</td>\n",
       "      <td>Payment application</td>\n",
       "      <td>NaN</td>\n",
       "      <td>complete</td>\n",
       "      <td>none</td>\n",
       "      <td>Application</td>\n",
       "      <td>True</td>\n",
       "    </tr>\n",
       "  </tbody>\n",
       "</table>\n",
       "<p>1 rows × 75 columns</p>\n",
       "</div>"
      ],
      "text/plain": [
       "            Case ID                                     Activity Resource  \\\n",
       "0  8b99873a6136cfa6  Payment application-Application-mail income    0;n/a   \n",
       "\n",
       "        Complete Timestamp       Variant  Variant index  \\\n",
       "0  2015/05/08 00:00:00.000  Variant 1832           1832   \n",
       "\n",
       "   (case) amount_applied0  (case) amount_applied1  (case) amount_applied2  \\\n",
       "0                  960.35                     NaN                     NaN   \n",
       "\n",
       "   (case) amount_applied3  ... (case) young farmer     activity  concept:name  \\\n",
       "0                     NaN  ...               False  mail income   mail income   \n",
       "\n",
       "               docid              doctype eventid  lifecycle:transition  note  \\\n",
       "0 -18008611495569447  Payment application     NaN              complete  none   \n",
       "\n",
       "    subprocess  success  \n",
       "0  Application     True  \n",
       "\n",
       "[1 rows x 75 columns]"
      ]
     },
     "execution_count": 3,
     "metadata": {},
     "output_type": "execute_result"
    }
   ],
   "source": [
    "df.head(1)"
   ]
  },
  {
   "cell_type": "code",
   "execution_count": 4,
   "metadata": {},
   "outputs": [
    {
     "data": {
      "text/plain": [
       "Index(['(case) amount_applied0', '(case) amount_applied1',\n",
       "       '(case) amount_applied2', '(case) amount_applied3', '(case) applicant',\n",
       "       '(case) application', '(case) area', '(case) basic payment',\n",
       "       '(case) cross_compliance', '(case) department', '(case) greening',\n",
       "       '(case) number_parcels', '(case) payment_actual0',\n",
       "       '(case) payment_actual1', '(case) payment_actual2',\n",
       "       '(case) payment_actual3', '(case) penalty_ABP', '(case) penalty_AGP',\n",
       "       '(case) penalty_AJLP', '(case) penalty_AUVP', '(case) penalty_AVBP',\n",
       "       '(case) penalty_AVGP', '(case) penalty_AVJLP', '(case) penalty_AVUVP',\n",
       "       '(case) penalty_B16', '(case) penalty_B2', '(case) penalty_B3',\n",
       "       '(case) penalty_B4', '(case) penalty_B5', '(case) penalty_B5F',\n",
       "       '(case) penalty_B6', '(case) penalty_BGK', '(case) penalty_BGKV',\n",
       "       '(case) penalty_BGP', '(case) penalty_C16', '(case) penalty_C4',\n",
       "       '(case) penalty_C9', '(case) penalty_CC', '(case) penalty_GP1',\n",
       "       '(case) penalty_JLP1', '(case) penalty_JLP2', '(case) penalty_JLP3',\n",
       "       '(case) penalty_JLP5', '(case) penalty_JLP6', '(case) penalty_JLP7',\n",
       "       '(case) penalty_V5', '(case) penalty_amount0', '(case) penalty_amount1',\n",
       "       '(case) penalty_amount2', '(case) penalty_amount3', '(case) program-id',\n",
       "       '(case) redistribution', '(case) rejected', '(case) risk_factor',\n",
       "       '(case) selected_manually', '(case) selected_random',\n",
       "       '(case) selected_risk', '(case) small farmer', '(case) year',\n",
       "       '(case) young farmer', 'Activity', 'Case ID', 'Complete Timestamp',\n",
       "       'Resource', 'Variant', 'Variant index', 'activity', 'concept:name',\n",
       "       'docid', 'doctype', 'eventid', 'lifecycle:transition', 'note',\n",
       "       'subprocess', 'success'],\n",
       "      dtype='object')"
      ]
     },
     "execution_count": 4,
     "metadata": {},
     "output_type": "execute_result"
    }
   ],
   "source": [
    "df.columns.sort_values()"
   ]
  },
  {
   "cell_type": "code",
   "execution_count": 5,
   "metadata": {},
   "outputs": [
    {
     "data": {
      "text/plain": [
       "'8b99873a6136cfa6'"
      ]
     },
     "execution_count": 5,
     "metadata": {},
     "output_type": "execute_result"
    }
   ],
   "source": [
    "first_id = df.iloc[0]['Case ID']\n",
    "first_id"
   ]
  },
  {
   "cell_type": "code",
   "execution_count": 6,
   "metadata": {},
   "outputs": [
    {
     "name": "stdout",
     "output_type": "stream",
     "text": [
      "52\n"
     ]
    },
    {
     "data": {
      "text/html": [
       "<div>\n",
       "<style scoped>\n",
       "    .dataframe tbody tr th:only-of-type {\n",
       "        vertical-align: middle;\n",
       "    }\n",
       "\n",
       "    .dataframe tbody tr th {\n",
       "        vertical-align: top;\n",
       "    }\n",
       "\n",
       "    .dataframe thead th {\n",
       "        text-align: right;\n",
       "    }\n",
       "</style>\n",
       "<table border=\"1\" class=\"dataframe\">\n",
       "  <thead>\n",
       "    <tr style=\"text-align: right;\">\n",
       "      <th></th>\n",
       "      <th>Case ID</th>\n",
       "      <th>Activity</th>\n",
       "      <th>Resource</th>\n",
       "      <th>Complete Timestamp</th>\n",
       "      <th>Variant</th>\n",
       "      <th>Variant index</th>\n",
       "      <th>(case) amount_applied0</th>\n",
       "      <th>(case) amount_applied1</th>\n",
       "      <th>(case) amount_applied2</th>\n",
       "      <th>(case) amount_applied3</th>\n",
       "      <th>...</th>\n",
       "      <th>(case) young farmer</th>\n",
       "      <th>activity</th>\n",
       "      <th>concept:name</th>\n",
       "      <th>docid</th>\n",
       "      <th>doctype</th>\n",
       "      <th>eventid</th>\n",
       "      <th>lifecycle:transition</th>\n",
       "      <th>note</th>\n",
       "      <th>subprocess</th>\n",
       "      <th>success</th>\n",
       "    </tr>\n",
       "  </thead>\n",
       "  <tbody>\n",
       "    <tr>\n",
       "      <th>0</th>\n",
       "      <td>8b99873a6136cfa6</td>\n",
       "      <td>Payment application-Application-mail income</td>\n",
       "      <td>0;n/a</td>\n",
       "      <td>2015/05/08 00:00:00.000</td>\n",
       "      <td>Variant 1832</td>\n",
       "      <td>1832</td>\n",
       "      <td>960.35</td>\n",
       "      <td>NaN</td>\n",
       "      <td>NaN</td>\n",
       "      <td>NaN</td>\n",
       "      <td>...</td>\n",
       "      <td>False</td>\n",
       "      <td>mail income</td>\n",
       "      <td>mail income</td>\n",
       "      <td>-18008611495569447</td>\n",
       "      <td>Payment application</td>\n",
       "      <td>NaN</td>\n",
       "      <td>complete</td>\n",
       "      <td>none</td>\n",
       "      <td>Application</td>\n",
       "      <td>True</td>\n",
       "    </tr>\n",
       "  </tbody>\n",
       "</table>\n",
       "<p>1 rows × 75 columns</p>\n",
       "</div>"
      ],
      "text/plain": [
       "            Case ID                                     Activity Resource  \\\n",
       "0  8b99873a6136cfa6  Payment application-Application-mail income    0;n/a   \n",
       "\n",
       "        Complete Timestamp       Variant  Variant index  \\\n",
       "0  2015/05/08 00:00:00.000  Variant 1832           1832   \n",
       "\n",
       "   (case) amount_applied0  (case) amount_applied1  (case) amount_applied2  \\\n",
       "0                  960.35                     NaN                     NaN   \n",
       "\n",
       "   (case) amount_applied3  ... (case) young farmer     activity  concept:name  \\\n",
       "0                     NaN  ...               False  mail income   mail income   \n",
       "\n",
       "               docid              doctype eventid  lifecycle:transition  note  \\\n",
       "0 -18008611495569447  Payment application     NaN              complete  none   \n",
       "\n",
       "    subprocess  success  \n",
       "0  Application     True  \n",
       "\n",
       "[1 rows x 75 columns]"
      ]
     },
     "execution_count": 6,
     "metadata": {},
     "output_type": "execute_result"
    }
   ],
   "source": [
    "sample_df = df[df['Case ID'] == first_id]\n",
    "print(len(sample_df))\n",
    "sample_df.head(1)"
   ]
  },
  {
   "cell_type": "markdown",
   "metadata": {},
   "source": [
    "## Change some column names"
   ]
  },
  {
   "cell_type": "code",
   "execution_count": 7,
   "metadata": {},
   "outputs": [
    {
     "name": "stderr",
     "output_type": "stream",
     "text": [
      "C:\\Users\\s158539\\AppData\\Local\\Continuum\\anaconda3\\lib\\site-packages\\pandas\\core\\frame.py:4303: SettingWithCopyWarning: \n",
      "A value is trying to be set on a copy of a slice from a DataFrame\n",
      "\n",
      "See the caveats in the documentation: https://pandas.pydata.org/pandas-docs/stable/user_guide/indexing.html#returning-a-view-versus-a-copy\n",
      "  errors=errors,\n"
     ]
    }
   ],
   "source": [
    "sample_df.rename(columns = {\n",
    "    'Resource': 'org:resource',\n",
    "    'Complete Timestamp': 'time:timestamp'\n",
    "}, inplace=True)"
   ]
  },
  {
   "cell_type": "markdown",
   "metadata": {},
   "source": [
    "## Fix timestamp"
   ]
  },
  {
   "cell_type": "code",
   "execution_count": 8,
   "metadata": {},
   "outputs": [
    {
     "name": "stderr",
     "output_type": "stream",
     "text": [
      "C:\\Users\\s158539\\AppData\\Local\\Continuum\\anaconda3\\lib\\site-packages\\pm4py\\objects\\log\\util\\dataframe_utils.py:145: SettingWithCopyWarning: \n",
      "A value is trying to be set on a copy of a slice from a DataFrame.\n",
      "Try using .loc[row_indexer,col_indexer] = value instead\n",
      "\n",
      "See the caveats in the documentation: https://pandas.pydata.org/pandas-docs/stable/user_guide/indexing.html#returning-a-view-versus-a-copy\n",
      "  df[col] = pd.to_datetime(df[col], utc=True)\n"
     ]
    }
   ],
   "source": [
    "sample_df = dataframe_utils.convert_timestamp_columns_in_df(sample_df)"
   ]
  },
  {
   "cell_type": "markdown",
   "metadata": {},
   "source": [
    "## Convert to pm4py log object"
   ]
  },
  {
   "cell_type": "code",
   "execution_count": 9,
   "metadata": {},
   "outputs": [],
   "source": [
    "# Can change some parameters about default columns etc and use these as input for the log converter\n",
    "parameters = {\n",
    "    log_converter.Variants.TO_EVENT_LOG.value.Parameters.CASE_ID_KEY: 'Case ID',\n",
    "    log_converter.Variants.TO_EVENT_LOG.value.Parameters.CASE_ATTRIBUTE_PREFIX: '(case) ',\n",
    "}\n",
    "log = log_converter.apply(sample_df, parameters=parameters, variant=log_converter.Variants.TO_EVENT_LOG)"
   ]
  },
  {
   "cell_type": "markdown",
   "metadata": {},
   "source": [
    "## Pickle log object"
   ]
  },
  {
   "cell_type": "code",
   "execution_count": 10,
   "metadata": {},
   "outputs": [],
   "source": [
    "utils.save_log(log)"
   ]
  },
  {
   "cell_type": "markdown",
   "metadata": {},
   "source": [
    "## Checkout log object"
   ]
  },
  {
   "cell_type": "markdown",
   "metadata": {},
   "source": [
    "### Traces"
   ]
  },
  {
   "cell_type": "code",
   "execution_count": 11,
   "metadata": {},
   "outputs": [
    {
     "data": {
      "text/plain": [
       "{'amount_applied0': 960.35,\n",
       " 'amount_applied1': nan,\n",
       " 'amount_applied2': nan,\n",
       " 'amount_applied3': nan,\n",
       " 'applicant': 'b3b1bafcf8a5c359',\n",
       " 'application': '8b99873a6136cfa6',\n",
       " 'area': 2.6994,\n",
       " 'basic payment': True,\n",
       " 'cross_compliance': 0.0,\n",
       " 'department': 'e7',\n",
       " 'greening': True,\n",
       " 'number_parcels': 3,\n",
       " 'payment_actual0': 960.35,\n",
       " 'payment_actual1': nan,\n",
       " 'payment_actual2': nan,\n",
       " 'payment_actual3': nan,\n",
       " 'penalty_ABP': False,\n",
       " 'penalty_AGP': False,\n",
       " 'penalty_AJLP': False,\n",
       " 'penalty_AUVP': False,\n",
       " 'penalty_AVBP': False,\n",
       " 'penalty_AVGP': False,\n",
       " 'penalty_AVJLP': False,\n",
       " 'penalty_AVUVP': False,\n",
       " 'penalty_B16': False,\n",
       " 'penalty_B2': False,\n",
       " 'penalty_B3': False,\n",
       " 'penalty_B4': False,\n",
       " 'penalty_B5': False,\n",
       " 'penalty_B5F': False,\n",
       " 'penalty_B6': False,\n",
       " 'penalty_BGK': False,\n",
       " 'penalty_BGKV': False,\n",
       " 'penalty_BGP': False,\n",
       " 'penalty_C16': False,\n",
       " 'penalty_C4': False,\n",
       " 'penalty_C9': False,\n",
       " 'penalty_CC': False,\n",
       " 'penalty_GP1': False,\n",
       " 'penalty_JLP1': False,\n",
       " 'penalty_JLP2': False,\n",
       " 'penalty_JLP3': False,\n",
       " 'penalty_JLP5': False,\n",
       " 'penalty_JLP6': False,\n",
       " 'penalty_JLP7': False,\n",
       " 'penalty_V5': False,\n",
       " 'penalty_amount0': 0.0,\n",
       " 'penalty_amount1': nan,\n",
       " 'penalty_amount2': nan,\n",
       " 'penalty_amount3': nan,\n",
       " 'program-id': 215,\n",
       " 'redistribution': True,\n",
       " 'rejected': False,\n",
       " 'risk_factor': 1.0,\n",
       " 'selected_manually': False,\n",
       " 'selected_random': False,\n",
       " 'selected_risk': False,\n",
       " 'small farmer': True,\n",
       " 'year': 2015,\n",
       " 'young farmer': False,\n",
       " 'concept:name': '8b99873a6136cfa6'}"
      ]
     },
     "execution_count": 11,
     "metadata": {},
     "output_type": "execute_result"
    }
   ],
   "source": [
    "# first trace\n",
    "log[0].attributes"
   ]
  },
  {
   "cell_type": "code",
   "execution_count": 12,
   "metadata": {},
   "outputs": [],
   "source": [
    "# first trace from Rowan\n",
    "trace = {'young farmer': False,\n",
    " 'selected_random': False,\n",
    " 'penalty_AJLP': False,\n",
    " 'application': '8b99873a6136cfa6',\n",
    " 'penalty_amount0': 0.0,\n",
    " 'program-id': '215',\n",
    " 'penalty_BGKV': False,\n",
    " 'penalty_AUVP': False,\n",
    " 'applicant': 'b3b1bafcf8a5c359',\n",
    " 'risk_factor': 1.0,\n",
    " 'small farmer': True,\n",
    " 'penalty_BGP': False,\n",
    " 'department': 'e7',\n",
    " 'penalty_C16': False,\n",
    " 'penalty_BGK': False,\n",
    " 'penalty_AVUVP': False,\n",
    " 'penalty_CC': False,\n",
    " 'penalty_AVJLP': False,\n",
    " 'penalty_C9': False,\n",
    " 'cross_compliance': 0.0,\n",
    " 'rejected': False,\n",
    " 'greening': True,\n",
    " 'penalty_C4': False,\n",
    " 'penalty_AVGP': False,\n",
    " 'penalty_ABP': False,\n",
    " 'penalty_B6': False,\n",
    " 'penalty_B4': False,\n",
    " 'penalty_B5': False,\n",
    " 'penalty_AVBP': False,\n",
    " 'penalty_B2': False,\n",
    " 'selected_risk': False,\n",
    " 'penalty_B3': False,\n",
    " 'area': 2.6994,\n",
    " 'selected_manually': False,\n",
    " 'penalty_AGP': False,\n",
    " 'penalty_B16': False,\n",
    " 'penalty_GP1': False,\n",
    " 'basic payment': True,\n",
    " 'penalty_B5F': False,\n",
    " 'penalty_V5': False,\n",
    " 'payment_actual0': 960.35,\n",
    " 'identity:id': 'B15FB890-574E-4117-B66A-BDFBC4FCAA6E',\n",
    " 'amount_applied0': 960.35,\n",
    " 'redistribution': True,\n",
    " 'penalty_JLP6': False,\n",
    " 'penalty_JLP7': False,\n",
    " 'year': '2015',\n",
    " 'penalty_JLP5': False,\n",
    " 'penalty_JLP2': False,\n",
    " 'penalty_JLP3': False,\n",
    " 'number_parcels': 3,\n",
    " 'penalty_JLP1': False,\n",
    " 'concept:name': '8b99873a6136cfa6'}"
   ]
  },
  {
   "cell_type": "code",
   "execution_count": 13,
   "metadata": {},
   "outputs": [
    {
     "name": "stdout",
     "output_type": "stream",
     "text": [
      "amount_applied1\n",
      "amount_applied2\n",
      "amount_applied3\n",
      "payment_actual1\n",
      "payment_actual2\n",
      "payment_actual3\n",
      "penalty_amount1\n",
      "penalty_amount2\n",
      "penalty_amount3\n"
     ]
    }
   ],
   "source": [
    "# check what is present in my log but not in Rowans\n",
    "for key in log[0].attributes.keys():\n",
    "    if key not in trace.keys():\n",
    "        print(key)"
   ]
  },
  {
   "cell_type": "markdown",
   "metadata": {},
   "source": [
    "Present while shouldn't be there. But they are all nan but are probably just removed by pm4py"
   ]
  },
  {
   "cell_type": "code",
   "execution_count": 14,
   "metadata": {},
   "outputs": [
    {
     "name": "stdout",
     "output_type": "stream",
     "text": [
      "identity:id\n"
     ]
    }
   ],
   "source": [
    "# check what is present in Rowan's logs but not in mine\n",
    "for key in trace.keys():\n",
    "    if key not in log[0].attributes.keys():\n",
    "        print(key)"
   ]
  },
  {
   "cell_type": "markdown",
   "metadata": {},
   "source": [
    "Should be in the data, not sure why it is not there."
   ]
  },
  {
   "cell_type": "markdown",
   "metadata": {},
   "source": [
    "## Events"
   ]
  },
  {
   "cell_type": "code",
   "execution_count": 15,
   "metadata": {},
   "outputs": [
    {
     "data": {
      "text/plain": [
       "{'Case ID': '8b99873a6136cfa6',\n",
       " 'Activity': 'Payment application-Application-mail income',\n",
       " 'org:resource': '0;n/a',\n",
       " 'time:timestamp': Timestamp('2015-05-08 00:00:00+0000', tz='UTC'),\n",
       " 'Variant': 'Variant 1832',\n",
       " 'Variant index': 1832,\n",
       " 'activity': 'mail income',\n",
       " 'concept:name': 'mail income',\n",
       " 'docid': -18008611495569447,\n",
       " 'doctype': 'Payment application',\n",
       " 'eventid': nan,\n",
       " 'lifecycle:transition': 'complete',\n",
       " 'note': 'none',\n",
       " 'subprocess': 'Application',\n",
       " 'success': True}"
      ]
     },
     "execution_count": 15,
     "metadata": {},
     "output_type": "execute_result"
    }
   ],
   "source": [
    "# check out first event\n",
    "first_event = dict(log[0][0])\n",
    "first_event"
   ]
  },
  {
   "cell_type": "code",
   "execution_count": 16,
   "metadata": {},
   "outputs": [],
   "source": [
    "# check event by Rowan\n",
    "import datetime\n",
    "event = {'success': True, 'org:resource': '0;n/a', 'docid_uuid': 'CD3DC291-76C6-420A-B3F1-7C808970915B',\n",
    " 'doctype': 'Payment application', 'subprocess': 'Application', 'docid': '-18008611495569447',\n",
    " 'activity': 'mail income', 'note': 'none', 'eventid': 'null', 'identity:id': '510B5333-731A-40FD-B7D6-FC149E50E961',\n",
    " 'concept:name': 'mail income', 'lifecycle:transition': 'complete',\n",
    " 'time:timestamp': datetime.datetime(2015, 5, 8, 0, 0, tzinfo=datetime.timezone(datetime.timedelta(seconds=7200)))}"
   ]
  },
  {
   "cell_type": "code",
   "execution_count": 17,
   "metadata": {},
   "outputs": [
    {
     "name": "stdout",
     "output_type": "stream",
     "text": [
      "Case ID\n",
      "Activity\n",
      "Variant\n",
      "Variant index\n"
     ]
    }
   ],
   "source": [
    "# check what is in my event and not in Rowans\n",
    "for key in first_event.keys():\n",
    "    if key not in event.keys():\n",
    "        print(key)"
   ]
  },
  {
   "cell_type": "code",
   "execution_count": 18,
   "metadata": {},
   "outputs": [
    {
     "name": "stdout",
     "output_type": "stream",
     "text": [
      "docid_uuid\n",
      "identity:id\n"
     ]
    }
   ],
   "source": [
    "# check what is in my event and not in Rowans\n",
    "for key in event.keys():\n",
    "    if key not in first_event.keys():\n",
    "        print(key)"
   ]
  }
 ],
 "metadata": {
  "kernelspec": {
   "display_name": "Python 3",
   "language": "python",
   "name": "python3"
  },
  "language_info": {
   "codemirror_mode": {
    "name": "ipython",
    "version": 3
   },
   "file_extension": ".py",
   "mimetype": "text/x-python",
   "name": "python",
   "nbconvert_exporter": "python",
   "pygments_lexer": "ipython3",
   "version": "3.7.4"
  }
 },
 "nbformat": 4,
 "nbformat_minor": 4
}
