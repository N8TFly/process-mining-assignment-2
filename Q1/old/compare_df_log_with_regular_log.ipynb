{
 "cells": [
  {
   "cell_type": "markdown",
   "metadata": {},
   "source": [
    "# Checkout log object"
   ]
  },
  {
   "cell_type": "markdown",
   "metadata": {},
   "source": [
    "### Traces"
   ]
  },
  {
   "cell_type": "code",
   "execution_count": 9,
   "metadata": {},
   "outputs": [
    {
     "data": {
      "text/plain": [
       "{'amount_applied0': 960.35,\n",
       " 'amount_applied1': nan,\n",
       " 'amount_applied2': nan,\n",
       " 'amount_applied3': nan,\n",
       " 'applicant': 'b3b1bafcf8a5c359',\n",
       " 'application': '8b99873a6136cfa6',\n",
       " 'area': 2.6994,\n",
       " 'basic payment': True,\n",
       " 'cross_compliance': 0.0,\n",
       " 'department': 'e7',\n",
       " 'greening': True,\n",
       " 'number_parcels': 3,\n",
       " 'payment_actual0': 960.35,\n",
       " 'payment_actual1': nan,\n",
       " 'payment_actual2': nan,\n",
       " 'payment_actual3': nan,\n",
       " 'penalty_ABP': False,\n",
       " 'penalty_AGP': False,\n",
       " 'penalty_AJLP': False,\n",
       " 'penalty_AUVP': False,\n",
       " 'penalty_AVBP': False,\n",
       " 'penalty_AVGP': False,\n",
       " 'penalty_AVJLP': False,\n",
       " 'penalty_AVUVP': False,\n",
       " 'penalty_B16': False,\n",
       " 'penalty_B2': False,\n",
       " 'penalty_B3': False,\n",
       " 'penalty_B4': False,\n",
       " 'penalty_B5': False,\n",
       " 'penalty_B5F': False,\n",
       " 'penalty_B6': False,\n",
       " 'penalty_BGK': False,\n",
       " 'penalty_BGKV': False,\n",
       " 'penalty_BGP': False,\n",
       " 'penalty_C16': False,\n",
       " 'penalty_C4': False,\n",
       " 'penalty_C9': False,\n",
       " 'penalty_CC': False,\n",
       " 'penalty_GP1': False,\n",
       " 'penalty_JLP1': False,\n",
       " 'penalty_JLP2': False,\n",
       " 'penalty_JLP3': False,\n",
       " 'penalty_JLP5': False,\n",
       " 'penalty_JLP6': False,\n",
       " 'penalty_JLP7': False,\n",
       " 'penalty_V5': False,\n",
       " 'penalty_amount0': 0.0,\n",
       " 'penalty_amount1': nan,\n",
       " 'penalty_amount2': nan,\n",
       " 'penalty_amount3': nan,\n",
       " 'program-id': 215,\n",
       " 'redistribution': True,\n",
       " 'rejected': False,\n",
       " 'risk_factor': 1.0,\n",
       " 'selected_manually': False,\n",
       " 'selected_random': False,\n",
       " 'selected_risk': False,\n",
       " 'small farmer': True,\n",
       " 'year': 2015,\n",
       " 'young farmer': False,\n",
       " 'concept:name': '8b99873a6136cfa6'}"
      ]
     },
     "execution_count": 9,
     "metadata": {},
     "output_type": "execute_result"
    }
   ],
   "source": [
    "# first trace\n",
    "log[0].attributes"
   ]
  },
  {
   "cell_type": "code",
   "execution_count": 10,
   "metadata": {},
   "outputs": [],
   "source": [
    "# first trace from Rowan\n",
    "trace = {'young farmer': False,\n",
    " 'selected_random': False,\n",
    " 'penalty_AJLP': False,\n",
    " 'application': '8b99873a6136cfa6',\n",
    " 'penalty_amount0': 0.0,\n",
    " 'program-id': '215',\n",
    " 'penalty_BGKV': False,\n",
    " 'penalty_AUVP': False,\n",
    " 'applicant': 'b3b1bafcf8a5c359',\n",
    " 'risk_factor': 1.0,\n",
    " 'small farmer': True,\n",
    " 'penalty_BGP': False,\n",
    " 'department': 'e7',\n",
    " 'penalty_C16': False,\n",
    " 'penalty_BGK': False,\n",
    " 'penalty_AVUVP': False,\n",
    " 'penalty_CC': False,\n",
    " 'penalty_AVJLP': False,\n",
    " 'penalty_C9': False,\n",
    " 'cross_compliance': 0.0,\n",
    " 'rejected': False,\n",
    " 'greening': True,\n",
    " 'penalty_C4': False,\n",
    " 'penalty_AVGP': False,\n",
    " 'penalty_ABP': False,\n",
    " 'penalty_B6': False,\n",
    " 'penalty_B4': False,\n",
    " 'penalty_B5': False,\n",
    " 'penalty_AVBP': False,\n",
    " 'penalty_B2': False,\n",
    " 'selected_risk': False,\n",
    " 'penalty_B3': False,\n",
    " 'area': 2.6994,\n",
    " 'selected_manually': False,\n",
    " 'penalty_AGP': False,\n",
    " 'penalty_B16': False,\n",
    " 'penalty_GP1': False,\n",
    " 'basic payment': True,\n",
    " 'penalty_B5F': False,\n",
    " 'penalty_V5': False,\n",
    " 'payment_actual0': 960.35,\n",
    " 'identity:id': 'B15FB890-574E-4117-B66A-BDFBC4FCAA6E',\n",
    " 'amount_applied0': 960.35,\n",
    " 'redistribution': True,\n",
    " 'penalty_JLP6': False,\n",
    " 'penalty_JLP7': False,\n",
    " 'year': '2015',\n",
    " 'penalty_JLP5': False,\n",
    " 'penalty_JLP2': False,\n",
    " 'penalty_JLP3': False,\n",
    " 'number_parcels': 3,\n",
    " 'penalty_JLP1': False,\n",
    " 'concept:name': '8b99873a6136cfa6'}"
   ]
  },
  {
   "cell_type": "code",
   "execution_count": 11,
   "metadata": {},
   "outputs": [
    {
     "name": "stdout",
     "output_type": "stream",
     "text": [
      "amount_applied1\n",
      "amount_applied2\n",
      "amount_applied3\n",
      "payment_actual1\n",
      "payment_actual2\n",
      "payment_actual3\n",
      "penalty_amount1\n",
      "penalty_amount2\n",
      "penalty_amount3\n"
     ]
    }
   ],
   "source": [
    "# check what is present in my log but not in Rowans\n",
    "for key in log[0].attributes.keys():\n",
    "    if key not in trace.keys():\n",
    "        print(key)"
   ]
  },
  {
   "cell_type": "markdown",
   "metadata": {},
   "source": [
    "Present while shouldn't be there. But they are all nan but are probably just removed by pm4py"
   ]
  },
  {
   "cell_type": "code",
   "execution_count": 12,
   "metadata": {},
   "outputs": [
    {
     "name": "stdout",
     "output_type": "stream",
     "text": [
      "identity:id\n"
     ]
    }
   ],
   "source": [
    "# check what is present in Rowan's logs but not in mine\n",
    "for key in trace.keys():\n",
    "    if key not in log[0].attributes.keys():\n",
    "        print(key)"
   ]
  },
  {
   "cell_type": "markdown",
   "metadata": {},
   "source": [
    "Should be in the data, not sure why it is not there."
   ]
  },
  {
   "cell_type": "markdown",
   "metadata": {},
   "source": [
    "## Events"
   ]
  },
  {
   "cell_type": "code",
   "execution_count": 13,
   "metadata": {},
   "outputs": [
    {
     "data": {
      "text/plain": [
       "{'Case ID': '8b99873a6136cfa6',\n",
       " 'Activity': 'Payment application-Application-mail income',\n",
       " 'org:resource': '0;n/a',\n",
       " 'time:timestamp': Timestamp('2015-05-08 00:00:00+0000', tz='UTC'),\n",
       " 'Variant': 'Variant 1832',\n",
       " 'Variant index': 1832,\n",
       " 'activity': 'mail income',\n",
       " 'concept:name': 'mail income',\n",
       " 'docid': -18008611495569447,\n",
       " 'doctype': 'Payment application',\n",
       " 'eventid': nan,\n",
       " 'lifecycle:transition': 'complete',\n",
       " 'note': 'none',\n",
       " 'subprocess': 'Application',\n",
       " 'success': True}"
      ]
     },
     "execution_count": 13,
     "metadata": {},
     "output_type": "execute_result"
    }
   ],
   "source": [
    "# check out first event\n",
    "first_event = dict(log[0][0])\n",
    "first_event"
   ]
  },
  {
   "cell_type": "code",
   "execution_count": 14,
   "metadata": {},
   "outputs": [],
   "source": [
    "# check event by Rowan\n",
    "import datetime\n",
    "event = {'success': True, 'org:resource': '0;n/a', 'docid_uuid': 'CD3DC291-76C6-420A-B3F1-7C808970915B',\n",
    " 'doctype': 'Payment application', 'subprocess': 'Application', 'docid': '-18008611495569447',\n",
    " 'activity': 'mail income', 'note': 'none', 'eventid': 'null', 'identity:id': '510B5333-731A-40FD-B7D6-FC149E50E961',\n",
    " 'concept:name': 'mail income', 'lifecycle:transition': 'complete',\n",
    " 'time:timestamp': datetime.datetime(2015, 5, 8, 0, 0, tzinfo=datetime.timezone(datetime.timedelta(seconds=7200)))}"
   ]
  },
  {
   "cell_type": "code",
   "execution_count": 15,
   "metadata": {},
   "outputs": [
    {
     "name": "stdout",
     "output_type": "stream",
     "text": [
      "Case ID\n",
      "Activity\n",
      "Variant\n",
      "Variant index\n"
     ]
    }
   ],
   "source": [
    "# check what is in my event and not in Rowans\n",
    "for key in first_event.keys():\n",
    "    if key not in event.keys():\n",
    "        print(key)"
   ]
  },
  {
   "cell_type": "code",
   "execution_count": 16,
   "metadata": {},
   "outputs": [
    {
     "name": "stdout",
     "output_type": "stream",
     "text": [
      "docid_uuid\n",
      "identity:id\n"
     ]
    }
   ],
   "source": [
    "# check what is in my event and not in Rowans\n",
    "for key in event.keys():\n",
    "    if key not in first_event.keys():\n",
    "        print(key)"
   ]
  }
 ],
 "metadata": {
  "kernelspec": {
   "display_name": "Python 3",
   "language": "python",
   "name": "python3"
  },
  "language_info": {
   "codemirror_mode": {
    "name": "ipython",
    "version": 3
   },
   "file_extension": ".py",
   "mimetype": "text/x-python",
   "name": "python",
   "nbconvert_exporter": "python",
   "pygments_lexer": "ipython3",
   "version": "3.8.5"
  }
 },
 "nbformat": 4,
 "nbformat_minor": 4
}
