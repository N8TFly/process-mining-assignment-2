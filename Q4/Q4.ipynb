{
 "cells": [
  {
   "cell_type": "markdown",
   "metadata": {},
   "source": [
    "#TODO\n",
    "1. splitten op jaartal voordat Xtrain en Ytrain gemaakt worden (2015 train en dan 2016 test maken)\n",
    "2. je mag alleen data gebruiken die tot de XOR-split gebeurt is\n",
    "3. van te voren een split kiezen (accept/reject) doctype komt niet altijd vaker voor in dezelfde trace\n",
    "4. risk factor is altijd 1"
   ]
  },
  {
   "cell_type": "code",
   "execution_count": 173,
   "metadata": {
    "scrolled": true
   },
   "outputs": [],
   "source": [
    "import json\n",
    "import sys\n",
    "from pathlib import Path\n",
    "import os\n",
    "import pickle\n",
    "import pandas as pd\n",
    "from copy import deepcopy\n",
    "from tqdm import tqdm\n",
    "import json\n",
    "from pathlib import Path\n",
    "import numpy as np\n",
    "\n",
    "module_path = str(Path.cwd().parents[0] / \"Q1\")\n",
    "if module_path not in sys.path:\n",
    "    sys.path.append(module_path)\n",
    "import utils\n",
    "\n",
    "module_path2 = str(Path.cwd().parents[0] / \"Q4/PyDREAM/pydream\")\n",
    "if module_path2 not in sys.path:\n",
    "    sys.path.append(module_path2)\n",
    "    \n",
    "import pm4py\n",
    "from pm4py.objects.log.importer.xes import importer as xes_import_factory\n",
    "from pm4py.objects.petri.exporter.exporter import pnml as pnml_exporter\n",
    "from pm4py.objects.petri.importer.importer import pnml as pnml_importer\n",
    "from pm4py.algo.discovery.heuristics import algorithm as heuristics_miner\n",
    "# from pm4py.objects.log.importer.csv import importer as csv_importer\n",
    "from pm4py.objects.conversion.log import converter as log_converter\n",
    "from pm4py.objects.log.util import dataframe_utils\n",
    "from pm4py.objects.log.util import get_log_representation\n",
    "\n",
    "from LogWrapper import LogWrapper\n",
    "from EnhancedPN import EnhancedPN\n",
    "from predictive.nap.NAP import NAP\n",
    "from predictive.nap.NAPr import NAPr\n",
    "from util.TimedStateSamples import loadTimedStateSamples\n",
    "\n",
    "from pm4py.visualization.petrinet import visualizer as pn_vis_factory\n",
    "from graphviz import *\n",
    "\n",
    "# Import utils.py from Q1 folder\n",
    "module_path = str(Path.cwd().parents[0] / \"Q1\")\n",
    "if module_path not in sys.path:\n",
    "    sys.path.append(module_path)\n",
    "import utils\n",
    "\n",
    "from pm4py.visualization.petrinet import visualizer\n",
    "from pm4py.algo.enhancement.decision import algorithm as decision_mining"
   ]
  },
  {
   "cell_type": "code",
   "execution_count": 174,
   "metadata": {
    "scrolled": true
   },
   "outputs": [],
   "source": [
    "def create_activity_categories(dataframe):\n",
    "    start = [\"income\", \"initialize\", \"begin\", \"create\"]\n",
    "    during = [\"editing\", \"performed\", \"calculate\", \"decide\", \"change\", \"correction\", \"revoke\", \"clear\", \"valid\", \"save\", \"plan\", \"prepare\", \"original\", \"check\", \"offline\", \"insert\", \"remove\", \"pre-check\"]\n",
    "    end = [\"finish\", \"abort\", \"discard\", \"withdraw\", \"approve\", \"refuse\"]\n",
    "    activity_type = [\"Payment\", \"Entitlement\", \"Control\", \"Parcel\", \"Geo\", \"Reference\", \"Department\", \"Inspection\"]\n",
    "    parsed = []\n",
    "    not_parsed = []\n",
    "    mapping = dict()\n",
    "    to_parse = deepcopy(dataframe[\"Activity\"].unique())\n",
    "\n",
    "    for idx, item in enumerate(tqdm(to_parse)):\n",
    "        filtered = False\n",
    "\n",
    "        for word in start:\n",
    "            if word in item:\n",
    "                for activity in activity_type:\n",
    "                    if activity in item:\n",
    "                        filtered = True\n",
    "                        mapping[to_parse[idx]] = \"Start_\" + activity\n",
    "                        parsed.append(to_parse[idx])\n",
    "                        break\n",
    "\n",
    "        for word in during:\n",
    "            if word in item:\n",
    "                for activity in activity_type:\n",
    "                    if activity in item:\n",
    "                        filtered = True\n",
    "                        mapping[to_parse[idx]] = \"During_\" + activity\n",
    "                        parsed.append(to_parse[idx])\n",
    "                        break\n",
    "\n",
    "        for word in end:\n",
    "            if word in item:\n",
    "                for activity in activity_type:\n",
    "                    if activity in item:\n",
    "                        filtered = True\n",
    "                        mapping[to_parse[idx]] = \"End_\" + activity\n",
    "                        parsed.append(to_parse[idx])\n",
    "                        break\n",
    "\n",
    "        if not filtered:\n",
    "            not_parsed.append(to_parse[idx])\n",
    "\n",
    "    if len(not_parsed) > 0:\n",
    "        raise ValueError(f\"Not all activities were correctly categorized as 'start', 'during', 'end' or were not given an 'activity_type'. \\n It concerns the following items: \\n \\n {not_parsed}\")\n",
    "    \n",
    "    total = len(set(val for dic in [mapping] for val in mapping.values()))\n",
    "    print(f\"There are {total} categories remaining.\")\n",
    "    \n",
    "    return mapping\n",
    "\n",
    "def add_mapping_to_df(dataframe):\n",
    "    for idx, item in enumerate(tqdm(dataframe.values)):\n",
    "        dataframe.at[idx, \"Categorized_Activity\"] = mapping[dataframe.loc[idx][\"Activity\"]]\n",
    "        \n",
    "def save_results(miner_name, filename, results):\n",
    "    with open(filename, \"w\") as file:\n",
    "        file.write(miner_name)\n",
    "        file.write(\"\\n\")\n",
    "        file.write(\"Fitness: \" + str(results[0]))\n",
    "        file.write(\"\\n\")\n",
    "        file.write(\"Generalization: \" + str(results[1]))\n",
    "        file.write(\"\\n\")\n",
    "        file.write(\"Simplicity: \" + str(results[2]))\n",
    "        file.write(\"\\n\")\n",
    "\n",
    "def analyze_petri(log, miner_name, net, initial_marking, final_marking, filter_type=\"doctype\"):\n",
    "    start = time.perf_counter()\n",
    "\n",
    "    # fitness based on toked-based replay\n",
    "    fitness = replay_fitness_evaluator.apply(log, net, initial_marking, final_marking, \n",
    "              variant=replay_fitness_evaluator.Variants.TOKEN_BASED,\n",
    "              parameters={constants.PARAMETER_CONSTANT_ACTIVITY_KEY: \"Categorized_Activity\"})\n",
    "    \n",
    "    gc.collect()\n",
    "\n",
    "    # precision based on token-based replay\n",
    "    #prec = precision_evaluator.apply(df2, net, initial_marking, final_marking, variant=precision_evaluator.Variants.ALIGN_ETCONFORMANCE, parameters={constants.PARAMETER_CONSTANT_ACTIVITY_KEY: \"Categorized_Activity\"})\n",
    "\n",
    "    #print(f\"[ Finished Precision metric: {time.perf_counter() - start} sec]\")\n",
    "\n",
    "    # collect garbage\n",
    "    #gc.collect()\n",
    "\n",
    "    # generalization based on token-based replay\n",
    "    gen = generalization_evaluator.apply(log, net, initial_marking, final_marking, parameters={constants.PARAMETER_CONSTANT_CASEID_KEY: 'case:concept:name', constants.PARAMETER_CONSTANT_ACTIVITY_KEY: \"Categorized_Activity\", constants.PARAMETER_CONSTANT_TIMESTAMP_KEY: \"time:timestamp\"})\n",
    "                                         \n",
    "\n",
    "    # collect garbage\n",
    "    gc.collect()\n",
    "\n",
    "    print(f\"[ Finished Generalization metric: {time.perf_counter() - start} sec]\")\n",
    "\n",
    "    # simplicity measured by the inverse arc degree\n",
    "    simp = simplicity_evaluator.apply(net)\n",
    "\n",
    "    print(f\"[Finished: {time.perf_counter() - start}]\")\n",
    "    results = [fitness, gen, simp]\n",
    "    filename = miner_name + \"_results.txt\"\n",
    "    \n",
    "    # save petri net\n",
    "    petrinet_name = miner_name + \".pnml\"\n",
    "    print(f\"[Saving petrinet of {miner_name} to file :{petrinet_name}_doctype]\")\n",
    "    pnml_exporter.export_net(net, initial_marking, petrinet_name)\n",
    "    \n",
    "    # save results\n",
    "    print(f\"[Saving {miner_name} to file :{filename}_doctype]\")\n",
    "    save_results(miner_name, filename, results)"
   ]
  },
  {
   "cell_type": "markdown",
   "metadata": {},
   "source": [
    "### Steps to reproduce\n",
    "1. pip3 install -r requirements.txt in the PyDream folder (installation for ortools will fail)\n",
    "2. pip3 install ortools==7.5.7466\n",
    "3. "
   ]
  },
  {
   "cell_type": "markdown",
   "metadata": {},
   "source": [
    "One important task in customer journey optimization is    predicting the next activity in the journey. It helps for instance in preparing the business owner for the next interaction point with the application. In this part, you will start from one of the process models from Part I of your choice. "
   ]
  },
  {
   "cell_type": "markdown",
   "metadata": {},
   "source": [
    "1. Select two meaningful XOR splits in the process model you choose from Part \n",
    "    1. “meaningful” selection of the XOR depends on how you will be able to motivate it from the business perspective. You can select XOR splits with more than two outgoing arcs."
   ]
  },
  {
   "cell_type": "code",
   "execution_count": 175,
   "metadata": {},
   "outputs": [
    {
     "name": "stdout",
     "output_type": "stream",
     "text": [
      "Loading FILTERED parquet version of original dataframe (need to run first part of 'transform_and_filter_df.ipynb' for this). \n"
     ]
    }
   ],
   "source": [
    "print(\"Loading FILTERED parquet version of original dataframe (need to run first part of 'transform_and_filter_df.ipynb' for this). \")\n",
    "df = utils.load_parquet_filtered()\n",
    "df[\"Categorized_Activity\"] = \"\"\n",
    "df = df.reset_index()\n",
    "\n",
    "# load undesired info log \n",
    "log = utils._load_pickle(\"../dataset/complete_undesired_outcomes_df\")\n",
    "\n",
    "# merge dataframes\n",
    "df = pd.merge(log, df)\n",
    "\n",
    "# Filter on Undesired Outcome 1\n",
    "df_1 = df.loc[df['Undesired Outcome 1'] == True]\n",
    "\n",
    "# remove some columns and rename\n",
    "#df_1 = df_1[['Case ID', \"Activity\", 'time:timestamp', \"Categorized_Activity\", \"doctype\", \"concept:name\"]].sort_values('time:timestamp').rename(columns={\"Case ID\": \"case:concept:name\"})\n",
    "df_1 = df_1.rename(columns={\"Case ID\": \"case:concept:name\"})\n",
    "# reset index for changes\n",
    "df_1 = df_1.reset_index()"
   ]
  },
  {
   "cell_type": "markdown",
   "metadata": {},
   "source": [
    "### Steps to reproduce\n",
    "1. pip3 install -r requirements.txt in the PyDream folder (installation for ortools will fail)\n",
    "2. pip3 install ortools==7.5.7466\n",
    "3. "
   ]
  },
  {
   "cell_type": "markdown",
   "metadata": {},
   "source": [
    "One important task in customer journey optimization is    predicting the next activity in the journey. It helps for instance in preparing the business owner for the next interaction point with the application. In this part, you will start from one of the process models from Part I of your choice. "
   ]
  },
  {
   "cell_type": "markdown",
   "metadata": {},
   "source": [
    "1. Select two meaningful XOR splits in the process model you choose from Part \n",
    "    1. “meaningful” selection of the XOR depends on how you will be able to motivate it from the business perspective. You can select XOR splits with more than two outgoing arcs."
   ]
  },
  {
   "cell_type": "code",
   "execution_count": 176,
   "metadata": {},
   "outputs": [
    {
     "name": "stdout",
     "output_type": "stream",
     "text": [
      "Loading FILTERED parquet version of original dataframe (need to run first part of 'transform_and_filter_df.ipynb' for this). \n"
     ]
    }
   ],
   "source": [
    "print(\"Loading FILTERED parquet version of original dataframe (need to run first part of 'transform_and_filter_df.ipynb' for this). \")\n",
    "df = utils.load_parquet_filtered()\n",
    "df[\"Categorized_Activity\"] = \"\"\n",
    "df = df.reset_index()\n",
    "\n",
    "# load undesired info log \n",
    "log = utils._load_pickle(\"../dataset/complete_undesired_outcomes_df\")\n",
    "\n",
    "# merge dataframes\n",
    "df = pd.merge(log, df)\n",
    "\n",
    "# Filter on Undesired Outcome 1\n",
    "df_1 = df.loc[df['Undesired Outcome 1'] == True]\n",
    "\n",
    "# remove some columns and rename\n",
    "#df_1 = df_1[['Case ID', \"Activity\", 'time:timestamp', \"Categorized_Activity\", \"doctype\", \"concept:name\"]].sort_values('time:timestamp').rename(columns={\"Case ID\": \"case:concept:name\"})\n",
    "df_1 = df_1.rename(columns={\"Case ID\": \"case:concept:name\"}).sort_values('time:timestamp')\n",
    "# reset index for changes\n",
    "df_1 = df_1.reset_index()"
   ]
  },
  {
   "cell_type": "code",
   "execution_count": 177,
   "metadata": {},
   "outputs": [
    {
     "name": "stderr",
     "output_type": "stream",
     "text": [
      "100%|██████████| 110/110 [00:00<00:00, 186037.68it/s]\n",
      "  5%|▌         | 535/10071 [00:00<00:01, 5340.32it/s]"
     ]
    },
    {
     "name": "stdout",
     "output_type": "stream",
     "text": [
      "There are 21 categories remaining.\n"
     ]
    },
    {
     "name": "stderr",
     "output_type": "stream",
     "text": [
      "100%|██████████| 10071/10071 [00:01<00:00, 5669.17it/s]\n"
     ]
    },
    {
     "data": {
      "text/html": [
       "<div>\n",
       "<style scoped>\n",
       "    .dataframe tbody tr th:only-of-type {\n",
       "        vertical-align: middle;\n",
       "    }\n",
       "\n",
       "    .dataframe tbody tr th {\n",
       "        vertical-align: top;\n",
       "    }\n",
       "\n",
       "    .dataframe thead th {\n",
       "        text-align: right;\n",
       "    }\n",
       "</style>\n",
       "<table border=\"1\" class=\"dataframe\">\n",
       "  <thead>\n",
       "    <tr style=\"text-align: right;\">\n",
       "      <th></th>\n",
       "      <th>level_0</th>\n",
       "      <th>case:concept:name</th>\n",
       "      <th>Undesired Outcome 2</th>\n",
       "      <th>Undesired Outcome 1</th>\n",
       "      <th>Both</th>\n",
       "      <th>Normal</th>\n",
       "      <th>index</th>\n",
       "      <th>Activity</th>\n",
       "      <th>org:resource</th>\n",
       "      <th>time:timestamp</th>\n",
       "      <th>...</th>\n",
       "      <th>activity</th>\n",
       "      <th>concept:name</th>\n",
       "      <th>docid</th>\n",
       "      <th>doctype</th>\n",
       "      <th>eventid</th>\n",
       "      <th>lifecycle:transition</th>\n",
       "      <th>note</th>\n",
       "      <th>subprocess</th>\n",
       "      <th>success</th>\n",
       "      <th>Categorized_Activity</th>\n",
       "    </tr>\n",
       "  </thead>\n",
       "  <tbody>\n",
       "    <tr>\n",
       "      <th>10066</th>\n",
       "      <td>38426</td>\n",
       "      <td>d6e1ac5882a446e3</td>\n",
       "      <td>False</td>\n",
       "      <td>True</td>\n",
       "      <td>False</td>\n",
       "      <td>False</td>\n",
       "      <td>1802734</td>\n",
       "      <td>Inspection-On-Site-save</td>\n",
       "      <td>f8da29</td>\n",
       "      <td>2018-01-19 07:53:07.679000+00:00</td>\n",
       "      <td>...</td>\n",
       "      <td>save</td>\n",
       "      <td>save</td>\n",
       "      <td>-144109123420021491</td>\n",
       "      <td>Inspection</td>\n",
       "      <td>-1.441091e+17</td>\n",
       "      <td>complete</td>\n",
       "      <td>none</td>\n",
       "      <td>On-Site</td>\n",
       "      <td>True</td>\n",
       "      <td>During_Inspection</td>\n",
       "    </tr>\n",
       "    <tr>\n",
       "      <th>10067</th>\n",
       "      <td>38427</td>\n",
       "      <td>d6e1ac5882a446e3</td>\n",
       "      <td>False</td>\n",
       "      <td>True</td>\n",
       "      <td>False</td>\n",
       "      <td>False</td>\n",
       "      <td>1802735</td>\n",
       "      <td>Inspection-On-Site-save</td>\n",
       "      <td>f8da29</td>\n",
       "      <td>2018-01-19 07:55:14.311000+00:00</td>\n",
       "      <td>...</td>\n",
       "      <td>save</td>\n",
       "      <td>save</td>\n",
       "      <td>-144109123420021491</td>\n",
       "      <td>Inspection</td>\n",
       "      <td>-1.441091e+17</td>\n",
       "      <td>complete</td>\n",
       "      <td>none</td>\n",
       "      <td>On-Site</td>\n",
       "      <td>True</td>\n",
       "      <td>During_Inspection</td>\n",
       "    </tr>\n",
       "    <tr>\n",
       "      <th>10068</th>\n",
       "      <td>38428</td>\n",
       "      <td>d6e1ac5882a446e3</td>\n",
       "      <td>False</td>\n",
       "      <td>True</td>\n",
       "      <td>False</td>\n",
       "      <td>False</td>\n",
       "      <td>1802736</td>\n",
       "      <td>Inspection-On-Site-save</td>\n",
       "      <td>f8da29</td>\n",
       "      <td>2018-01-19 07:55:22.173000+00:00</td>\n",
       "      <td>...</td>\n",
       "      <td>save</td>\n",
       "      <td>save</td>\n",
       "      <td>-144109123420021491</td>\n",
       "      <td>Inspection</td>\n",
       "      <td>-1.441091e+17</td>\n",
       "      <td>complete</td>\n",
       "      <td>none</td>\n",
       "      <td>On-Site</td>\n",
       "      <td>True</td>\n",
       "      <td>During_Inspection</td>\n",
       "    </tr>\n",
       "    <tr>\n",
       "      <th>10069</th>\n",
       "      <td>38429</td>\n",
       "      <td>d6e1ac5882a446e3</td>\n",
       "      <td>False</td>\n",
       "      <td>True</td>\n",
       "      <td>False</td>\n",
       "      <td>False</td>\n",
       "      <td>1802737</td>\n",
       "      <td>Inspection-On-Site-performed offline</td>\n",
       "      <td>f8da29</td>\n",
       "      <td>2018-01-19 07:56:37.075000+00:00</td>\n",
       "      <td>...</td>\n",
       "      <td>performed offline</td>\n",
       "      <td>performed offline</td>\n",
       "      <td>-144109123420021491</td>\n",
       "      <td>Inspection</td>\n",
       "      <td>-1.441091e+17</td>\n",
       "      <td>complete</td>\n",
       "      <td>none</td>\n",
       "      <td>On-Site</td>\n",
       "      <td>True</td>\n",
       "      <td>During_Inspection</td>\n",
       "    </tr>\n",
       "    <tr>\n",
       "      <th>10070</th>\n",
       "      <td>38430</td>\n",
       "      <td>d6e1ac5882a446e3</td>\n",
       "      <td>False</td>\n",
       "      <td>True</td>\n",
       "      <td>False</td>\n",
       "      <td>False</td>\n",
       "      <td>1802738</td>\n",
       "      <td>Inspection-On-Site-finish editing</td>\n",
       "      <td>f8da29</td>\n",
       "      <td>2018-01-19 07:56:52.811000+00:00</td>\n",
       "      <td>...</td>\n",
       "      <td>finish editing</td>\n",
       "      <td>finish editing</td>\n",
       "      <td>-144109123420021491</td>\n",
       "      <td>Inspection</td>\n",
       "      <td>-1.441091e+17</td>\n",
       "      <td>complete</td>\n",
       "      <td>none</td>\n",
       "      <td>On-Site</td>\n",
       "      <td>True</td>\n",
       "      <td>End_Inspection</td>\n",
       "    </tr>\n",
       "  </tbody>\n",
       "</table>\n",
       "<p>5 rows × 82 columns</p>\n",
       "</div>"
      ],
      "text/plain": [
       "       level_0 case:concept:name  Undesired Outcome 2  Undesired Outcome 1  \\\n",
       "10066    38426  d6e1ac5882a446e3                False                 True   \n",
       "10067    38427  d6e1ac5882a446e3                False                 True   \n",
       "10068    38428  d6e1ac5882a446e3                False                 True   \n",
       "10069    38429  d6e1ac5882a446e3                False                 True   \n",
       "10070    38430  d6e1ac5882a446e3                False                 True   \n",
       "\n",
       "        Both Normal    index                              Activity  \\\n",
       "10066  False  False  1802734               Inspection-On-Site-save   \n",
       "10067  False  False  1802735               Inspection-On-Site-save   \n",
       "10068  False  False  1802736               Inspection-On-Site-save   \n",
       "10069  False  False  1802737  Inspection-On-Site-performed offline   \n",
       "10070  False  False  1802738     Inspection-On-Site-finish editing   \n",
       "\n",
       "      org:resource                   time:timestamp  ...           activity  \\\n",
       "10066       f8da29 2018-01-19 07:53:07.679000+00:00  ...               save   \n",
       "10067       f8da29 2018-01-19 07:55:14.311000+00:00  ...               save   \n",
       "10068       f8da29 2018-01-19 07:55:22.173000+00:00  ...               save   \n",
       "10069       f8da29 2018-01-19 07:56:37.075000+00:00  ...  performed offline   \n",
       "10070       f8da29 2018-01-19 07:56:52.811000+00:00  ...     finish editing   \n",
       "\n",
       "            concept:name               docid     doctype       eventid  \\\n",
       "10066               save -144109123420021491  Inspection -1.441091e+17   \n",
       "10067               save -144109123420021491  Inspection -1.441091e+17   \n",
       "10068               save -144109123420021491  Inspection -1.441091e+17   \n",
       "10069  performed offline -144109123420021491  Inspection -1.441091e+17   \n",
       "10070     finish editing -144109123420021491  Inspection -1.441091e+17   \n",
       "\n",
       "       lifecycle:transition  note subprocess  success  Categorized_Activity  \n",
       "10066              complete  none    On-Site     True     During_Inspection  \n",
       "10067              complete  none    On-Site     True     During_Inspection  \n",
       "10068              complete  none    On-Site     True     During_Inspection  \n",
       "10069              complete  none    On-Site     True     During_Inspection  \n",
       "10070              complete  none    On-Site     True        End_Inspection  \n",
       "\n",
       "[5 rows x 82 columns]"
      ]
     },
     "execution_count": 177,
     "metadata": {},
     "output_type": "execute_result"
    }
   ],
   "source": [
    "# create the mapping\n",
    "mapping = create_activity_categories(df_1)\n",
    "\n",
    "# append column with new mapping to our old dataframe\n",
    "add_mapping_to_df(df_1)\n",
    "\n",
    "#output first 5 results\n",
    "df_1.tail()"
   ]
  },
  {
   "cell_type": "code",
   "execution_count": 328,
   "metadata": {},
   "outputs": [],
   "source": [
    "def filter_df_on_year(dataframe, year):\n",
    "    \"\"\"Returns filtered dataframe\"\"\"\n",
    "    mask = (dataframe[\"time:timestamp\"] < str(year)).to_numpy()\n",
    "    return dataframe[mask]\n",
    "\n",
    "def filter_df_on_end_place(dataframe, activity):\n",
    "    "
   ]
  },
  {
   "cell_type": "code",
   "execution_count": null,
   "metadata": {},
   "outputs": [],
   "source": []
  },
  {
   "cell_type": "code",
   "execution_count": 178,
   "metadata": {},
   "outputs": [],
   "source": [
    "# csv = df_1.to_csv(\"df_1.csv\")\n",
    "\n",
    "# #event_stream = csv_importer.import_event_stream(os.path.join(\"tests\", \"input_data\", \"running-example.csv\"))\n",
    "log_csv = pd.read_csv('df_1.csv', sep=',')\n",
    "log_csv = dataframe_utils.convert_timestamp_columns_in_df(log_csv)\n",
    "log_csv = log_csv.sort_values('time:timestamp')\n",
    "event_log = log_converter.apply(log_csv)\n",
    "\n",
    "# # automatic feature selection on the event log\n",
    "# \"\"\"Results in 10 features that will be one hot encoded and used to traint the model\"\"\"\n",
    "# \"\"\" 8 out of 21 categories were considered important, together with index (so not timestamp) which is because\n",
    "# the traces were already sorted on timestamp. Lastly the Unnamed 0 feature from the event log. \n",
    "\n",
    "# \"\"\"\n",
    "# # data, feature_names = get_log_representation.get_default_representation(event_log)\n",
    "# # feature_names"
   ]
  },
  {
   "cell_type": "code",
   "execution_count": 179,
   "metadata": {
    "scrolled": true
   },
   "outputs": [],
   "source": [
    "# generate a list of concept names\n",
    "\"\"\" Results in 36 unique concept:names\"\"\"\n",
    "activity_names = []\n",
    "for trace in event_log:\n",
    "    for event in trace:\n",
    "        if event[\"activity\"] in activity_names:\n",
    "            continue\n",
    "        else:\n",
    "            activity_names.append(event['activity'])"
   ]
  },
  {
   "cell_type": "code",
   "execution_count": 180,
   "metadata": {},
   "outputs": [
    {
     "name": "stderr",
     "output_type": "stream",
     "text": [
      "10071it [00:01, 5847.19it/s]\n"
     ]
    }
   ],
   "source": [
    "\"\"\"Per case, add trace information to the dictionary consisting of:\n",
    "    1. Young farmer\n",
    "    2. Area\n",
    "    3. Risk Factor\n",
    "    4. Number of parcels\n",
    "    5. Small famer\n",
    "    \n",
    "    Zijn al op tijd gesorteerd op time:timestamp bij het inladen van de dictionary\n",
    "    \n",
    "    Current Mapping:\n",
    "    [0: timestamp, \n",
    "     1: activity, \n",
    "     2: identifier, \n",
    "     3: categorized_activity, \n",
    "     4: young_farmer, \n",
    "     5: area, \n",
    "     6: risk_factor, \n",
    "     7: number_parcels, \n",
    "     8: small_farmer,\n",
    "     9: previous_activity,\n",
    "     10: next_activity]\n",
    "\"\"\"\n",
    "\n",
    "case_dict = {}\n",
    "df_1[\"Previous_Activity_OneHot\"] = \"\"\n",
    "df_1[\"Next_Activity_OneHot\"] = \"\"\n",
    "df_1[\"young_farmer\"] = 0\n",
    "\n",
    "for idx, row in tqdm(df_1.iterrows()):\n",
    "    young_farmer = 1 if row['(case) young farmer'] == True else 0\n",
    "    area = row['(case) area']\n",
    "    risk_factor = row['(case) risk_factor']\n",
    "    number_parcels = row['(case) number_parcels']\n",
    "    small_farmer = row['(case) small farmer']\n",
    "    timestamp = row['time:timestamp']\n",
    "    activity = row['activity']\n",
    "    identifier = row[\"level_0\"]\n",
    "    categorized_activity = row[\"Categorized_Activity\"]\n",
    "    \n",
    "    data = [timestamp, activity, identifier, categorized_activity, young_farmer, \n",
    "            area, risk_factor, number_parcels, small_farmer]\n",
    "    \n",
    "    if row[\"case:concept:name\"] in case_dict.keys():\n",
    "        case_dict[row[\"case:concept:name\"]].append(data)\n",
    "    else:\n",
    "        case_dict[row[\"case:concept:name\"]] = []\n",
    "        case_dict[row[\"case:concept:name\"]].append(data)"
   ]
  },
  {
   "cell_type": "code",
   "execution_count": 181,
   "metadata": {},
   "outputs": [
    {
     "name": "stderr",
     "output_type": "stream",
     "text": [
      "100%|██████████| 184/184 [00:00<00:00, 3320.05it/s]\n"
     ]
    }
   ],
   "source": [
    "\"\"\"Add one-hot for previous activity\"\"\"\n",
    "for sth, case in enumerate(tqdm(case_dict)):\n",
    "    for idx, event in enumerate(case_dict[case]):\n",
    "        if idx == 0:\n",
    "            previous_activity = [0 for i in range(36)]\n",
    "        else:\n",
    "            previous_activity = [1 if case_dict[case][idx-1][1] == value else 0 for value in activity_names]\n",
    "        event.append(previous_activity)"
   ]
  },
  {
   "cell_type": "code",
   "execution_count": 182,
   "metadata": {},
   "outputs": [
    {
     "name": "stderr",
     "output_type": "stream",
     "text": [
      "100%|██████████| 184/184 [00:00<00:00, 3668.02it/s]\n"
     ]
    }
   ],
   "source": [
    "\"\"\"Add one-hot for next activity\"\"\"\n",
    "for sth, case in enumerate(tqdm(case_dict)):\n",
    "    for idx, event in enumerate(case_dict[case]):\n",
    "        if idx == len(case_dict[case])-1:\n",
    "            next_activity = [0 for i in range(36)]\n",
    "        else:\n",
    "            next_activity = [1 if case_dict[case][idx+1][1] == value else 0 for value in activity_names]\n",
    "        event.append(next_activity)"
   ]
  },
  {
   "cell_type": "code",
   "execution_count": 183,
   "metadata": {},
   "outputs": [
    {
     "name": "stderr",
     "output_type": "stream",
     "text": [
      "100%|██████████| 184/184 [01:42<00:00,  1.80it/s]\n"
     ]
    }
   ],
   "source": [
    "\"\"\"Add one-hot previous, next and young-farmer binary to the dataframe\"\"\"\n",
    "for case_id in tqdm(df_1[\"case:concept:name\"].unique()):\n",
    "    for idx in df_1.index[df_1[\"case:concept:name\"] == case_id]:\n",
    "        for event in case_dict[case_id]:\n",
    "            if event[2] == df_1.loc[idx][\"level_0\"]:\n",
    "                df_1.at[idx, \"Previous_Activity_OneHot\"] = event[-2]\n",
    "                df_1.at[idx, \"Next_Activity_OneHot\"] = event[-1]\n",
    "                df_1.at[idx, \"young_farmer\"] = 1 if event[4] else 0"
   ]
  },
  {
   "cell_type": "code",
   "execution_count": 299,
   "metadata": {},
   "outputs": [
    {
     "data": {
      "text/html": [
       "<div>\n",
       "<style scoped>\n",
       "    .dataframe tbody tr th:only-of-type {\n",
       "        vertical-align: middle;\n",
       "    }\n",
       "\n",
       "    .dataframe tbody tr th {\n",
       "        vertical-align: top;\n",
       "    }\n",
       "\n",
       "    .dataframe thead th {\n",
       "        text-align: right;\n",
       "    }\n",
       "</style>\n",
       "<table border=\"1\" class=\"dataframe\">\n",
       "  <thead>\n",
       "    <tr style=\"text-align: right;\">\n",
       "      <th></th>\n",
       "      <th>level_0</th>\n",
       "      <th>case:concept:name</th>\n",
       "      <th>Undesired Outcome 2</th>\n",
       "      <th>Undesired Outcome 1</th>\n",
       "      <th>Both</th>\n",
       "      <th>Normal</th>\n",
       "      <th>index</th>\n",
       "      <th>Activity</th>\n",
       "      <th>org:resource</th>\n",
       "      <th>time:timestamp</th>\n",
       "      <th>...</th>\n",
       "      <th>doctype</th>\n",
       "      <th>eventid</th>\n",
       "      <th>lifecycle:transition</th>\n",
       "      <th>note</th>\n",
       "      <th>subprocess</th>\n",
       "      <th>success</th>\n",
       "      <th>Categorized_Activity</th>\n",
       "      <th>Previous_Activity_OneHot</th>\n",
       "      <th>Next_Activity_OneHot</th>\n",
       "      <th>young_farmer</th>\n",
       "    </tr>\n",
       "  </thead>\n",
       "  <tbody>\n",
       "    <tr>\n",
       "      <th>0</th>\n",
       "      <td>25616</td>\n",
       "      <td>99706b163f66b8ab</td>\n",
       "      <td>True</td>\n",
       "      <td>True</td>\n",
       "      <td>True</td>\n",
       "      <td>False</td>\n",
       "      <td>761800</td>\n",
       "      <td>Payment application-Application-mail income</td>\n",
       "      <td>0;n/a</td>\n",
       "      <td>2015-04-15 00:00:00+00:00</td>\n",
       "      <td>...</td>\n",
       "      <td>Payment application</td>\n",
       "      <td>NaN</td>\n",
       "      <td>complete</td>\n",
       "      <td>none</td>\n",
       "      <td>Application</td>\n",
       "      <td>True</td>\n",
       "      <td>Start_Payment</td>\n",
       "      <td>[0, 0, 0, 0, 0, 0, 0, 0, 0, 0, 0, 0, 0, 0, 0, ...</td>\n",
       "      <td>[0, 1, 0, 0, 0, 0, 0, 0, 0, 0, 0, 0, 0, 0, 0, ...</td>\n",
       "      <td>0</td>\n",
       "    </tr>\n",
       "    <tr>\n",
       "      <th>11</th>\n",
       "      <td>25618</td>\n",
       "      <td>99706b163f66b8ab</td>\n",
       "      <td>True</td>\n",
       "      <td>True</td>\n",
       "      <td>True</td>\n",
       "      <td>False</td>\n",
       "      <td>761802</td>\n",
       "      <td>Payment application-Application-mail valid</td>\n",
       "      <td>0;n/a</td>\n",
       "      <td>2015-04-28 00:00:00+00:00</td>\n",
       "      <td>...</td>\n",
       "      <td>Payment application</td>\n",
       "      <td>NaN</td>\n",
       "      <td>complete</td>\n",
       "      <td>none</td>\n",
       "      <td>Application</td>\n",
       "      <td>True</td>\n",
       "      <td>During_Payment</td>\n",
       "      <td>[1, 0, 0, 0, 0, 0, 0, 0, 0, 0, 0, 0, 0, 0, 0, ...</td>\n",
       "      <td>[0, 1, 0, 0, 0, 0, 0, 0, 0, 0, 0, 0, 0, 0, 0, ...</td>\n",
       "      <td>0</td>\n",
       "    </tr>\n",
       "    <tr>\n",
       "      <th>14</th>\n",
       "      <td>25617</td>\n",
       "      <td>99706b163f66b8ab</td>\n",
       "      <td>True</td>\n",
       "      <td>True</td>\n",
       "      <td>True</td>\n",
       "      <td>False</td>\n",
       "      <td>761801</td>\n",
       "      <td>Entitlement application-Main-mail valid</td>\n",
       "      <td>0;n/a</td>\n",
       "      <td>2015-04-28 00:00:00+00:00</td>\n",
       "      <td>...</td>\n",
       "      <td>Entitlement application</td>\n",
       "      <td>NaN</td>\n",
       "      <td>complete</td>\n",
       "      <td>none</td>\n",
       "      <td>Main</td>\n",
       "      <td>True</td>\n",
       "      <td>During_Entitlement</td>\n",
       "      <td>[0, 1, 0, 0, 0, 0, 0, 0, 0, 0, 0, 0, 0, 0, 0, ...</td>\n",
       "      <td>[0, 1, 0, 0, 0, 0, 0, 0, 0, 0, 0, 0, 0, 0, 0, ...</td>\n",
       "      <td>0</td>\n",
       "    </tr>\n",
       "    <tr>\n",
       "      <th>15</th>\n",
       "      <td>25619</td>\n",
       "      <td>99706b163f66b8ab</td>\n",
       "      <td>True</td>\n",
       "      <td>True</td>\n",
       "      <td>True</td>\n",
       "      <td>False</td>\n",
       "      <td>761803</td>\n",
       "      <td>Entitlement application-Main-mail valid</td>\n",
       "      <td>0;n/a</td>\n",
       "      <td>2015-04-28 00:00:00+00:00</td>\n",
       "      <td>...</td>\n",
       "      <td>Entitlement application</td>\n",
       "      <td>NaN</td>\n",
       "      <td>complete</td>\n",
       "      <td>none</td>\n",
       "      <td>Main</td>\n",
       "      <td>True</td>\n",
       "      <td>During_Entitlement</td>\n",
       "      <td>[0, 1, 0, 0, 0, 0, 0, 0, 0, 0, 0, 0, 0, 0, 0, ...</td>\n",
       "      <td>[0, 0, 1, 0, 0, 0, 0, 0, 0, 0, 0, 0, 0, 0, 0, ...</td>\n",
       "      <td>0</td>\n",
       "    </tr>\n",
       "    <tr>\n",
       "      <th>368</th>\n",
       "      <td>25622</td>\n",
       "      <td>99706b163f66b8ab</td>\n",
       "      <td>True</td>\n",
       "      <td>True</td>\n",
       "      <td>True</td>\n",
       "      <td>False</td>\n",
       "      <td>761806</td>\n",
       "      <td>Parcel document-Main-finish editing</td>\n",
       "      <td>Document processing automaton</td>\n",
       "      <td>2015-06-15 08:18:04+00:00</td>\n",
       "      <td>...</td>\n",
       "      <td>Parcel document</td>\n",
       "      <td>-1.800866e+16</td>\n",
       "      <td>complete</td>\n",
       "      <td>none</td>\n",
       "      <td>Main</td>\n",
       "      <td>True</td>\n",
       "      <td>End_Parcel</td>\n",
       "      <td>[0, 1, 0, 0, 0, 0, 0, 0, 0, 0, 0, 0, 0, 0, 0, ...</td>\n",
       "      <td>[0, 0, 0, 1, 0, 0, 0, 0, 0, 0, 0, 0, 0, 0, 0, ...</td>\n",
       "      <td>0</td>\n",
       "    </tr>\n",
       "    <tr>\n",
       "      <th>...</th>\n",
       "      <td>...</td>\n",
       "      <td>...</td>\n",
       "      <td>...</td>\n",
       "      <td>...</td>\n",
       "      <td>...</td>\n",
       "      <td>...</td>\n",
       "      <td>...</td>\n",
       "      <td>...</td>\n",
       "      <td>...</td>\n",
       "      <td>...</td>\n",
       "      <td>...</td>\n",
       "      <td>...</td>\n",
       "      <td>...</td>\n",
       "      <td>...</td>\n",
       "      <td>...</td>\n",
       "      <td>...</td>\n",
       "      <td>...</td>\n",
       "      <td>...</td>\n",
       "      <td>...</td>\n",
       "      <td>...</td>\n",
       "      <td>...</td>\n",
       "    </tr>\n",
       "    <tr>\n",
       "      <th>2392</th>\n",
       "      <td>25686</td>\n",
       "      <td>99706b163f66b8ab</td>\n",
       "      <td>True</td>\n",
       "      <td>True</td>\n",
       "      <td>True</td>\n",
       "      <td>False</td>\n",
       "      <td>761870</td>\n",
       "      <td>Payment application-Application-decide</td>\n",
       "      <td>822fb7</td>\n",
       "      <td>2016-01-27 11:22:31.696000+00:00</td>\n",
       "      <td>...</td>\n",
       "      <td>Payment application</td>\n",
       "      <td>-1.260950e+17</td>\n",
       "      <td>complete</td>\n",
       "      <td>none</td>\n",
       "      <td>Application</td>\n",
       "      <td>True</td>\n",
       "      <td>During_Payment</td>\n",
       "      <td>[0, 0, 1, 0, 0, 0, 0, 0, 0, 0, 0, 0, 0, 0, 0, ...</td>\n",
       "      <td>[0, 0, 0, 0, 0, 0, 0, 0, 0, 0, 0, 0, 0, 1, 0, ...</td>\n",
       "      <td>0</td>\n",
       "    </tr>\n",
       "    <tr>\n",
       "      <th>2393</th>\n",
       "      <td>25687</td>\n",
       "      <td>99706b163f66b8ab</td>\n",
       "      <td>True</td>\n",
       "      <td>True</td>\n",
       "      <td>True</td>\n",
       "      <td>False</td>\n",
       "      <td>761871</td>\n",
       "      <td>Payment application-Application-insert document</td>\n",
       "      <td>76f30e</td>\n",
       "      <td>2016-01-27 11:22:56.050000+00:00</td>\n",
       "      <td>...</td>\n",
       "      <td>Payment application</td>\n",
       "      <td>-1.260950e+17</td>\n",
       "      <td>complete</td>\n",
       "      <td>notification for applicant</td>\n",
       "      <td>Application</td>\n",
       "      <td>True</td>\n",
       "      <td>During_Payment</td>\n",
       "      <td>[0, 0, 0, 0, 0, 0, 0, 0, 0, 0, 0, 0, 0, 0, 1, ...</td>\n",
       "      <td>[0, 0, 0, 0, 0, 0, 1, 0, 0, 0, 0, 0, 0, 0, 0, ...</td>\n",
       "      <td>0</td>\n",
       "    </tr>\n",
       "    <tr>\n",
       "      <th>2394</th>\n",
       "      <td>25688</td>\n",
       "      <td>99706b163f66b8ab</td>\n",
       "      <td>True</td>\n",
       "      <td>True</td>\n",
       "      <td>True</td>\n",
       "      <td>False</td>\n",
       "      <td>761872</td>\n",
       "      <td>Payment application-Main-save</td>\n",
       "      <td>76f30e</td>\n",
       "      <td>2016-01-27 11:25:37.604000+00:00</td>\n",
       "      <td>...</td>\n",
       "      <td>Payment application</td>\n",
       "      <td>-1.260950e+17</td>\n",
       "      <td>complete</td>\n",
       "      <td>none</td>\n",
       "      <td>Main</td>\n",
       "      <td>True</td>\n",
       "      <td>During_Payment</td>\n",
       "      <td>[0, 0, 0, 0, 0, 0, 0, 0, 0, 0, 0, 0, 0, 1, 0, ...</td>\n",
       "      <td>[0, 0, 0, 0, 0, 0, 0, 0, 0, 0, 0, 0, 0, 0, 0, ...</td>\n",
       "      <td>0</td>\n",
       "    </tr>\n",
       "    <tr>\n",
       "      <th>2531</th>\n",
       "      <td>25689</td>\n",
       "      <td>99706b163f66b8ab</td>\n",
       "      <td>True</td>\n",
       "      <td>True</td>\n",
       "      <td>True</td>\n",
       "      <td>False</td>\n",
       "      <td>761873</td>\n",
       "      <td>Payment application-Application-begin payment</td>\n",
       "      <td>DP-Z</td>\n",
       "      <td>2016-01-29 09:24:08.792000+00:00</td>\n",
       "      <td>...</td>\n",
       "      <td>Payment application</td>\n",
       "      <td>-1.800858e+16</td>\n",
       "      <td>complete</td>\n",
       "      <td>automatic during payment</td>\n",
       "      <td>Application</td>\n",
       "      <td>True</td>\n",
       "      <td>Start_Payment</td>\n",
       "      <td>[0, 0, 0, 0, 0, 0, 1, 0, 0, 0, 0, 0, 0, 0, 0, ...</td>\n",
       "      <td>[0, 0, 0, 0, 0, 0, 0, 0, 0, 0, 0, 0, 0, 0, 0, ...</td>\n",
       "      <td>0</td>\n",
       "    </tr>\n",
       "    <tr>\n",
       "      <th>2571</th>\n",
       "      <td>25690</td>\n",
       "      <td>99706b163f66b8ab</td>\n",
       "      <td>True</td>\n",
       "      <td>True</td>\n",
       "      <td>True</td>\n",
       "      <td>False</td>\n",
       "      <td>761874</td>\n",
       "      <td>Payment application-Application-finish payment</td>\n",
       "      <td>DP-Z</td>\n",
       "      <td>2016-02-03 10:48:42.152000+00:00</td>\n",
       "      <td>...</td>\n",
       "      <td>Payment application</td>\n",
       "      <td>-1.800858e+16</td>\n",
       "      <td>complete</td>\n",
       "      <td>automatic during payment</td>\n",
       "      <td>Application</td>\n",
       "      <td>True</td>\n",
       "      <td>End_Payment</td>\n",
       "      <td>[0, 0, 0, 0, 0, 0, 0, 0, 0, 0, 0, 0, 0, 0, 0, ...</td>\n",
       "      <td>[0, 0, 0, 0, 0, 0, 0, 0, 0, 0, 0, 0, 0, 0, 0, ...</td>\n",
       "      <td>0</td>\n",
       "    </tr>\n",
       "  </tbody>\n",
       "</table>\n",
       "<p>75 rows × 85 columns</p>\n",
       "</div>"
      ],
      "text/plain": [
       "      level_0 case:concept:name  Undesired Outcome 2  Undesired Outcome 1  \\\n",
       "0       25616  99706b163f66b8ab                 True                 True   \n",
       "11      25618  99706b163f66b8ab                 True                 True   \n",
       "14      25617  99706b163f66b8ab                 True                 True   \n",
       "15      25619  99706b163f66b8ab                 True                 True   \n",
       "368     25622  99706b163f66b8ab                 True                 True   \n",
       "...       ...               ...                  ...                  ...   \n",
       "2392    25686  99706b163f66b8ab                 True                 True   \n",
       "2393    25687  99706b163f66b8ab                 True                 True   \n",
       "2394    25688  99706b163f66b8ab                 True                 True   \n",
       "2531    25689  99706b163f66b8ab                 True                 True   \n",
       "2571    25690  99706b163f66b8ab                 True                 True   \n",
       "\n",
       "      Both Normal   index                                         Activity  \\\n",
       "0     True  False  761800      Payment application-Application-mail income   \n",
       "11    True  False  761802       Payment application-Application-mail valid   \n",
       "14    True  False  761801          Entitlement application-Main-mail valid   \n",
       "15    True  False  761803          Entitlement application-Main-mail valid   \n",
       "368   True  False  761806              Parcel document-Main-finish editing   \n",
       "...    ...    ...     ...                                              ...   \n",
       "2392  True  False  761870           Payment application-Application-decide   \n",
       "2393  True  False  761871  Payment application-Application-insert document   \n",
       "2394  True  False  761872                    Payment application-Main-save   \n",
       "2531  True  False  761873    Payment application-Application-begin payment   \n",
       "2571  True  False  761874   Payment application-Application-finish payment   \n",
       "\n",
       "                       org:resource                   time:timestamp  ...  \\\n",
       "0                             0;n/a        2015-04-15 00:00:00+00:00  ...   \n",
       "11                            0;n/a        2015-04-28 00:00:00+00:00  ...   \n",
       "14                            0;n/a        2015-04-28 00:00:00+00:00  ...   \n",
       "15                            0;n/a        2015-04-28 00:00:00+00:00  ...   \n",
       "368   Document processing automaton        2015-06-15 08:18:04+00:00  ...   \n",
       "...                             ...                              ...  ...   \n",
       "2392                         822fb7 2016-01-27 11:22:31.696000+00:00  ...   \n",
       "2393                         76f30e 2016-01-27 11:22:56.050000+00:00  ...   \n",
       "2394                         76f30e 2016-01-27 11:25:37.604000+00:00  ...   \n",
       "2531                           DP-Z 2016-01-29 09:24:08.792000+00:00  ...   \n",
       "2571                           DP-Z 2016-02-03 10:48:42.152000+00:00  ...   \n",
       "\n",
       "                      doctype       eventid  lifecycle:transition  \\\n",
       "0         Payment application           NaN              complete   \n",
       "11        Payment application           NaN              complete   \n",
       "14    Entitlement application           NaN              complete   \n",
       "15    Entitlement application           NaN              complete   \n",
       "368           Parcel document -1.800866e+16              complete   \n",
       "...                       ...           ...                   ...   \n",
       "2392      Payment application -1.260950e+17              complete   \n",
       "2393      Payment application -1.260950e+17              complete   \n",
       "2394      Payment application -1.260950e+17              complete   \n",
       "2531      Payment application -1.800858e+16              complete   \n",
       "2571      Payment application -1.800858e+16              complete   \n",
       "\n",
       "                            note   subprocess  success Categorized_Activity  \\\n",
       "0                           none  Application     True        Start_Payment   \n",
       "11                          none  Application     True       During_Payment   \n",
       "14                          none         Main     True   During_Entitlement   \n",
       "15                          none         Main     True   During_Entitlement   \n",
       "368                         none         Main     True           End_Parcel   \n",
       "...                          ...          ...      ...                  ...   \n",
       "2392                        none  Application     True       During_Payment   \n",
       "2393  notification for applicant  Application     True       During_Payment   \n",
       "2394                        none         Main     True       During_Payment   \n",
       "2531    automatic during payment  Application     True        Start_Payment   \n",
       "2571    automatic during payment  Application     True          End_Payment   \n",
       "\n",
       "                               Previous_Activity_OneHot  \\\n",
       "0     [0, 0, 0, 0, 0, 0, 0, 0, 0, 0, 0, 0, 0, 0, 0, ...   \n",
       "11    [1, 0, 0, 0, 0, 0, 0, 0, 0, 0, 0, 0, 0, 0, 0, ...   \n",
       "14    [0, 1, 0, 0, 0, 0, 0, 0, 0, 0, 0, 0, 0, 0, 0, ...   \n",
       "15    [0, 1, 0, 0, 0, 0, 0, 0, 0, 0, 0, 0, 0, 0, 0, ...   \n",
       "368   [0, 1, 0, 0, 0, 0, 0, 0, 0, 0, 0, 0, 0, 0, 0, ...   \n",
       "...                                                 ...   \n",
       "2392  [0, 0, 1, 0, 0, 0, 0, 0, 0, 0, 0, 0, 0, 0, 0, ...   \n",
       "2393  [0, 0, 0, 0, 0, 0, 0, 0, 0, 0, 0, 0, 0, 0, 1, ...   \n",
       "2394  [0, 0, 0, 0, 0, 0, 0, 0, 0, 0, 0, 0, 0, 1, 0, ...   \n",
       "2531  [0, 0, 0, 0, 0, 0, 1, 0, 0, 0, 0, 0, 0, 0, 0, ...   \n",
       "2571  [0, 0, 0, 0, 0, 0, 0, 0, 0, 0, 0, 0, 0, 0, 0, ...   \n",
       "\n",
       "                                   Next_Activity_OneHot  young_farmer  \n",
       "0     [0, 1, 0, 0, 0, 0, 0, 0, 0, 0, 0, 0, 0, 0, 0, ...             0  \n",
       "11    [0, 1, 0, 0, 0, 0, 0, 0, 0, 0, 0, 0, 0, 0, 0, ...             0  \n",
       "14    [0, 1, 0, 0, 0, 0, 0, 0, 0, 0, 0, 0, 0, 0, 0, ...             0  \n",
       "15    [0, 0, 1, 0, 0, 0, 0, 0, 0, 0, 0, 0, 0, 0, 0, ...             0  \n",
       "368   [0, 0, 0, 1, 0, 0, 0, 0, 0, 0, 0, 0, 0, 0, 0, ...             0  \n",
       "...                                                 ...           ...  \n",
       "2392  [0, 0, 0, 0, 0, 0, 0, 0, 0, 0, 0, 0, 0, 1, 0, ...             0  \n",
       "2393  [0, 0, 0, 0, 0, 0, 1, 0, 0, 0, 0, 0, 0, 0, 0, ...             0  \n",
       "2394  [0, 0, 0, 0, 0, 0, 0, 0, 0, 0, 0, 0, 0, 0, 0, ...             0  \n",
       "2531  [0, 0, 0, 0, 0, 0, 0, 0, 0, 0, 0, 0, 0, 0, 0, ...             0  \n",
       "2571  [0, 0, 0, 0, 0, 0, 0, 0, 0, 0, 0, 0, 0, 0, 0, ...             0  \n",
       "\n",
       "[75 rows x 85 columns]"
      ]
     },
     "execution_count": 299,
     "metadata": {},
     "output_type": "execute_result"
    }
   ],
   "source": [
    "df_1.loc[df_1[\"case:concept:name\"] == \"99706b163f66b8ab\"]"
   ]
  },
  {
   "cell_type": "code",
   "execution_count": 185,
   "metadata": {
    "collapsed": true
   },
   "outputs": [
    {
     "ename": "KeyError",
     "evalue": "\"['area', 'Case ID', 'youngFarmer', 'riskFactor'] not in index\"",
     "output_type": "error",
     "traceback": [
      "\u001b[0;31m---------------------------------------------------------------------------\u001b[0m",
      "\u001b[0;31mKeyError\u001b[0m                                  Traceback (most recent call last)",
      "\u001b[0;32m<ipython-input-185-69339a24597e>\u001b[0m in \u001b[0;36m<module>\u001b[0;34m\u001b[0m\n\u001b[0;32m----> 1\u001b[0;31m df_2 = df_1[['Case ID', 'youngFarmer', \"activity\", \"area\", \"riskFactor\", \"young_farmer\", \"Previous_Activity_OneHot\"]].rename(\n\u001b[0m\u001b[1;32m      2\u001b[0m     columns={'(case) risk_factor': \"riskFactor\", '(case) area':\"area\", '(case) number_parcels':\"parcels\", \n\u001b[1;32m      3\u001b[0m              \u001b[0;34m'(case) young farmer'\u001b[0m\u001b[0;34m:\u001b[0m\u001b[0;34m\"youngFarmer\"\u001b[0m\u001b[0;34m,\u001b[0m\u001b[0;34m\u001b[0m\u001b[0;34m\u001b[0m\u001b[0m\n\u001b[1;32m      4\u001b[0m              '(case) small farmer':\"smallFarmer\", \"Case ID\":\"case:concept:name\"}) # , \"parcels\", \"activity\", \"Previous_Activity_OneHot\", \"Next_Activity_OneHot\"\n\u001b[1;32m      5\u001b[0m \u001b[0mdf_2\u001b[0m\u001b[0;34m.\u001b[0m\u001b[0mhead\u001b[0m\u001b[0;34m(\u001b[0m\u001b[0;34m)\u001b[0m\u001b[0;34m\u001b[0m\u001b[0;34m\u001b[0m\u001b[0m\n",
      "\u001b[0;32m~/.local/lib/python3.8/site-packages/pandas/core/frame.py\u001b[0m in \u001b[0;36m__getitem__\u001b[0;34m(self, key)\u001b[0m\n\u001b[1;32m   2804\u001b[0m             \u001b[0;32mif\u001b[0m \u001b[0mis_iterator\u001b[0m\u001b[0;34m(\u001b[0m\u001b[0mkey\u001b[0m\u001b[0;34m)\u001b[0m\u001b[0;34m:\u001b[0m\u001b[0;34m\u001b[0m\u001b[0;34m\u001b[0m\u001b[0m\n\u001b[1;32m   2805\u001b[0m                 \u001b[0mkey\u001b[0m \u001b[0;34m=\u001b[0m \u001b[0mlist\u001b[0m\u001b[0;34m(\u001b[0m\u001b[0mkey\u001b[0m\u001b[0;34m)\u001b[0m\u001b[0;34m\u001b[0m\u001b[0;34m\u001b[0m\u001b[0m\n\u001b[0;32m-> 2806\u001b[0;31m             \u001b[0mindexer\u001b[0m \u001b[0;34m=\u001b[0m \u001b[0mself\u001b[0m\u001b[0;34m.\u001b[0m\u001b[0mloc\u001b[0m\u001b[0;34m.\u001b[0m\u001b[0m_get_listlike_indexer\u001b[0m\u001b[0;34m(\u001b[0m\u001b[0mkey\u001b[0m\u001b[0;34m,\u001b[0m \u001b[0maxis\u001b[0m\u001b[0;34m=\u001b[0m\u001b[0;36m1\u001b[0m\u001b[0;34m,\u001b[0m \u001b[0mraise_missing\u001b[0m\u001b[0;34m=\u001b[0m\u001b[0;32mTrue\u001b[0m\u001b[0;34m)\u001b[0m\u001b[0;34m[\u001b[0m\u001b[0;36m1\u001b[0m\u001b[0;34m]\u001b[0m\u001b[0;34m\u001b[0m\u001b[0;34m\u001b[0m\u001b[0m\n\u001b[0m\u001b[1;32m   2807\u001b[0m \u001b[0;34m\u001b[0m\u001b[0m\n\u001b[1;32m   2808\u001b[0m         \u001b[0;31m# take() does not accept boolean indexers\u001b[0m\u001b[0;34m\u001b[0m\u001b[0;34m\u001b[0m\u001b[0;34m\u001b[0m\u001b[0m\n",
      "\u001b[0;32m~/.local/lib/python3.8/site-packages/pandas/core/indexing.py\u001b[0m in \u001b[0;36m_get_listlike_indexer\u001b[0;34m(self, key, axis, raise_missing)\u001b[0m\n\u001b[1;32m   1550\u001b[0m             \u001b[0mkeyarr\u001b[0m\u001b[0;34m,\u001b[0m \u001b[0mindexer\u001b[0m\u001b[0;34m,\u001b[0m \u001b[0mnew_indexer\u001b[0m \u001b[0;34m=\u001b[0m \u001b[0max\u001b[0m\u001b[0;34m.\u001b[0m\u001b[0m_reindex_non_unique\u001b[0m\u001b[0;34m(\u001b[0m\u001b[0mkeyarr\u001b[0m\u001b[0;34m)\u001b[0m\u001b[0;34m\u001b[0m\u001b[0;34m\u001b[0m\u001b[0m\n\u001b[1;32m   1551\u001b[0m \u001b[0;34m\u001b[0m\u001b[0m\n\u001b[0;32m-> 1552\u001b[0;31m         self._validate_read_indexer(\n\u001b[0m\u001b[1;32m   1553\u001b[0m             \u001b[0mkeyarr\u001b[0m\u001b[0;34m,\u001b[0m \u001b[0mindexer\u001b[0m\u001b[0;34m,\u001b[0m \u001b[0mo\u001b[0m\u001b[0;34m.\u001b[0m\u001b[0m_get_axis_number\u001b[0m\u001b[0;34m(\u001b[0m\u001b[0maxis\u001b[0m\u001b[0;34m)\u001b[0m\u001b[0;34m,\u001b[0m \u001b[0mraise_missing\u001b[0m\u001b[0;34m=\u001b[0m\u001b[0mraise_missing\u001b[0m\u001b[0;34m\u001b[0m\u001b[0;34m\u001b[0m\u001b[0m\n\u001b[1;32m   1554\u001b[0m         )\n",
      "\u001b[0;32m~/.local/lib/python3.8/site-packages/pandas/core/indexing.py\u001b[0m in \u001b[0;36m_validate_read_indexer\u001b[0;34m(self, key, indexer, axis, raise_missing)\u001b[0m\n\u001b[1;32m   1644\u001b[0m             \u001b[0;32mif\u001b[0m \u001b[0;32mnot\u001b[0m \u001b[0;34m(\u001b[0m\u001b[0mself\u001b[0m\u001b[0;34m.\u001b[0m\u001b[0mname\u001b[0m \u001b[0;34m==\u001b[0m \u001b[0;34m\"loc\"\u001b[0m \u001b[0;32mand\u001b[0m \u001b[0;32mnot\u001b[0m \u001b[0mraise_missing\u001b[0m\u001b[0;34m)\u001b[0m\u001b[0;34m:\u001b[0m\u001b[0;34m\u001b[0m\u001b[0;34m\u001b[0m\u001b[0m\n\u001b[1;32m   1645\u001b[0m                 \u001b[0mnot_found\u001b[0m \u001b[0;34m=\u001b[0m \u001b[0mlist\u001b[0m\u001b[0;34m(\u001b[0m\u001b[0mset\u001b[0m\u001b[0;34m(\u001b[0m\u001b[0mkey\u001b[0m\u001b[0;34m)\u001b[0m \u001b[0;34m-\u001b[0m \u001b[0mset\u001b[0m\u001b[0;34m(\u001b[0m\u001b[0max\u001b[0m\u001b[0;34m)\u001b[0m\u001b[0;34m)\u001b[0m\u001b[0;34m\u001b[0m\u001b[0;34m\u001b[0m\u001b[0m\n\u001b[0;32m-> 1646\u001b[0;31m                 \u001b[0;32mraise\u001b[0m \u001b[0mKeyError\u001b[0m\u001b[0;34m(\u001b[0m\u001b[0;34mf\"{not_found} not in index\"\u001b[0m\u001b[0;34m)\u001b[0m\u001b[0;34m\u001b[0m\u001b[0;34m\u001b[0m\u001b[0m\n\u001b[0m\u001b[1;32m   1647\u001b[0m \u001b[0;34m\u001b[0m\u001b[0m\n\u001b[1;32m   1648\u001b[0m             \u001b[0;31m# we skip the warning on Categorical/Interval\u001b[0m\u001b[0;34m\u001b[0m\u001b[0;34m\u001b[0m\u001b[0;34m\u001b[0m\u001b[0m\n",
      "\u001b[0;31mKeyError\u001b[0m: \"['area', 'Case ID', 'youngFarmer', 'riskFactor'] not in index\""
     ]
    }
   ],
   "source": [
    "df_2 = df_1[['Case ID', 'youngFarmer', \"activity\", \"area\", \"riskFactor\", \"young_farmer\", \"Previous_Activity_OneHot\"]].rename(\n",
    "    columns={'(case) risk_factor': \"riskFactor\", '(case) area':\"area\", '(case) number_parcels':\"parcels\", \n",
    "             '(case) young farmer':\"youngFarmer\", \n",
    "             '(case) small farmer':\"smallFarmer\", \"Case ID\":\"case:concept:name\"}) # , \"parcels\", \"activity\", \"Previous_Activity_OneHot\", \"Next_Activity_OneHot\"\n",
    "df_2.head()"
   ]
  },
  {
   "cell_type": "code",
   "execution_count": null,
   "metadata": {},
   "outputs": [],
   "source": []
  },
  {
   "cell_type": "code",
   "execution_count": 290,
   "metadata": {},
   "outputs": [
    {
     "name": "stdout",
     "output_type": "stream",
     "text": [
      "mail income\n"
     ]
    }
   ],
   "source": [
    "for i in df_1[:1].iterrows():\n",
    "    print(i[1][\"activity\"])\n",
    "#     if i[\"Previous_Activity_OneHot\"][0] == [0 for i in range(36)]:\n",
    "#         print(i)"
   ]
  },
  {
   "cell_type": "code",
   "execution_count": 213,
   "metadata": {},
   "outputs": [],
   "source": [
    "X = df_1[['(case) risk_factor', '(case) area', '(case) number_parcels',  'young_farmer']].to_numpy(dtype=object)\n",
    "# .rename(\n",
    "#     columns={'(case) risk_factor': \"riskFactor\", '(case) area':\"area\", '(case) number_parcels':\"parcels\", \n",
    "#              '(case) young farmer':\"youngFarmer\", \"case:concept:name\":\"Case ID\", \n",
    "#              '(case) small farmer':\"smallFarmer\"}).to_numpy() #\"Previous_Activity_OneHot\",\n",
    "Y = df_1[[\"activity\"]].to_numpy(dtype=object)"
   ]
  },
  {
   "cell_type": "code",
   "execution_count": 259,
   "metadata": {},
   "outputs": [],
   "source": [
    "import numpy.ma as ma\n",
    "arr = range(0, 36)\n",
    "newY = []\n",
    "for idx, i in enumerate(Y):\n",
    "    ma_arr = ma.masked_array(arr, mask=df_1[\"Previous_Activity_OneHot\"][idx])\n",
    "    if len(ma_arr.data[ma_arr.mask]) == 0:\n",
    "        newY.append()\n",
    "    \n",
    "ma_arr = ma.masked_array(arr, mask=df_1[\"Previous_Activity_OneHot\"][3446])"
   ]
  },
  {
   "cell_type": "code",
   "execution_count": 273,
   "metadata": {},
   "outputs": [
    {
     "data": {
      "text/plain": [
       "array([], dtype=int64)"
      ]
     },
     "execution_count": 273,
     "metadata": {},
     "output_type": "execute_result"
    }
   ],
   "source": [
    "ma_arr = ma.masked_array(arr, mask=df_1[\"Previous_Activity_OneHot\"][36])\n",
    "ma_arr.data[ma_arr.mask]"
   ]
  },
  {
   "cell_type": "code",
   "execution_count": 296,
   "metadata": {
    "scrolled": true
   },
   "outputs": [
    {
     "data": {
      "text/plain": [
       "array([1.0, 3.4104, 3.0, 0.0], dtype=object)"
      ]
     },
     "execution_count": 296,
     "metadata": {},
     "output_type": "execute_result"
    }
   ],
   "source": [
    "X[0]"
   ]
  },
  {
   "cell_type": "markdown",
   "metadata": {},
   "source": [
    "## Model Training & Prediction"
   ]
  },
  {
   "cell_type": "code",
   "execution_count": 208,
   "metadata": {},
   "outputs": [],
   "source": [
    "import matplotlib.pyplot as plt\n",
    "import numpy as np\n",
    "from sklearn.linear_model import LogisticRegression\n",
    "from sklearn.metrics import classification_report, confusion_matrix\n",
    "from keras.models import Sequential\n",
    "from keras.layers import Dense\n",
    "\n",
    "from numpy import array\n",
    "from numpy import argmax\n",
    "from sklearn.preprocessing import LabelEncoder\n",
    "from sklearn.preprocessing import OneHotEncoder\n",
    "from sklearn.preprocessing import OrdinalEncoder"
   ]
  },
  {
   "cell_type": "code",
   "execution_count": 209,
   "metadata": {},
   "outputs": [],
   "source": [
    "values = array(activity_names)"
   ]
  },
  {
   "cell_type": "code",
   "execution_count": 210,
   "metadata": {
    "scrolled": true
   },
   "outputs": [
    {
     "name": "stdout",
     "output_type": "stream",
     "text": [
      "Epoch 1/100\n"
     ]
    },
    {
     "ename": "ValueError",
     "evalue": "setting an array element with a sequence.",
     "output_type": "error",
     "traceback": [
      "\u001b[0;31m---------------------------------------------------------------------------\u001b[0m",
      "\u001b[0;31mTypeError\u001b[0m                                 Traceback (most recent call last)",
      "\u001b[0;31mTypeError\u001b[0m: float() argument must be a string or a number, not 'list'",
      "\nThe above exception was the direct cause of the following exception:\n",
      "\u001b[0;31mValueError\u001b[0m                                Traceback (most recent call last)",
      "\u001b[0;32m<ipython-input-210-3c35ed08e0a5>\u001b[0m in \u001b[0;36m<module>\u001b[0;34m\u001b[0m\n\u001b[1;32m      6\u001b[0m \u001b[0mmodel\u001b[0m\u001b[0;34m.\u001b[0m\u001b[0mcompile\u001b[0m\u001b[0;34m(\u001b[0m\u001b[0mloss\u001b[0m\u001b[0;34m=\u001b[0m\u001b[0;34m'binary_crossentropy'\u001b[0m\u001b[0;34m,\u001b[0m \u001b[0moptimizer\u001b[0m\u001b[0;34m=\u001b[0m\u001b[0;34m'adam'\u001b[0m\u001b[0;34m,\u001b[0m \u001b[0mmetrics\u001b[0m\u001b[0;34m=\u001b[0m\u001b[0;34m[\u001b[0m\u001b[0;34m'accuracy'\u001b[0m\u001b[0;34m]\u001b[0m\u001b[0;34m)\u001b[0m\u001b[0;34m\u001b[0m\u001b[0;34m\u001b[0m\u001b[0m\n\u001b[1;32m      7\u001b[0m \u001b[0;31m# fit the keras model on the dataset\u001b[0m\u001b[0;34m\u001b[0m\u001b[0;34m\u001b[0m\u001b[0;34m\u001b[0m\u001b[0m\n\u001b[0;32m----> 8\u001b[0;31m \u001b[0mmodel\u001b[0m\u001b[0;34m.\u001b[0m\u001b[0mfit\u001b[0m\u001b[0;34m(\u001b[0m\u001b[0mX_train\u001b[0m\u001b[0;34m,\u001b[0m \u001b[0mY_train\u001b[0m\u001b[0;34m,\u001b[0m \u001b[0mepochs\u001b[0m\u001b[0;34m=\u001b[0m\u001b[0;36m100\u001b[0m\u001b[0;34m,\u001b[0m \u001b[0mbatch_size\u001b[0m\u001b[0;34m=\u001b[0m\u001b[0;36m16\u001b[0m\u001b[0;34m,\u001b[0m \u001b[0mverbose\u001b[0m\u001b[0;34m=\u001b[0m\u001b[0;36m2\u001b[0m\u001b[0;34m)\u001b[0m\u001b[0;34m\u001b[0m\u001b[0;34m\u001b[0m\u001b[0m\n\u001b[0m\u001b[1;32m      9\u001b[0m \u001b[0;31m# evaluate the keras model\u001b[0m\u001b[0;34m\u001b[0m\u001b[0;34m\u001b[0m\u001b[0;34m\u001b[0m\u001b[0m\n\u001b[1;32m     10\u001b[0m \u001b[0m_\u001b[0m\u001b[0;34m,\u001b[0m \u001b[0maccuracy\u001b[0m \u001b[0;34m=\u001b[0m \u001b[0mmodel\u001b[0m\u001b[0;34m.\u001b[0m\u001b[0mevaluate\u001b[0m\u001b[0;34m(\u001b[0m\u001b[0mX_test\u001b[0m\u001b[0;34m,\u001b[0m \u001b[0mY_test\u001b[0m\u001b[0;34m,\u001b[0m \u001b[0mverbose\u001b[0m\u001b[0;34m=\u001b[0m\u001b[0;36m0\u001b[0m\u001b[0;34m)\u001b[0m\u001b[0;34m\u001b[0m\u001b[0;34m\u001b[0m\u001b[0m\n",
      "\u001b[0;32m~/.local/lib/python3.8/site-packages/keras/engine/training.py\u001b[0m in \u001b[0;36mfit\u001b[0;34m(self, x, y, batch_size, epochs, verbose, callbacks, validation_split, validation_data, shuffle, class_weight, sample_weight, initial_epoch, steps_per_epoch, validation_steps, validation_freq, max_queue_size, workers, use_multiprocessing, **kwargs)\u001b[0m\n\u001b[1;32m   1225\u001b[0m \u001b[0;34m\u001b[0m\u001b[0m\n\u001b[1;32m   1226\u001b[0m         \u001b[0;31m# Delegate logic to `fit_loop`.\u001b[0m\u001b[0;34m\u001b[0m\u001b[0;34m\u001b[0m\u001b[0;34m\u001b[0m\u001b[0m\n\u001b[0;32m-> 1227\u001b[0;31m         return training_arrays.fit_loop(self, fit_function, fit_inputs,\n\u001b[0m\u001b[1;32m   1228\u001b[0m                                         \u001b[0mout_labels\u001b[0m\u001b[0;34m=\u001b[0m\u001b[0mout_labels\u001b[0m\u001b[0;34m,\u001b[0m\u001b[0;34m\u001b[0m\u001b[0;34m\u001b[0m\u001b[0m\n\u001b[1;32m   1229\u001b[0m                                         \u001b[0mbatch_size\u001b[0m\u001b[0;34m=\u001b[0m\u001b[0mbatch_size\u001b[0m\u001b[0;34m,\u001b[0m\u001b[0;34m\u001b[0m\u001b[0;34m\u001b[0m\u001b[0m\n",
      "\u001b[0;32m~/.local/lib/python3.8/site-packages/keras/engine/training_arrays.py\u001b[0m in \u001b[0;36mfit_loop\u001b[0;34m(model, fit_function, fit_inputs, out_labels, batch_size, epochs, verbose, callbacks, val_function, val_inputs, shuffle, initial_epoch, steps_per_epoch, validation_steps, validation_freq)\u001b[0m\n\u001b[1;32m    194\u001b[0m                     \u001b[0mins_batch\u001b[0m\u001b[0;34m[\u001b[0m\u001b[0mi\u001b[0m\u001b[0;34m]\u001b[0m \u001b[0;34m=\u001b[0m \u001b[0mins_batch\u001b[0m\u001b[0;34m[\u001b[0m\u001b[0mi\u001b[0m\u001b[0;34m]\u001b[0m\u001b[0;34m.\u001b[0m\u001b[0mtoarray\u001b[0m\u001b[0;34m(\u001b[0m\u001b[0;34m)\u001b[0m\u001b[0;34m\u001b[0m\u001b[0;34m\u001b[0m\u001b[0m\n\u001b[1;32m    195\u001b[0m \u001b[0;34m\u001b[0m\u001b[0m\n\u001b[0;32m--> 196\u001b[0;31m                 \u001b[0mouts\u001b[0m \u001b[0;34m=\u001b[0m \u001b[0mfit_function\u001b[0m\u001b[0;34m(\u001b[0m\u001b[0mins_batch\u001b[0m\u001b[0;34m)\u001b[0m\u001b[0;34m\u001b[0m\u001b[0;34m\u001b[0m\u001b[0m\n\u001b[0m\u001b[1;32m    197\u001b[0m                 \u001b[0mouts\u001b[0m \u001b[0;34m=\u001b[0m \u001b[0mto_list\u001b[0m\u001b[0;34m(\u001b[0m\u001b[0mouts\u001b[0m\u001b[0;34m)\u001b[0m\u001b[0;34m\u001b[0m\u001b[0;34m\u001b[0m\u001b[0m\n\u001b[1;32m    198\u001b[0m                 \u001b[0;32mfor\u001b[0m \u001b[0ml\u001b[0m\u001b[0;34m,\u001b[0m \u001b[0mo\u001b[0m \u001b[0;32min\u001b[0m \u001b[0mzip\u001b[0m\u001b[0;34m(\u001b[0m\u001b[0mout_labels\u001b[0m\u001b[0;34m,\u001b[0m \u001b[0mouts\u001b[0m\u001b[0;34m)\u001b[0m\u001b[0;34m:\u001b[0m\u001b[0;34m\u001b[0m\u001b[0;34m\u001b[0m\u001b[0m\n",
      "\u001b[0;32m~/.local/lib/python3.8/site-packages/tensorflow/python/keras/backend.py\u001b[0m in \u001b[0;36m__call__\u001b[0;34m(self, inputs)\u001b[0m\n\u001b[1;32m   3784\u001b[0m               'You must feed a value for placeholder %s' % (tensor,))\n\u001b[1;32m   3785\u001b[0m       \u001b[0;32mif\u001b[0m \u001b[0;32mnot\u001b[0m \u001b[0misinstance\u001b[0m\u001b[0;34m(\u001b[0m\u001b[0mvalue\u001b[0m\u001b[0;34m,\u001b[0m \u001b[0mops\u001b[0m\u001b[0;34m.\u001b[0m\u001b[0mTensor\u001b[0m\u001b[0;34m)\u001b[0m\u001b[0;34m:\u001b[0m\u001b[0;34m\u001b[0m\u001b[0;34m\u001b[0m\u001b[0m\n\u001b[0;32m-> 3786\u001b[0;31m         \u001b[0mvalue\u001b[0m \u001b[0;34m=\u001b[0m \u001b[0mops\u001b[0m\u001b[0;34m.\u001b[0m\u001b[0mconvert_to_tensor_v2\u001b[0m\u001b[0;34m(\u001b[0m\u001b[0mvalue\u001b[0m\u001b[0;34m,\u001b[0m \u001b[0mdtype\u001b[0m\u001b[0;34m=\u001b[0m\u001b[0mtensor\u001b[0m\u001b[0;34m.\u001b[0m\u001b[0mdtype\u001b[0m\u001b[0;34m)\u001b[0m\u001b[0;34m\u001b[0m\u001b[0;34m\u001b[0m\u001b[0m\n\u001b[0m\u001b[1;32m   3787\u001b[0m       \u001b[0;32mif\u001b[0m \u001b[0mvalue\u001b[0m\u001b[0;34m.\u001b[0m\u001b[0mdtype\u001b[0m \u001b[0;34m!=\u001b[0m \u001b[0mtensor\u001b[0m\u001b[0;34m.\u001b[0m\u001b[0mdtype\u001b[0m\u001b[0;34m:\u001b[0m\u001b[0;34m\u001b[0m\u001b[0;34m\u001b[0m\u001b[0m\n\u001b[1;32m   3788\u001b[0m         \u001b[0;31m# Temporary workaround due to `convert_to_tensor` not casting floats.\u001b[0m\u001b[0;34m\u001b[0m\u001b[0;34m\u001b[0m\u001b[0;34m\u001b[0m\u001b[0m\n",
      "\u001b[0;32m~/.local/lib/python3.8/site-packages/tensorflow/python/framework/ops.py\u001b[0m in \u001b[0;36mconvert_to_tensor_v2\u001b[0;34m(value, dtype, dtype_hint, name)\u001b[0m\n\u001b[1;32m   1276\u001b[0m     \u001b[0mValueError\u001b[0m\u001b[0;34m:\u001b[0m \u001b[0mIf\u001b[0m \u001b[0mthe\u001b[0m\u001b[0;31m \u001b[0m\u001b[0;31m`\u001b[0m\u001b[0mvalue\u001b[0m\u001b[0;31m`\u001b[0m \u001b[0;32mis\u001b[0m \u001b[0ma\u001b[0m \u001b[0mtensor\u001b[0m \u001b[0;32mnot\u001b[0m \u001b[0mof\u001b[0m \u001b[0mgiven\u001b[0m\u001b[0;31m \u001b[0m\u001b[0;31m`\u001b[0m\u001b[0mdtype\u001b[0m\u001b[0;31m`\u001b[0m \u001b[0;32min\u001b[0m \u001b[0mgraph\u001b[0m \u001b[0mmode\u001b[0m\u001b[0;34m.\u001b[0m\u001b[0;34m\u001b[0m\u001b[0;34m\u001b[0m\u001b[0m\n\u001b[1;32m   1277\u001b[0m   \"\"\"\n\u001b[0;32m-> 1278\u001b[0;31m   return convert_to_tensor(\n\u001b[0m\u001b[1;32m   1279\u001b[0m       \u001b[0mvalue\u001b[0m\u001b[0;34m=\u001b[0m\u001b[0mvalue\u001b[0m\u001b[0;34m,\u001b[0m\u001b[0;34m\u001b[0m\u001b[0;34m\u001b[0m\u001b[0m\n\u001b[1;32m   1280\u001b[0m       \u001b[0mdtype\u001b[0m\u001b[0;34m=\u001b[0m\u001b[0mdtype\u001b[0m\u001b[0;34m,\u001b[0m\u001b[0;34m\u001b[0m\u001b[0;34m\u001b[0m\u001b[0m\n",
      "\u001b[0;32m~/.local/lib/python3.8/site-packages/tensorflow/python/framework/ops.py\u001b[0m in \u001b[0;36mconvert_to_tensor\u001b[0;34m(value, dtype, name, as_ref, preferred_dtype, dtype_hint, ctx, accepted_result_types)\u001b[0m\n\u001b[1;32m   1339\u001b[0m \u001b[0;34m\u001b[0m\u001b[0m\n\u001b[1;32m   1340\u001b[0m     \u001b[0;32mif\u001b[0m \u001b[0mret\u001b[0m \u001b[0;32mis\u001b[0m \u001b[0;32mNone\u001b[0m\u001b[0;34m:\u001b[0m\u001b[0;34m\u001b[0m\u001b[0;34m\u001b[0m\u001b[0m\n\u001b[0;32m-> 1341\u001b[0;31m       \u001b[0mret\u001b[0m \u001b[0;34m=\u001b[0m \u001b[0mconversion_func\u001b[0m\u001b[0;34m(\u001b[0m\u001b[0mvalue\u001b[0m\u001b[0;34m,\u001b[0m \u001b[0mdtype\u001b[0m\u001b[0;34m=\u001b[0m\u001b[0mdtype\u001b[0m\u001b[0;34m,\u001b[0m \u001b[0mname\u001b[0m\u001b[0;34m=\u001b[0m\u001b[0mname\u001b[0m\u001b[0;34m,\u001b[0m \u001b[0mas_ref\u001b[0m\u001b[0;34m=\u001b[0m\u001b[0mas_ref\u001b[0m\u001b[0;34m)\u001b[0m\u001b[0;34m\u001b[0m\u001b[0;34m\u001b[0m\u001b[0m\n\u001b[0m\u001b[1;32m   1342\u001b[0m \u001b[0;34m\u001b[0m\u001b[0m\n\u001b[1;32m   1343\u001b[0m     \u001b[0;32mif\u001b[0m \u001b[0mret\u001b[0m \u001b[0;32mis\u001b[0m \u001b[0mNotImplemented\u001b[0m\u001b[0;34m:\u001b[0m\u001b[0;34m\u001b[0m\u001b[0;34m\u001b[0m\u001b[0m\n",
      "\u001b[0;32m~/.local/lib/python3.8/site-packages/tensorflow/python/framework/tensor_conversion_registry.py\u001b[0m in \u001b[0;36m_default_conversion_function\u001b[0;34m(***failed resolving arguments***)\u001b[0m\n\u001b[1;32m     50\u001b[0m \u001b[0;32mdef\u001b[0m \u001b[0m_default_conversion_function\u001b[0m\u001b[0;34m(\u001b[0m\u001b[0mvalue\u001b[0m\u001b[0;34m,\u001b[0m \u001b[0mdtype\u001b[0m\u001b[0;34m,\u001b[0m \u001b[0mname\u001b[0m\u001b[0;34m,\u001b[0m \u001b[0mas_ref\u001b[0m\u001b[0;34m)\u001b[0m\u001b[0;34m:\u001b[0m\u001b[0;34m\u001b[0m\u001b[0;34m\u001b[0m\u001b[0m\n\u001b[1;32m     51\u001b[0m   \u001b[0;32mdel\u001b[0m \u001b[0mas_ref\u001b[0m  \u001b[0;31m# Unused.\u001b[0m\u001b[0;34m\u001b[0m\u001b[0;34m\u001b[0m\u001b[0m\n\u001b[0;32m---> 52\u001b[0;31m   \u001b[0;32mreturn\u001b[0m \u001b[0mconstant_op\u001b[0m\u001b[0;34m.\u001b[0m\u001b[0mconstant\u001b[0m\u001b[0;34m(\u001b[0m\u001b[0mvalue\u001b[0m\u001b[0;34m,\u001b[0m \u001b[0mdtype\u001b[0m\u001b[0;34m,\u001b[0m \u001b[0mname\u001b[0m\u001b[0;34m=\u001b[0m\u001b[0mname\u001b[0m\u001b[0;34m)\u001b[0m\u001b[0;34m\u001b[0m\u001b[0;34m\u001b[0m\u001b[0m\n\u001b[0m\u001b[1;32m     53\u001b[0m \u001b[0;34m\u001b[0m\u001b[0m\n\u001b[1;32m     54\u001b[0m \u001b[0;34m\u001b[0m\u001b[0m\n",
      "\u001b[0;32m~/.local/lib/python3.8/site-packages/tensorflow/python/framework/constant_op.py\u001b[0m in \u001b[0;36mconstant\u001b[0;34m(value, dtype, shape, name)\u001b[0m\n\u001b[1;32m    259\u001b[0m     \u001b[0mValueError\u001b[0m\u001b[0;34m:\u001b[0m \u001b[0;32mif\u001b[0m \u001b[0mcalled\u001b[0m \u001b[0mon\u001b[0m \u001b[0ma\u001b[0m \u001b[0msymbolic\u001b[0m \u001b[0mtensor\u001b[0m\u001b[0;34m.\u001b[0m\u001b[0;34m\u001b[0m\u001b[0;34m\u001b[0m\u001b[0m\n\u001b[1;32m    260\u001b[0m   \"\"\"\n\u001b[0;32m--> 261\u001b[0;31m   return _constant_impl(value, dtype, shape, name, verify_shape=False,\n\u001b[0m\u001b[1;32m    262\u001b[0m                         allow_broadcast=True)\n\u001b[1;32m    263\u001b[0m \u001b[0;34m\u001b[0m\u001b[0m\n",
      "\u001b[0;32m~/.local/lib/python3.8/site-packages/tensorflow/python/framework/constant_op.py\u001b[0m in \u001b[0;36m_constant_impl\u001b[0;34m(value, dtype, shape, name, verify_shape, allow_broadcast)\u001b[0m\n\u001b[1;32m    268\u001b[0m   \u001b[0mctx\u001b[0m \u001b[0;34m=\u001b[0m \u001b[0mcontext\u001b[0m\u001b[0;34m.\u001b[0m\u001b[0mcontext\u001b[0m\u001b[0;34m(\u001b[0m\u001b[0;34m)\u001b[0m\u001b[0;34m\u001b[0m\u001b[0;34m\u001b[0m\u001b[0m\n\u001b[1;32m    269\u001b[0m   \u001b[0;32mif\u001b[0m \u001b[0mctx\u001b[0m\u001b[0;34m.\u001b[0m\u001b[0mexecuting_eagerly\u001b[0m\u001b[0;34m(\u001b[0m\u001b[0;34m)\u001b[0m\u001b[0;34m:\u001b[0m\u001b[0;34m\u001b[0m\u001b[0;34m\u001b[0m\u001b[0m\n\u001b[0;32m--> 270\u001b[0;31m     \u001b[0mt\u001b[0m \u001b[0;34m=\u001b[0m \u001b[0mconvert_to_eager_tensor\u001b[0m\u001b[0;34m(\u001b[0m\u001b[0mvalue\u001b[0m\u001b[0;34m,\u001b[0m \u001b[0mctx\u001b[0m\u001b[0;34m,\u001b[0m \u001b[0mdtype\u001b[0m\u001b[0;34m)\u001b[0m\u001b[0;34m\u001b[0m\u001b[0;34m\u001b[0m\u001b[0m\n\u001b[0m\u001b[1;32m    271\u001b[0m     \u001b[0;32mif\u001b[0m \u001b[0mshape\u001b[0m \u001b[0;32mis\u001b[0m \u001b[0;32mNone\u001b[0m\u001b[0;34m:\u001b[0m\u001b[0;34m\u001b[0m\u001b[0;34m\u001b[0m\u001b[0m\n\u001b[1;32m    272\u001b[0m       \u001b[0;32mreturn\u001b[0m \u001b[0mt\u001b[0m\u001b[0;34m\u001b[0m\u001b[0;34m\u001b[0m\u001b[0m\n",
      "\u001b[0;32m~/.local/lib/python3.8/site-packages/tensorflow/python/framework/constant_op.py\u001b[0m in \u001b[0;36mconvert_to_eager_tensor\u001b[0;34m(value, ctx, dtype)\u001b[0m\n\u001b[1;32m     94\u001b[0m       \u001b[0mdtype\u001b[0m \u001b[0;34m=\u001b[0m \u001b[0mdtypes\u001b[0m\u001b[0;34m.\u001b[0m\u001b[0mas_dtype\u001b[0m\u001b[0;34m(\u001b[0m\u001b[0mdtype\u001b[0m\u001b[0;34m)\u001b[0m\u001b[0;34m.\u001b[0m\u001b[0mas_datatype_enum\u001b[0m\u001b[0;34m\u001b[0m\u001b[0;34m\u001b[0m\u001b[0m\n\u001b[1;32m     95\u001b[0m   \u001b[0mctx\u001b[0m\u001b[0;34m.\u001b[0m\u001b[0mensure_initialized\u001b[0m\u001b[0;34m(\u001b[0m\u001b[0;34m)\u001b[0m\u001b[0;34m\u001b[0m\u001b[0;34m\u001b[0m\u001b[0m\n\u001b[0;32m---> 96\u001b[0;31m   \u001b[0;32mreturn\u001b[0m \u001b[0mops\u001b[0m\u001b[0;34m.\u001b[0m\u001b[0mEagerTensor\u001b[0m\u001b[0;34m(\u001b[0m\u001b[0mvalue\u001b[0m\u001b[0;34m,\u001b[0m \u001b[0mctx\u001b[0m\u001b[0;34m.\u001b[0m\u001b[0mdevice_name\u001b[0m\u001b[0;34m,\u001b[0m \u001b[0mdtype\u001b[0m\u001b[0;34m)\u001b[0m\u001b[0;34m\u001b[0m\u001b[0;34m\u001b[0m\u001b[0m\n\u001b[0m\u001b[1;32m     97\u001b[0m \u001b[0;34m\u001b[0m\u001b[0m\n\u001b[1;32m     98\u001b[0m \u001b[0;34m\u001b[0m\u001b[0m\n",
      "\u001b[0;31mValueError\u001b[0m: setting an array element with a sequence."
     ]
    }
   ],
   "source": [
    "# define the model\n",
    "model = Sequential()\n",
    "model.add(Dense(10, input_dim=X_train.shape[1], activation='relu', kernel_initializer='he_normal'))\n",
    "model.add(Dense(1, activation='sigmoid'))\n",
    "# compile the keras model\n",
    "model.compile(loss='binary_crossentropy', optimizer='adam', metrics=['accuracy'])\n",
    "# fit the keras model on the dataset\n",
    "model.fit(X_train, Y_train, epochs=100, batch_size=16, verbose=2)\n",
    "# evaluate the keras model\n",
    "_, accuracy = model.evaluate(X_test, Y_test, verbose=0)\n",
    "print('Accuracy: %.2f' % (accuracy*100))"
   ]
  },
  {
   "cell_type": "code",
   "execution_count": 144,
   "metadata": {
    "scrolled": true
   },
   "outputs": [
    {
     "name": "stdout",
     "output_type": "stream",
     "text": [
      "[21 22 15  4 19 25 33 18  6 26  0 23  7 20 13 31 29  5 16  1  9 34 14 35\n",
      " 27 24  8 32 12 30  3 10 28  2 17 11]\n",
      "[[0. 0. 0. ... 0. 0. 0.]\n",
      " [0. 0. 0. ... 0. 0. 0.]\n",
      " [0. 0. 0. ... 0. 0. 0.]\n",
      " ...\n",
      " [0. 0. 1. ... 0. 0. 0.]\n",
      " [0. 0. 0. ... 0. 0. 0.]\n",
      " [0. 0. 0. ... 0. 0. 0.]]\n",
      "['mail income']\n"
     ]
    }
   ],
   "source": [
    "# integer encode\n",
    "label_encoder = LabelEncoder()\n",
    "integer_encoded = label_encoder.fit_transform(values)\n",
    "print(integer_encoded)\n",
    "\n",
    "# binary encode\n",
    "onehot_encoder = OneHotEncoder(sparse=False)\n",
    "integer_encoded = integer_encoded.reshape(len(integer_encoded), 1)\n",
    "onehot_encoded = onehot_encoder.fit_transform(integer_encoded)\n",
    "print(onehot_encoded)\n",
    "\n",
    "# invert first example\n",
    "inverted = label_encoder.inverse_transform([argmax(onehot_encoded[0, :])])\n",
    "print(inverted)"
   ]
  },
  {
   "cell_type": "code",
   "execution_count": 150,
   "metadata": {},
   "outputs": [],
   "source": [
    "X_train = X[:10000]\n",
    "Y_train = Y[:10000]\n",
    "X_test = X[10000:]\n",
    "Y_test = Y[10000:]"
   ]
  },
  {
   "cell_type": "code",
   "execution_count": null,
   "metadata": {},
   "outputs": [],
   "source": [
    "Gebruik DT --> \n",
    "has"
   ]
  },
  {
   "cell_type": "code",
   "execution_count": 135,
   "metadata": {
    "scrolled": true
   },
   "outputs": [
    {
     "ename": "ValueError",
     "evalue": "setting an array element with a sequence.",
     "output_type": "error",
     "traceback": [
      "\u001b[0;31m---------------------------------------------------------------------------\u001b[0m",
      "\u001b[0;31mTypeError\u001b[0m                                 Traceback (most recent call last)",
      "\u001b[0;31mTypeError\u001b[0m: float() argument must be a string or a number, not 'list'",
      "\nThe above exception was the direct cause of the following exception:\n",
      "\u001b[0;31mValueError\u001b[0m                                Traceback (most recent call last)",
      "\u001b[0;32m<ipython-input-135-9efbf7814ca1>\u001b[0m in \u001b[0;36m<module>\u001b[0;34m\u001b[0m\n\u001b[1;32m      1\u001b[0m \u001b[0mmodel\u001b[0m \u001b[0;34m=\u001b[0m \u001b[0mLogisticRegression\u001b[0m\u001b[0;34m(\u001b[0m\u001b[0msolver\u001b[0m\u001b[0;34m=\u001b[0m\u001b[0;34m'lbfgs'\u001b[0m\u001b[0;34m,\u001b[0m \u001b[0mmulti_class\u001b[0m\u001b[0;34m=\u001b[0m\u001b[0;34m'ovr'\u001b[0m\u001b[0;34m,\u001b[0m \u001b[0mrandom_state\u001b[0m\u001b[0;34m=\u001b[0m\u001b[0;36m9\u001b[0m\u001b[0;34m,\u001b[0m \u001b[0mC\u001b[0m\u001b[0;34m=\u001b[0m\u001b[0;36m10.0\u001b[0m\u001b[0;34m)\u001b[0m\u001b[0;34m\u001b[0m\u001b[0;34m\u001b[0m\u001b[0m\n\u001b[0;32m----> 2\u001b[0;31m \u001b[0mmodel\u001b[0m\u001b[0;34m.\u001b[0m\u001b[0mfit\u001b[0m\u001b[0;34m(\u001b[0m\u001b[0mX_train\u001b[0m\u001b[0;34m,\u001b[0m \u001b[0mY_train\u001b[0m\u001b[0;34m)\u001b[0m\u001b[0;34m\u001b[0m\u001b[0;34m\u001b[0m\u001b[0m\n\u001b[0m",
      "\u001b[0;32m~/.local/lib/python3.8/site-packages/sklearn/linear_model/_logistic.py\u001b[0m in \u001b[0;36mfit\u001b[0;34m(self, X, y, sample_weight)\u001b[0m\n\u001b[1;32m   1524\u001b[0m             \u001b[0m_dtype\u001b[0m \u001b[0;34m=\u001b[0m \u001b[0;34m[\u001b[0m\u001b[0mnp\u001b[0m\u001b[0;34m.\u001b[0m\u001b[0mfloat64\u001b[0m\u001b[0;34m,\u001b[0m \u001b[0mnp\u001b[0m\u001b[0;34m.\u001b[0m\u001b[0mfloat32\u001b[0m\u001b[0;34m]\u001b[0m\u001b[0;34m\u001b[0m\u001b[0;34m\u001b[0m\u001b[0m\n\u001b[1;32m   1525\u001b[0m \u001b[0;34m\u001b[0m\u001b[0m\n\u001b[0;32m-> 1526\u001b[0;31m         X, y = check_X_y(X, y, accept_sparse='csr', dtype=_dtype, order=\"C\",\n\u001b[0m\u001b[1;32m   1527\u001b[0m                          accept_large_sparse=solver != 'liblinear')\n\u001b[1;32m   1528\u001b[0m         \u001b[0mcheck_classification_targets\u001b[0m\u001b[0;34m(\u001b[0m\u001b[0my\u001b[0m\u001b[0;34m)\u001b[0m\u001b[0;34m\u001b[0m\u001b[0;34m\u001b[0m\u001b[0m\n",
      "\u001b[0;32m~/.local/lib/python3.8/site-packages/sklearn/utils/validation.py\u001b[0m in \u001b[0;36mcheck_X_y\u001b[0;34m(X, y, accept_sparse, accept_large_sparse, dtype, order, copy, force_all_finite, ensure_2d, allow_nd, multi_output, ensure_min_samples, ensure_min_features, y_numeric, warn_on_dtype, estimator)\u001b[0m\n\u001b[1;32m    745\u001b[0m         \u001b[0;32mraise\u001b[0m \u001b[0mValueError\u001b[0m\u001b[0;34m(\u001b[0m\u001b[0;34m\"y cannot be None\"\u001b[0m\u001b[0;34m)\u001b[0m\u001b[0;34m\u001b[0m\u001b[0;34m\u001b[0m\u001b[0m\n\u001b[1;32m    746\u001b[0m \u001b[0;34m\u001b[0m\u001b[0m\n\u001b[0;32m--> 747\u001b[0;31m     X = check_array(X, accept_sparse=accept_sparse,\n\u001b[0m\u001b[1;32m    748\u001b[0m                     \u001b[0maccept_large_sparse\u001b[0m\u001b[0;34m=\u001b[0m\u001b[0maccept_large_sparse\u001b[0m\u001b[0;34m,\u001b[0m\u001b[0;34m\u001b[0m\u001b[0;34m\u001b[0m\u001b[0m\n\u001b[1;32m    749\u001b[0m                     \u001b[0mdtype\u001b[0m\u001b[0;34m=\u001b[0m\u001b[0mdtype\u001b[0m\u001b[0;34m,\u001b[0m \u001b[0morder\u001b[0m\u001b[0;34m=\u001b[0m\u001b[0morder\u001b[0m\u001b[0;34m,\u001b[0m \u001b[0mcopy\u001b[0m\u001b[0;34m=\u001b[0m\u001b[0mcopy\u001b[0m\u001b[0;34m,\u001b[0m\u001b[0;34m\u001b[0m\u001b[0;34m\u001b[0m\u001b[0m\n",
      "\u001b[0;32m~/.local/lib/python3.8/site-packages/sklearn/utils/validation.py\u001b[0m in \u001b[0;36mcheck_array\u001b[0;34m(array, accept_sparse, accept_large_sparse, dtype, order, copy, force_all_finite, ensure_2d, allow_nd, ensure_min_samples, ensure_min_features, warn_on_dtype, estimator)\u001b[0m\n\u001b[1;32m    529\u001b[0m                     \u001b[0marray\u001b[0m \u001b[0;34m=\u001b[0m \u001b[0marray\u001b[0m\u001b[0;34m.\u001b[0m\u001b[0mastype\u001b[0m\u001b[0;34m(\u001b[0m\u001b[0mdtype\u001b[0m\u001b[0;34m,\u001b[0m \u001b[0mcasting\u001b[0m\u001b[0;34m=\u001b[0m\u001b[0;34m\"unsafe\"\u001b[0m\u001b[0;34m,\u001b[0m \u001b[0mcopy\u001b[0m\u001b[0;34m=\u001b[0m\u001b[0;32mFalse\u001b[0m\u001b[0;34m)\u001b[0m\u001b[0;34m\u001b[0m\u001b[0;34m\u001b[0m\u001b[0m\n\u001b[1;32m    530\u001b[0m                 \u001b[0;32melse\u001b[0m\u001b[0;34m:\u001b[0m\u001b[0;34m\u001b[0m\u001b[0;34m\u001b[0m\u001b[0m\n\u001b[0;32m--> 531\u001b[0;31m                     \u001b[0marray\u001b[0m \u001b[0;34m=\u001b[0m \u001b[0mnp\u001b[0m\u001b[0;34m.\u001b[0m\u001b[0masarray\u001b[0m\u001b[0;34m(\u001b[0m\u001b[0marray\u001b[0m\u001b[0;34m,\u001b[0m \u001b[0morder\u001b[0m\u001b[0;34m=\u001b[0m\u001b[0morder\u001b[0m\u001b[0;34m,\u001b[0m \u001b[0mdtype\u001b[0m\u001b[0;34m=\u001b[0m\u001b[0mdtype\u001b[0m\u001b[0;34m)\u001b[0m\u001b[0;34m\u001b[0m\u001b[0;34m\u001b[0m\u001b[0m\n\u001b[0m\u001b[1;32m    532\u001b[0m             \u001b[0;32mexcept\u001b[0m \u001b[0mComplexWarning\u001b[0m\u001b[0;34m:\u001b[0m\u001b[0;34m\u001b[0m\u001b[0;34m\u001b[0m\u001b[0m\n\u001b[1;32m    533\u001b[0m                 raise ValueError(\"Complex data not supported\\n\"\n",
      "\u001b[0;32m~/.local/lib/python3.8/site-packages/numpy/core/_asarray.py\u001b[0m in \u001b[0;36masarray\u001b[0;34m(a, dtype, order)\u001b[0m\n\u001b[1;32m     83\u001b[0m \u001b[0;34m\u001b[0m\u001b[0m\n\u001b[1;32m     84\u001b[0m     \"\"\"\n\u001b[0;32m---> 85\u001b[0;31m     \u001b[0;32mreturn\u001b[0m \u001b[0marray\u001b[0m\u001b[0;34m(\u001b[0m\u001b[0ma\u001b[0m\u001b[0;34m,\u001b[0m \u001b[0mdtype\u001b[0m\u001b[0;34m,\u001b[0m \u001b[0mcopy\u001b[0m\u001b[0;34m=\u001b[0m\u001b[0;32mFalse\u001b[0m\u001b[0;34m,\u001b[0m \u001b[0morder\u001b[0m\u001b[0;34m=\u001b[0m\u001b[0morder\u001b[0m\u001b[0;34m)\u001b[0m\u001b[0;34m\u001b[0m\u001b[0;34m\u001b[0m\u001b[0m\n\u001b[0m\u001b[1;32m     86\u001b[0m \u001b[0;34m\u001b[0m\u001b[0m\n\u001b[1;32m     87\u001b[0m \u001b[0;34m\u001b[0m\u001b[0m\n",
      "\u001b[0;31mValueError\u001b[0m: setting an array element with a sequence."
     ]
    }
   ],
   "source": [
    "model = LogisticRegression(solver='lbfgs', multi_class='ovr', random_state=9, C=10.0)\n",
    "model.fit(X_train, Y_train)"
   ]
  },
  {
   "cell_type": "code",
   "execution_count": 129,
   "metadata": {},
   "outputs": [
    {
     "ename": "TypeError",
     "evalue": "predict() takes 2 positional arguments but 3 were given",
     "output_type": "error",
     "traceback": [
      "\u001b[0;31m---------------------------------------------------------------------------\u001b[0m",
      "\u001b[0;31mTypeError\u001b[0m                                 Traceback (most recent call last)",
      "\u001b[0;32m<ipython-input-129-2284beba05aa>\u001b[0m in \u001b[0;36m<module>\u001b[0;34m\u001b[0m\n\u001b[0;32m----> 1\u001b[0;31m \u001b[0mmodel\u001b[0m\u001b[0;34m.\u001b[0m\u001b[0mpredict\u001b[0m\u001b[0;34m(\u001b[0m\u001b[0mX_test\u001b[0m\u001b[0;34m,\u001b[0m \u001b[0mY_test\u001b[0m\u001b[0;34m)\u001b[0m\u001b[0;34m\u001b[0m\u001b[0;34m\u001b[0m\u001b[0m\n\u001b[0m",
      "\u001b[0;31mTypeError\u001b[0m: predict() takes 2 positional arguments but 3 were given"
     ]
    }
   ],
   "source": [
    "model.predict(X_test, Y_test)"
   ]
  },
  {
   "cell_type": "code",
   "execution_count": 106,
   "metadata": {},
   "outputs": [
    {
     "name": "stdout",
     "output_type": "stream",
     "text": [
      "                           precision    recall  f1-score   support\n",
      "\n",
      "           abort external       0.00      0.00      0.00        18\n",
      "            abort payment       0.00      0.00      0.00        28\n",
      "                  approve       0.00      0.00      0.00         2\n",
      "begin admissibility check       0.00      0.00      0.00        13\n",
      "            begin editing       0.00      0.00      0.00      1379\n",
      "            begin payment       0.00      0.00      0.00       130\n",
      "       begin preparations       0.00      0.00      0.00        53\n",
      "                calculate       0.23      0.98      0.38      2347\n",
      "           cancel offline       0.00      0.00      0.00         4\n",
      "                    check       0.00      0.00      0.00        30\n",
      "      check admissibility       0.00      0.00      0.00         9\n",
      "                    clear       0.00      0.00      0.00        15\n",
      "                   create       0.00      0.00      0.00       177\n",
      "                   decide       0.00      0.00      0.00       453\n",
      "                  discard       0.00      0.00      0.00         6\n",
      "           finish editing       0.00      0.00      0.00      1578\n",
      "           finish payment       0.00      0.00      0.00       102\n",
      "         finish pre-check       0.00      0.00      0.00       131\n",
      "      finish preparations       0.00      0.00      0.00        53\n",
      "               initialize       0.00      0.00      0.00       849\n",
      "          insert document       0.00      0.00      0.00       532\n",
      "              mail income       0.00      0.00      0.00       184\n",
      "               mail valid       0.00      0.00      0.00       324\n",
      "                performed       0.00      0.00      0.00       307\n",
      "        performed offline       0.00      0.00      0.00         8\n",
      "                     plan       0.00      0.00      0.00        35\n",
      "         prepare external       0.00      0.00      0.00        25\n",
      "          prepare offline       0.00      0.00      0.00        12\n",
      "                   refuse       0.00      0.00      0.00         8\n",
      "          remove document       0.00      0.00      0.00        41\n",
      "          restart editing       0.00      0.00      0.00         3\n",
      "          revoke decision       0.00      0.00      0.00       114\n",
      "        revoke withdrawal       0.00      0.00      0.00         2\n",
      "                     save       0.12      0.03      0.05      1078\n",
      "   take original document       0.00      0.00      0.00         4\n",
      "                 withdraw       0.00      0.00      0.00        17\n",
      "\n",
      "                 accuracy                           0.23     10071\n",
      "                macro avg       0.01      0.03      0.01     10071\n",
      "             weighted avg       0.07      0.23      0.09     10071\n",
      "\n"
     ]
    },
    {
     "name": "stderr",
     "output_type": "stream",
     "text": [
      "/home/rowan/.local/lib/python3.8/site-packages/sklearn/metrics/_classification.py:1272: UndefinedMetricWarning: Precision and F-score are ill-defined and being set to 0.0 in labels with no predicted samples. Use `zero_division` parameter to control this behavior.\n",
      "  _warn_prf(average, modifier, msg_start, len(result))\n"
     ]
    }
   ],
   "source": [
    "print(classification_report(Y, model.predict(X)))"
   ]
  },
  {
   "cell_type": "code",
   "execution_count": null,
   "metadata": {},
   "outputs": [],
   "source": []
  },
  {
   "cell_type": "code",
   "execution_count": null,
   "metadata": {},
   "outputs": [],
   "source": []
  },
  {
   "cell_type": "code",
   "execution_count": 33,
   "metadata": {},
   "outputs": [],
   "source": [
    "# load the heuristics miner petrinet from Q1\n",
    "net, initial_marking, final_marking = pnml_importer.import_net(\"../Q1/inductive_miner_undesired_outcome_2.pnml\")"
   ]
  },
  {
   "cell_type": "code",
   "execution_count": 35,
   "metadata": {
    "scrolled": true
   },
   "outputs": [
    {
     "data": {
      "image/png": "[encoded data removed]",
      "text/plain": [
       "<IPython.core.display.Image object>"
      ]
     },
     "metadata": {},
     "output_type": "display_data"
    }
   ],
   "source": [
    "gviz = visualizer.apply(net, initial_marking, final_marking, parameters={visualizer.Variants.WO_DECORATION.value.Parameters.DEBUG: True})\n",
    "visualizer.view(gviz)"
   ]
  },
  {
   "cell_type": "markdown",
   "metadata": {},
   "source": [
    "# Decision tree"
   ]
  },
  {
   "cell_type": "code",
   "execution_count": null,
   "metadata": {},
   "outputs": [],
   "source": []
  },
  {
   "cell_type": "code",
   "execution_count": 62,
   "metadata": {},
   "outputs": [
    {
     "ename": "KeyError",
     "evalue": "\"None of [Index(['riskFactor', 'area', 'young_farmer'], dtype='object')] are in the [columns]\"",
     "output_type": "error",
     "traceback": [
      "\u001b[0;31m---------------------------------------------------------------------------\u001b[0m",
      "\u001b[0;31mKeyError\u001b[0m                                  Traceback (most recent call last)",
      "\u001b[0;32m<ipython-input-62-741eff4ee841>\u001b[0m in \u001b[0;36m<module>\u001b[0;34m\u001b[0m\n\u001b[0;32m----> 1\u001b[0;31m \u001b[0mX\u001b[0m\u001b[0;34m,\u001b[0m \u001b[0my\u001b[0m\u001b[0;34m,\u001b[0m \u001b[0mclass_names\u001b[0m \u001b[0;34m=\u001b[0m \u001b[0mdecision_mining\u001b[0m\u001b[0;34m.\u001b[0m\u001b[0mapply\u001b[0m\u001b[0;34m(\u001b[0m\u001b[0mdf_2\u001b[0m\u001b[0;34m,\u001b[0m \u001b[0mnet\u001b[0m\u001b[0;34m,\u001b[0m \u001b[0minitial_marking\u001b[0m\u001b[0;34m,\u001b[0m \u001b[0mfinal_marking\u001b[0m\u001b[0;34m,\u001b[0m \u001b[0mdecision_point\u001b[0m\u001b[0;34m=\u001b[0m\u001b[0;34m\"p_15\"\u001b[0m\u001b[0;34m)\u001b[0m\u001b[0;34m\u001b[0m\u001b[0;34m\u001b[0m\u001b[0m\n\u001b[0m",
      "\u001b[0;32m~/.local/lib/python3.8/site-packages/pm4py/algo/enhancement/decision/algorithm.py\u001b[0m in \u001b[0;36mapply\u001b[0;34m(log, net, initial_marking, final_marking, decision_point, attributes, parameters)\u001b[0m\n\u001b[1;32m    116\u001b[0m         \u001b[0my\u001b[0m\u001b[0;34m.\u001b[0m\u001b[0mappend\u001b[0m\u001b[0;34m(\u001b[0m\u001b[0mel\u001b[0m\u001b[0;34m[\u001b[0m\u001b[0;36m1\u001b[0m\u001b[0;34m]\u001b[0m\u001b[0;34m)\u001b[0m\u001b[0;34m\u001b[0m\u001b[0;34m\u001b[0m\u001b[0m\n\u001b[1;32m    117\u001b[0m     \u001b[0mX\u001b[0m \u001b[0;34m=\u001b[0m \u001b[0mpd\u001b[0m\u001b[0;34m.\u001b[0m\u001b[0mDataFrame\u001b[0m\u001b[0;34m(\u001b[0m\u001b[0mx\u001b[0m\u001b[0;34m)\u001b[0m\u001b[0;34m\u001b[0m\u001b[0;34m\u001b[0m\u001b[0m\n\u001b[0;32m--> 118\u001b[0;31m     \u001b[0mX\u001b[0m \u001b[0;34m=\u001b[0m \u001b[0mpd\u001b[0m\u001b[0;34m.\u001b[0m\u001b[0mget_dummies\u001b[0m\u001b[0;34m(\u001b[0m\u001b[0mdata\u001b[0m\u001b[0;34m=\u001b[0m\u001b[0mX\u001b[0m\u001b[0;34m,\u001b[0m \u001b[0mcolumns\u001b[0m\u001b[0;34m=\u001b[0m\u001b[0mx_attributes\u001b[0m\u001b[0;34m)\u001b[0m\u001b[0;34m\u001b[0m\u001b[0;34m\u001b[0m\u001b[0m\n\u001b[0m\u001b[1;32m    119\u001b[0m     \u001b[0mY\u001b[0m \u001b[0;34m=\u001b[0m \u001b[0mpd\u001b[0m\u001b[0;34m.\u001b[0m\u001b[0mDataFrame\u001b[0m\u001b[0;34m(\u001b[0m\u001b[0my\u001b[0m\u001b[0;34m,\u001b[0m \u001b[0mcolumns\u001b[0m\u001b[0;34m=\u001b[0m\u001b[0;34m[\u001b[0m\u001b[0;34m\"Name\"\u001b[0m\u001b[0;34m]\u001b[0m\u001b[0;34m)\u001b[0m\u001b[0;34m\u001b[0m\u001b[0;34m\u001b[0m\u001b[0m\n\u001b[1;32m    120\u001b[0m     \u001b[0mY\u001b[0m\u001b[0;34m,\u001b[0m \u001b[0mtargets\u001b[0m \u001b[0;34m=\u001b[0m \u001b[0mencode_target\u001b[0m\u001b[0;34m(\u001b[0m\u001b[0mY\u001b[0m\u001b[0;34m,\u001b[0m \u001b[0;34m\"Name\"\u001b[0m\u001b[0;34m)\u001b[0m\u001b[0;34m\u001b[0m\u001b[0;34m\u001b[0m\u001b[0m\n",
      "\u001b[0;32m~/.local/lib/python3.8/site-packages/pandas/core/reshape/reshape.py\u001b[0m in \u001b[0;36mget_dummies\u001b[0;34m(data, prefix, prefix_sep, dummy_na, columns, sparse, drop_first, dtype)\u001b[0m\n\u001b[1;32m    866\u001b[0m             \u001b[0;32mraise\u001b[0m \u001b[0mTypeError\u001b[0m\u001b[0;34m(\u001b[0m\u001b[0;34m\"Input must be a list-like for parameter `columns`\"\u001b[0m\u001b[0;34m)\u001b[0m\u001b[0;34m\u001b[0m\u001b[0;34m\u001b[0m\u001b[0m\n\u001b[1;32m    867\u001b[0m         \u001b[0;32melse\u001b[0m\u001b[0;34m:\u001b[0m\u001b[0;34m\u001b[0m\u001b[0;34m\u001b[0m\u001b[0m\n\u001b[0;32m--> 868\u001b[0;31m             \u001b[0mdata_to_encode\u001b[0m \u001b[0;34m=\u001b[0m \u001b[0mdata\u001b[0m\u001b[0;34m[\u001b[0m\u001b[0mcolumns\u001b[0m\u001b[0;34m]\u001b[0m\u001b[0;34m\u001b[0m\u001b[0;34m\u001b[0m\u001b[0m\n\u001b[0m\u001b[1;32m    869\u001b[0m \u001b[0;34m\u001b[0m\u001b[0m\n\u001b[1;32m    870\u001b[0m         \u001b[0;31m# validate prefixes and separator to avoid silently dropping cols\u001b[0m\u001b[0;34m\u001b[0m\u001b[0;34m\u001b[0m\u001b[0;34m\u001b[0m\u001b[0m\n",
      "\u001b[0;32m~/.local/lib/python3.8/site-packages/pandas/core/frame.py\u001b[0m in \u001b[0;36m__getitem__\u001b[0;34m(self, key)\u001b[0m\n\u001b[1;32m   2804\u001b[0m             \u001b[0;32mif\u001b[0m \u001b[0mis_iterator\u001b[0m\u001b[0;34m(\u001b[0m\u001b[0mkey\u001b[0m\u001b[0;34m)\u001b[0m\u001b[0;34m:\u001b[0m\u001b[0;34m\u001b[0m\u001b[0;34m\u001b[0m\u001b[0m\n\u001b[1;32m   2805\u001b[0m                 \u001b[0mkey\u001b[0m \u001b[0;34m=\u001b[0m \u001b[0mlist\u001b[0m\u001b[0;34m(\u001b[0m\u001b[0mkey\u001b[0m\u001b[0;34m)\u001b[0m\u001b[0;34m\u001b[0m\u001b[0;34m\u001b[0m\u001b[0m\n\u001b[0;32m-> 2806\u001b[0;31m             \u001b[0mindexer\u001b[0m \u001b[0;34m=\u001b[0m \u001b[0mself\u001b[0m\u001b[0;34m.\u001b[0m\u001b[0mloc\u001b[0m\u001b[0;34m.\u001b[0m\u001b[0m_get_listlike_indexer\u001b[0m\u001b[0;34m(\u001b[0m\u001b[0mkey\u001b[0m\u001b[0;34m,\u001b[0m \u001b[0maxis\u001b[0m\u001b[0;34m=\u001b[0m\u001b[0;36m1\u001b[0m\u001b[0;34m,\u001b[0m \u001b[0mraise_missing\u001b[0m\u001b[0;34m=\u001b[0m\u001b[0;32mTrue\u001b[0m\u001b[0;34m)\u001b[0m\u001b[0;34m[\u001b[0m\u001b[0;36m1\u001b[0m\u001b[0;34m]\u001b[0m\u001b[0;34m\u001b[0m\u001b[0;34m\u001b[0m\u001b[0m\n\u001b[0m\u001b[1;32m   2807\u001b[0m \u001b[0;34m\u001b[0m\u001b[0m\n\u001b[1;32m   2808\u001b[0m         \u001b[0;31m# take() does not accept boolean indexers\u001b[0m\u001b[0;34m\u001b[0m\u001b[0;34m\u001b[0m\u001b[0;34m\u001b[0m\u001b[0m\n",
      "\u001b[0;32m~/.local/lib/python3.8/site-packages/pandas/core/indexing.py\u001b[0m in \u001b[0;36m_get_listlike_indexer\u001b[0;34m(self, key, axis, raise_missing)\u001b[0m\n\u001b[1;32m   1550\u001b[0m             \u001b[0mkeyarr\u001b[0m\u001b[0;34m,\u001b[0m \u001b[0mindexer\u001b[0m\u001b[0;34m,\u001b[0m \u001b[0mnew_indexer\u001b[0m \u001b[0;34m=\u001b[0m \u001b[0max\u001b[0m\u001b[0;34m.\u001b[0m\u001b[0m_reindex_non_unique\u001b[0m\u001b[0;34m(\u001b[0m\u001b[0mkeyarr\u001b[0m\u001b[0;34m)\u001b[0m\u001b[0;34m\u001b[0m\u001b[0;34m\u001b[0m\u001b[0m\n\u001b[1;32m   1551\u001b[0m \u001b[0;34m\u001b[0m\u001b[0m\n\u001b[0;32m-> 1552\u001b[0;31m         self._validate_read_indexer(\n\u001b[0m\u001b[1;32m   1553\u001b[0m             \u001b[0mkeyarr\u001b[0m\u001b[0;34m,\u001b[0m \u001b[0mindexer\u001b[0m\u001b[0;34m,\u001b[0m \u001b[0mo\u001b[0m\u001b[0;34m.\u001b[0m\u001b[0m_get_axis_number\u001b[0m\u001b[0;34m(\u001b[0m\u001b[0maxis\u001b[0m\u001b[0;34m)\u001b[0m\u001b[0;34m,\u001b[0m \u001b[0mraise_missing\u001b[0m\u001b[0;34m=\u001b[0m\u001b[0mraise_missing\u001b[0m\u001b[0;34m\u001b[0m\u001b[0;34m\u001b[0m\u001b[0m\n\u001b[1;32m   1554\u001b[0m         )\n",
      "\u001b[0;32m~/.local/lib/python3.8/site-packages/pandas/core/indexing.py\u001b[0m in \u001b[0;36m_validate_read_indexer\u001b[0;34m(self, key, indexer, axis, raise_missing)\u001b[0m\n\u001b[1;32m   1638\u001b[0m             \u001b[0;32mif\u001b[0m \u001b[0mmissing\u001b[0m \u001b[0;34m==\u001b[0m \u001b[0mlen\u001b[0m\u001b[0;34m(\u001b[0m\u001b[0mindexer\u001b[0m\u001b[0;34m)\u001b[0m\u001b[0;34m:\u001b[0m\u001b[0;34m\u001b[0m\u001b[0;34m\u001b[0m\u001b[0m\n\u001b[1;32m   1639\u001b[0m                 \u001b[0maxis_name\u001b[0m \u001b[0;34m=\u001b[0m \u001b[0mself\u001b[0m\u001b[0;34m.\u001b[0m\u001b[0mobj\u001b[0m\u001b[0;34m.\u001b[0m\u001b[0m_get_axis_name\u001b[0m\u001b[0;34m(\u001b[0m\u001b[0maxis\u001b[0m\u001b[0;34m)\u001b[0m\u001b[0;34m\u001b[0m\u001b[0;34m\u001b[0m\u001b[0m\n\u001b[0;32m-> 1640\u001b[0;31m                 \u001b[0;32mraise\u001b[0m \u001b[0mKeyError\u001b[0m\u001b[0;34m(\u001b[0m\u001b[0;34mf\"None of [{key}] are in the [{axis_name}]\"\u001b[0m\u001b[0;34m)\u001b[0m\u001b[0;34m\u001b[0m\u001b[0;34m\u001b[0m\u001b[0m\n\u001b[0m\u001b[1;32m   1641\u001b[0m \u001b[0;34m\u001b[0m\u001b[0m\n\u001b[1;32m   1642\u001b[0m             \u001b[0;31m# We (temporarily) allow for some missing keys with .loc, except in\u001b[0m\u001b[0;34m\u001b[0m\u001b[0;34m\u001b[0m\u001b[0;34m\u001b[0m\u001b[0m\n",
      "\u001b[0;31mKeyError\u001b[0m: \"None of [Index(['riskFactor', 'area', 'young_farmer'], dtype='object')] are in the [columns]\""
     ]
    }
   ],
   "source": [
    "X, y, class_names = decision_mining.apply(df_2, net, initial_marking, final_marking, decision_point=\"p_15\")"
   ]
  },
  {
   "cell_type": "code",
   "execution_count": null,
   "metadata": {},
   "outputs": [],
   "source": []
  },
  {
   "cell_type": "code",
   "execution_count": null,
   "metadata": {},
   "outputs": [],
   "source": []
  },
  {
   "cell_type": "code",
   "execution_count": null,
   "metadata": {},
   "outputs": [],
   "source": []
  },
  {
   "cell_type": "code",
   "execution_count": null,
   "metadata": {},
   "outputs": [],
   "source": []
  },
  {
   "cell_type": "code",
   "execution_count": null,
   "metadata": {},
   "outputs": [],
   "source": []
  },
  {
   "cell_type": "code",
   "execution_count": null,
   "metadata": {},
   "outputs": [],
   "source": []
  },
  {
   "cell_type": "code",
   "execution_count": null,
   "metadata": {},
   "outputs": [],
   "source": []
  },
  {
   "cell_type": "code",
   "execution_count": null,
   "metadata": {},
   "outputs": [],
   "source": []
  },
  {
   "cell_type": "code",
   "execution_count": null,
   "metadata": {},
   "outputs": [],
   "source": []
  },
  {
   "cell_type": "code",
   "execution_count": null,
   "metadata": {},
   "outputs": [],
   "source": []
  },
  {
   "cell_type": "code",
   "execution_count": null,
   "metadata": {},
   "outputs": [],
   "source": []
  },
  {
   "cell_type": "code",
   "execution_count": null,
   "metadata": {},
   "outputs": [],
   "source": []
  },
  {
   "cell_type": "code",
   "execution_count": null,
   "metadata": {},
   "outputs": [],
   "source": []
  },
  {
   "cell_type": "markdown",
   "metadata": {},
   "source": [
    "# PyDREAM Library"
   ]
  },
  {
   "cell_type": "code",
   "execution_count": null,
   "metadata": {},
   "outputs": [],
   "source": [
    "# Save the one-hot encoding for use in the model\n",
    "def convert_ndarray_to_list(array, path='model-path/MODEL-NAME_nap_onehotdict.json'):\n",
    "    lists = array.tolist()\n",
    "    Path(path).touch(exist_ok=True)\n",
    "    with open(path, \"w\") as file:\n",
    "        json.dump(lists, file)\n",
    "        \n",
    "convert_ndarray_to_list(data)"
   ]
  },
  {
   "cell_type": "code",
   "execution_count": null,
   "metadata": {},
   "outputs": [],
   "source": []
  },
  {
   "cell_type": "code",
   "execution_count": null,
   "metadata": {},
   "outputs": [],
   "source": [
    "event_log[0][1]"
   ]
  },
  {
   "cell_type": "code",
   "execution_count": null,
   "metadata": {},
   "outputs": [],
   "source": [
    "data[6]"
   ]
  },
  {
   "cell_type": "code",
   "execution_count": null,
   "metadata": {},
   "outputs": [],
   "source": [
    "def add_next_event(self, df):\n",
    "        unique_case_ids = df[\"Case ID\"].unique()\n",
    "        for case in unique_case_ids:\n",
    "\n",
    "df.loc[df[\"Case ID\"] == \"8b99873a6136cfa6\"]"
   ]
  },
  {
   "cell_type": "code",
   "execution_count": null,
   "metadata": {},
   "outputs": [],
   "source": [
    "net, im, fm = heuristics_miner.apply(event_log, parameters={\"dependency_thresh\": 0.99})\n",
    "pnml_exporter.export_net(net, im, \"discovered_pn.pnml\")"
   ]
  },
  {
   "cell_type": "code",
   "execution_count": 293,
   "metadata": {},
   "outputs": [],
   "source": [
    "# load the heuristics miner petrinet from Q1\n",
    "net, initial_marking, final_marking = pnml_importer.import_net(\"discovered_pn.pnml\")"
   ]
  },
  {
   "cell_type": "code",
   "execution_count": null,
   "metadata": {},
   "outputs": [],
   "source": [
    "# enhance the log with decay functions\n",
    "log_wrapper = LogWrapper(event_log, resources=[\"Categorized_Activity\"])\n",
    "enhanced_pn = EnhancedPN(net, initial_marking)\n",
    "enhanced_pn.enhance(log_wrapper)\n",
    "enhanced_pn.saveToFile(\"enhanced_discovered_pn.json\")"
   ]
  },
  {
   "cell_type": "code",
   "execution_count": null,
   "metadata": {},
   "outputs": [],
   "source": [
    "# open enhanced petri net\n",
    "enhanced_pn = EnhancedPN(net, initial_marking, decay_function_file=\"enhanced_discovered_pn.json\")\n",
    "tss_json, tss_objs = enhanced_pn.decay_replay(log_wrapper=log_wrapper)"
   ]
  },
  {
   "cell_type": "code",
   "execution_count": null,
   "metadata": {
    "scrolled": true
   },
   "outputs": [],
   "source": [
    "dir(enhanced_pn.net)"
   ]
  },
  {
   "cell_type": "code",
   "execution_count": null,
   "metadata": {},
   "outputs": [],
   "source": [
    "with open(\"timedstatesamples.json\", 'w') as fp:\n",
    "    json.dump(tss_json, fp)"
   ]
  },
  {
   "cell_type": "code",
   "execution_count": null,
   "metadata": {},
   "outputs": [],
   "source": [
    "algo = NAPr(tss_train_file=\"timedstatesamples.json\", tss_test_file=\"timedstatesamples.json\", options={\"n_epochs\" : 10})"
   ]
  },
  {
   "cell_type": "code",
   "execution_count": null,
   "metadata": {},
   "outputs": [],
   "source": [
    "algo.train(checkpoint_path=\"model-path\", name=\"MODEL-NAME\", save_results=True)"
   ]
  },
  {
   "cell_type": "code",
   "execution_count": null,
   "metadata": {},
   "outputs": [],
   "source": [
    "# load the model\n",
    "algo.loadModel(path=\"model-path\", name=\"MODEL-NAME\")"
   ]
  },
  {
   "cell_type": "code",
   "execution_count": null,
   "metadata": {},
   "outputs": [],
   "source": [
    "# predict values\n",
    "nap_out, string_out = algo.predict(tss_objs)"
   ]
  },
  {
   "cell_type": "code",
   "execution_count": null,
   "metadata": {},
   "outputs": [],
   "source": [
    "tss_objs[4].data.items()\n",
    "print(dir(tss_objs[4]))"
   ]
  },
  {
   "cell_type": "code",
   "execution_count": null,
   "metadata": {
    "scrolled": true
   },
   "outputs": [],
   "source": [
    "# visualize petri net\n",
    "gviz = visualizer.apply(enhanced_pn.net, initial_marking, final_marking, parameters={visualizer.Variants.WO_DECORATION.value.Parameters.DEBUG: True})\n",
    "visualizer.view(gviz)"
   ]
  },
  {
   "cell_type": "code",
   "execution_count": null,
   "metadata": {
    "scrolled": true
   },
   "outputs": [],
   "source": [
    "transitions = net.transitions\n",
    "# print(len(transitions.difference()))\n",
    "# print(dir(transitions.__xor__(\"hid_142\")))\n",
    "enhanced_pn.net.places\n",
    "# for place in net.places:\n",
    "#     print(\"\\nPLACE: \"+ place.name)\n",
    "#     for arc in place.in_arcs:\n",
    "#         print(arc.source.name, arc.source.label)"
   ]
  },
  {
   "cell_type": "code",
   "execution_count": null,
   "metadata": {},
   "outputs": [],
   "source": [
    "tss_loaded_objs[0]"
   ]
  },
  {
   "cell_type": "code",
   "execution_count": null,
   "metadata": {},
   "outputs": [],
   "source": [
    "tss_loaded_objs = loadTimedStateSamples(\"timedstatesamples.json\")\n",
    "nap_out, string_out = algo.predict([tss_loaded_objs[12]])"
   ]
  },
  {
   "cell_type": "code",
   "execution_count": null,
   "metadata": {},
   "outputs": [],
   "source": [
    "if __name__== \"__main__\":\n",
    "    log = xes_import_factory.apply('YOUR_EVENTLOG.xes')\n",
    "\n",
    "    net, im, fm = heuristics_miner.apply(log, parameters={\"dependency_thresh\": 0.99})\n",
    "    pnml_exporter.export_net(net, im, \"discovered_pn.pnml\")\n",
    "\n",
    "    net, initial_marking, final_marking = pnml_importer.import_net(\"discovered_pn.pnml\")\n",
    "\n",
    "    log_wrapper = LogWrapper(log)\n",
    "    enhanced_pn = EnhancedPN(net, initial_marking)\n",
    "    enhanced_pn.enhance(log_wrapper)\n",
    "    enhanced_pn.saveToFile(\"enhanced_discovered_pn.json\")\n",
    "\n",
    "    enhanced_pn = EnhancedPN(net, initial_marking, decay_function_file=\"enhanced_discovered_pn.json\")\n",
    "    tss_json, tss_objs = enhanced_pn.decay_replay(log_wrapper=log_wrapper)\n",
    "\n",
    "    with open(\"timedstatesamples.json\", 'w') as fp:\n",
    "        json.dump(tss_json, fp)\n",
    "\n",
    "    algo = NAP(tss_train_file=\"timedstatesamples.json\", tss_test_file=\"timedstatesamples.json\", options={\"n_epochs\" : 100})\n",
    "    algo.train(checkpoint_path=\"model-path\", name=\"MODEL-NAME\", save_results=True)\n",
    "\n",
    "    algo = NAP()\n",
    "    algo.loadModel(path=\"model-path\", name=\"MODEL-NAME\")\n",
    "\n",
    "    nap_out, string_out = algo.predict(tss_objs)\n",
    "\n",
    "    tss_loaded_objs = loadTimedStateSamples(\"timedstatesamples.json\")\n",
    "    nap_out, string_out = algo.predict(tss_loaded_objs)"
   ]
  },
  {
   "cell_type": "code",
   "execution_count": null,
   "metadata": {},
   "outputs": [],
   "source": []
  },
  {
   "cell_type": "markdown",
   "metadata": {},
   "source": [
    "## Decision tree"
   ]
  },
  {
   "cell_type": "code",
   "execution_count": null,
   "metadata": {},
   "outputs": [],
   "source": [
    "from pm4py.algo.enhancement.decision import algorithm as decision_mining\n",
    "X, y, class_names = decision_mining.apply(event_log, enhanced_pn.net, im, fm, decision_point=\"discard\")"
   ]
  },
  {
   "cell_type": "code",
   "execution_count": null,
   "metadata": {},
   "outputs": [],
   "source": [
    "\n",
    "clf, feature_names, classes = decision_mining.get_decision_tree(df_1, net, im, fm, decision_point=\"pre_calculate\")"
   ]
  },
  {
   "cell_type": "code",
   "execution_count": null,
   "metadata": {},
   "outputs": [],
   "source": []
  },
  {
   "cell_type": "code",
   "execution_count": null,
   "metadata": {},
   "outputs": [],
   "source": []
  },
  {
   "cell_type": "code",
   "execution_count": null,
   "metadata": {},
   "outputs": [],
   "source": []
  },
  {
   "cell_type": "code",
   "execution_count": null,
   "metadata": {},
   "outputs": [],
   "source": []
  },
  {
   "cell_type": "code",
   "execution_count": null,
   "metadata": {},
   "outputs": [],
   "source": []
  },
  {
   "cell_type": "code",
   "execution_count": null,
   "metadata": {},
   "outputs": [],
   "source": []
  },
  {
   "cell_type": "code",
   "execution_count": null,
   "metadata": {},
   "outputs": [],
   "source": []
  },
  {
   "cell_type": "code",
   "execution_count": null,
   "metadata": {},
   "outputs": [],
   "source": []
  },
  {
   "cell_type": "code",
   "execution_count": null,
   "metadata": {
    "scrolled": true
   },
   "outputs": [],
   "source": [
    "# create the mapping\n",
    "mapping = create_activity_categories(df_1)\n",
    "\n",
    "# append column with new mapping to our old dataframe\n",
    "add_mapping_to_df(df_1)\n",
    "\n",
    "#output first 5 results\n",
    "df_1.tail()"
   ]
  },
  {
   "cell_type": "code",
   "execution_count": null,
   "metadata": {
    "scrolled": true
   },
   "outputs": [],
   "source": [
    "csv = df_1.to_csv(\"df_1.csv\")\n",
    "\n",
    "#event_stream = csv_importer.import_event_stream(os.path.join(\"tests\", \"input_data\", \"running-example.csv\"))\n",
    "log_csv = pd.read_csv('df_1.csv', sep=',')\n",
    "log_csv = dataframe_utils.convert_timestamp_columns_in_df(log_csv)\n",
    "log_csv = log_csv.sort_values('time:timestamp')\n",
    "event_log = log_converter.apply(log_csv)\n",
    "\n",
    "# automatic feature selection on the event log\n",
    "\"\"\"Results in 10 features that will be one hot encoded and used to traint the model\"\"\"\n",
    "\"\"\" 8 out of 21 categories were considered important, together with index (so not timestamp) which is because\n",
    "the traces were already sorted on timestamp. Lastly the Unnamed 0 feature from the event log. \n",
    "\n",
    "\"\"\"\n",
    "# data, feature_names = get_log_representation.get_default_representation(event_log)\n",
    "# feature_names"
   ]
  },
  {
   "cell_type": "code",
   "execution_count": null,
   "metadata": {},
   "outputs": [],
   "source": [
    "event_log[0][0]"
   ]
  },
  {
   "cell_type": "code",
   "execution_count": null,
   "metadata": {
    "scrolled": true
   },
   "outputs": [],
   "source": [
    "info_dict = {}\n",
    "for trace in event_log[0]:\n",
    "    print(trace)"
   ]
  },
  {
   "cell_type": "code",
   "execution_count": null,
   "metadata": {},
   "outputs": [],
   "source": [
    "{'Unnamed: 0': 0, 'index': 25616, \n",
    " 'Activity': 'Payment application-Application-mail income', \n",
    " 'time:timestamp': Timestamp('2015-04-15 00:00:00+0000', tz='UTC'), \n",
    " 'Categorized_Activity': 'Start_Payment', 'doctype': 'Payment application', 'concept:name': 'mail income'}"
   ]
  },
  {
   "cell_type": "code",
   "execution_count": null,
   "metadata": {},
   "outputs": [],
   "source": [
    "totals = []\n",
    "for trace in event_log:\n",
    "    for event in trace:\n",
    "        totals.append(event)"
   ]
  },
  {
   "cell_type": "code",
   "execution_count": null,
   "metadata": {},
   "outputs": [],
   "source": [
    "len(totals)"
   ]
  },
  {
   "cell_type": "code",
   "execution_count": null,
   "metadata": {},
   "outputs": [],
   "source": [
    "data[0]"
   ]
  },
  {
   "cell_type": "code",
   "execution_count": null,
   "metadata": {},
   "outputs": [],
   "source": [
    "event_log"
   ]
  },
  {
   "cell_type": "code",
   "execution_count": null,
   "metadata": {},
   "outputs": [],
   "source": [
    "# Save the one-hot encoding for use in the model\n",
    "def convert_ndarray_to_list(array, path='model-path/MODEL-NAME_nap_onehotdict.json'):\n",
    "    lists = array.tolist()\n",
    "    Path(path).touch(exist_ok=True)\n",
    "    with open(path, \"w\") as file:\n",
    "        json.dump(lists, file)\n",
    "        \n",
    "convert_ndarray_to_list(data)"
   ]
  },
  {
   "cell_type": "code",
   "execution_count": null,
   "metadata": {},
   "outputs": [],
   "source": []
  },
  {
   "cell_type": "code",
   "execution_count": null,
   "metadata": {},
   "outputs": [],
   "source": [
    "event_log[0][1]"
   ]
  },
  {
   "cell_type": "code",
   "execution_count": null,
   "metadata": {},
   "outputs": [],
   "source": [
    "data[6]"
   ]
  },
  {
   "cell_type": "code",
   "execution_count": null,
   "metadata": {},
   "outputs": [],
   "source": [
    "def add_next_event(self, df):\n",
    "        unique_case_ids = df[\"Case ID\"].unique()\n",
    "        for case in unique_case_ids:\n",
    "\n",
    "df.loc[df[\"Case ID\"] == \"8b99873a6136cfa6\"]"
   ]
  },
  {
   "cell_type": "code",
   "execution_count": null,
   "metadata": {},
   "outputs": [],
   "source": [
    "net, im, fm = heuristics_miner.apply(event_log, parameters={\"dependency_thresh\": 0.99})\n",
    "pnml_exporter.export_net(net, im, \"discovered_pn.pnml\")"
   ]
  },
  {
   "cell_type": "code",
   "execution_count": null,
   "metadata": {},
   "outputs": [],
   "source": [
    "# load the heuristics miner petrinet from Q1\n",
    "net, initial_marking, final_marking = pnml_importer.import_net(\"discovered_pn.pnml\")"
   ]
  },
  {
   "cell_type": "code",
   "execution_count": null,
   "metadata": {},
   "outputs": [],
   "source": [
    "# enhance the log with decay functions\n",
    "log_wrapper = LogWrapper(event_log, resources=[\"Categorized_Activity\"])\n",
    "enhanced_pn = EnhancedPN(net, initial_marking)\n",
    "enhanced_pn.enhance(log_wrapper)\n",
    "enhanced_pn.saveToFile(\"enhanced_discovered_pn.json\")"
   ]
  },
  {
   "cell_type": "code",
   "execution_count": null,
   "metadata": {},
   "outputs": [],
   "source": [
    "# open enhanced petri net\n",
    "enhanced_pn = EnhancedPN(net, initial_marking, decay_function_file=\"enhanced_discovered_pn.json\")\n",
    "tss_json, tss_objs = enhanced_pn.decay_replay(log_wrapper=log_wrapper)"
   ]
  },
  {
   "cell_type": "code",
   "execution_count": null,
   "metadata": {
    "scrolled": true
   },
   "outputs": [],
   "source": [
    "dir(enhanced_pn.net)"
   ]
  },
  {
   "cell_type": "code",
   "execution_count": null,
   "metadata": {},
   "outputs": [],
   "source": [
    "with open(\"timedstatesamples.json\", 'w') as fp:\n",
    "    json.dump(tss_json, fp)"
   ]
  },
  {
   "cell_type": "code",
   "execution_count": null,
   "metadata": {},
   "outputs": [],
   "source": [
    "algo = NAPr(tss_train_file=\"timedstatesamples.json\", tss_test_file=\"timedstatesamples.json\", options={\"n_epochs\" : 10})"
   ]
  },
  {
   "cell_type": "code",
   "execution_count": null,
   "metadata": {},
   "outputs": [],
   "source": [
    "algo.train(checkpoint_path=\"model-path\", name=\"MODEL-NAME\", save_results=True)"
   ]
  },
  {
   "cell_type": "code",
   "execution_count": null,
   "metadata": {},
   "outputs": [],
   "source": [
    "# load the model\n",
    "algo.loadModel(path=\"model-path\", name=\"MODEL-NAME\")"
   ]
  },
  {
   "cell_type": "code",
   "execution_count": null,
   "metadata": {},
   "outputs": [],
   "source": [
    "# predict values\n",
    "nap_out, string_out = algo.predict(tss_objs)"
   ]
  },
  {
   "cell_type": "code",
   "execution_count": null,
   "metadata": {},
   "outputs": [],
   "source": [
    "tss_objs[4].data.items()\n",
    "print(dir(tss_objs[4]))"
   ]
  },
  {
   "cell_type": "code",
   "execution_count": null,
   "metadata": {
    "scrolled": true
   },
   "outputs": [],
   "source": [
    "# visualize petri net\n",
    "gviz = visualizer.apply(enhanced_pn.net, initial_marking, final_marking, parameters={visualizer.Variants.WO_DECORATION.value.Parameters.DEBUG: True})\n",
    "visualizer.view(gviz)"
   ]
  },
  {
   "cell_type": "code",
   "execution_count": null,
   "metadata": {
    "scrolled": true
   },
   "outputs": [],
   "source": [
    "transitions = net.transitions\n",
    "# print(len(transitions.difference()))\n",
    "# print(dir(transitions.__xor__(\"hid_142\")))\n",
    "enhanced_pn.net.places\n",
    "# for place in net.places:\n",
    "#     print(\"\\nPLACE: \"+ place.name)\n",
    "#     for arc in place.in_arcs:\n",
    "#         print(arc.source.name, arc.source.label)"
   ]
  },
  {
   "cell_type": "code",
   "execution_count": null,
   "metadata": {},
   "outputs": [],
   "source": [
    "tss_loaded_objs[0]"
   ]
  },
  {
   "cell_type": "code",
   "execution_count": null,
   "metadata": {},
   "outputs": [],
   "source": [
    "tss_loaded_objs = loadTimedStateSamples(\"timedstatesamples.json\")\n",
    "nap_out, string_out = algo.predict([tss_loaded_objs[12]])"
   ]
  },
  {
   "cell_type": "code",
   "execution_count": null,
   "metadata": {},
   "outputs": [],
   "source": [
    "if __name__== \"__main__\":\n",
    "    log = xes_import_factory.apply('YOUR_EVENTLOG.xes')\n",
    "\n",
    "    net, im, fm = heuristics_miner.apply(log, parameters={\"dependency_thresh\": 0.99})\n",
    "    pnml_exporter.export_net(net, im, \"discovered_pn.pnml\")\n",
    "\n",
    "    net, initial_marking, final_marking = pnml_importer.import_net(\"discovered_pn.pnml\")\n",
    "\n",
    "    log_wrapper = LogWrapper(log)\n",
    "    enhanced_pn = EnhancedPN(net, initial_marking)\n",
    "    enhanced_pn.enhance(log_wrapper)\n",
    "    enhanced_pn.saveToFile(\"enhanced_discovered_pn.json\")\n",
    "\n",
    "    enhanced_pn = EnhancedPN(net, initial_marking, decay_function_file=\"enhanced_discovered_pn.json\")\n",
    "    tss_json, tss_objs = enhanced_pn.decay_replay(log_wrapper=log_wrapper)\n",
    "\n",
    "    with open(\"timedstatesamples.json\", 'w') as fp:\n",
    "        json.dump(tss_json, fp)\n",
    "\n",
    "    algo = NAP(tss_train_file=\"timedstatesamples.json\", tss_test_file=\"timedstatesamples.json\", options={\"n_epochs\" : 100})\n",
    "    algo.train(checkpoint_path=\"model-path\", name=\"MODEL-NAME\", save_results=True)\n",
    "\n",
    "    algo = NAP()\n",
    "    algo.loadModel(path=\"model-path\", name=\"MODEL-NAME\")\n",
    "\n",
    "    nap_out, string_out = algo.predict(tss_objs)\n",
    "\n",
    "    tss_loaded_objs = loadTimedStateSamples(\"timedstatesamples.json\")\n",
    "    nap_out, string_out = algo.predict(tss_loaded_objs)"
   ]
  },
  {
   "cell_type": "markdown",
   "metadata": {},
   "source": [
    "## Decision tree"
   ]
  },
  {
   "cell_type": "code",
   "execution_count": null,
   "metadata": {},
   "outputs": [],
   "source": []
  },
  {
   "cell_type": "code",
   "execution_count": null,
   "metadata": {},
   "outputs": [],
   "source": [
    "\n",
    "clf, feature_names, classes = decision_mining.get_decision_tree(df_1, net, im, fm, decision_point=\"pre_calculate\")"
   ]
  },
  {
   "cell_type": "code",
   "execution_count": null,
   "metadata": {},
   "outputs": [],
   "source": []
  },
  {
   "cell_type": "code",
   "execution_count": null,
   "metadata": {},
   "outputs": [],
   "source": []
  },
  {
   "cell_type": "code",
   "execution_count": null,
   "metadata": {},
   "outputs": [],
   "source": []
  },
  {
   "cell_type": "code",
   "execution_count": null,
   "metadata": {},
   "outputs": [],
   "source": []
  },
  {
   "cell_type": "code",
   "execution_count": null,
   "metadata": {},
   "outputs": [],
   "source": []
  },
  {
   "cell_type": "code",
   "execution_count": null,
   "metadata": {},
   "outputs": [],
   "source": []
  },
  {
   "cell_type": "code",
   "execution_count": null,
   "metadata": {},
   "outputs": [],
   "source": []
  },
  {
   "cell_type": "code",
   "execution_count": null,
   "metadata": {},
   "outputs": [],
   "source": []
  }
 ],
 "metadata": {
  "kernelspec": {
   "display_name": "Python 3",
   "language": "python",
   "name": "python3"
  },
  "language_info": {
   "codemirror_mode": {
    "name": "ipython",
    "version": 3
   },
   "file_extension": ".py",
   "mimetype": "text/x-python",
   "name": "python",
   "nbconvert_exporter": "python",
   "pygments_lexer": "ipython3",
   "version": "3.8.5"
  }
 },
 "nbformat": 4,
 "nbformat_minor": 4
}
