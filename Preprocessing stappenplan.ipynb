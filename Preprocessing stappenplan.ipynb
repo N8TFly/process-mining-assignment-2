{
 "cells": [
  {
   "cell_type": "markdown",
   "metadata": {},
   "source": [
    "### Stappenplan\n",
    "- Opletten dat de \"unfiltered\" dataset wordt gepakt\n",
    "- Label toevoegen aan de data\n",
    "- Determine types for columns (categorical, numerical, event/case)\n",
    "- Make a function to extract useful features from the timestamp data\n",
    "- Impute missing values\n",
    "- Set infrequent categorical variables to other\n",
    "- "
   ]
  }
 ],
 "metadata": {
  "kernelspec": {
   "display_name": "Python 3",
   "language": "python",
   "name": "python3"
  },
  "language_info": {
   "codemirror_mode": {
    "name": "ipython",
    "version": 3
   },
   "file_extension": ".py",
   "mimetype": "text/x-python",
   "name": "python",
   "nbconvert_exporter": "python",
   "pygments_lexer": "ipython3",
   "version": "3.8.3"
  }
 },
 "nbformat": 4,
 "nbformat_minor": 4
}
